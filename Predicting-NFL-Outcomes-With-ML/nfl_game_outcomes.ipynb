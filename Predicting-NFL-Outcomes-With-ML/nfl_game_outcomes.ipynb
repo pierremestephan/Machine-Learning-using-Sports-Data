{
 "metadata": {
  "language_info": {
   "codemirror_mode": {
    "name": "ipython",
    "version": 3
   },
   "file_extension": ".py",
   "mimetype": "text/x-python",
   "name": "python",
   "nbconvert_exporter": "python",
   "pygments_lexer": "ipython3",
   "version": "3.8.3-final"
  },
  "orig_nbformat": 2,
  "kernelspec": {
   "name": "python38332bit6d1402e1c1034531a3495dca05498510",
   "display_name": "Python 3.8.3 32-bit",
   "language": "python"
  }
 },
 "nbformat": 4,
 "nbformat_minor": 2,
 "cells": [
  {
   "cell_type": "code",
   "execution_count": 6,
   "metadata": {},
   "outputs": [],
   "source": [
    "import numpy as np\n",
    "import pandas as pd\n",
    "from sklearn.linear_model import LogisticRegression\n",
    "from sklearn.metrics import accuracy_score\n",
    "from sportsreference.nfl.boxscore import Boxscores, Boxscore\n",
    "from functions import display,get_schedule, game_data, game_data_up_to_week, agg_weekly_data, get_elo, merge_rankings, prep_test_train"
   ]
  },
  {
   "cell_type": "code",
   "execution_count": 2,
   "metadata": {},
   "outputs": [],
   "source": [
    "current_week = 17\n",
    "weeks = list(range(1,current_week + 1))\n",
    "year = 2020\n",
    "\n",
    "pred_games_df, comp_games_df = prep_test_train(current_week, weeks, year)"
   ]
  },
  {
   "cell_type": "code",
   "execution_count": 3,
   "metadata": {},
   "outputs": [],
   "source": [
    "msk = np.random.rand(len(comp_games_df)) < 0.8\n",
    "\n",
    "train_df = comp_games_df[msk]\n",
    "test_df = comp_games_df[~msk]\n",
    "\n",
    "X_train = train_df.drop(columns = ['away_name', 'away_abbr', 'home_name', 'home_abbr', 'week','result'])\n",
    "y_train = train_df[['result']] \n",
    "X_test = test_df.drop(columns = ['away_name', 'away_abbr', 'home_name', 'home_abbr', 'week','result'])\n",
    "y_test = test_df[['result']]"
   ]
  },
  {
   "source": [
    "Reviewing Logistic Regression"
   ],
   "cell_type": "markdown",
   "metadata": {}
  },
  {
   "cell_type": "code",
   "execution_count": 4,
   "metadata": {},
   "outputs": [
    {
     "output_type": "stream",
     "name": "stdout",
     "text": [
      "The Cincinnati Bengals have a probability of 0.19 of beating the Cleveland Browns.\n",
      "The Carolina Panthers have a probability of 0.83 of beating the Tampa Bay Buccaneers.\n",
      "The Detroit Lions have a probability of 0.03 of beating the Green Bay Packers.\n",
      "The Atlanta Falcons have a probability of 0.85 of beating the Dallas Cowboys.\n",
      "The Kansas City Chiefs have a probability of 1.0 of beating the Los Angeles Chargers.\n",
      "The Los Angeles Rams have a probability of 0.41 of beating the Buffalo Bills.\n",
      "The Washington Football Team have a probability of 0.09 of beating the Cleveland Browns.\n",
      "The Green Bay Packers have a probability of 0.85 of beating the New Orleans Saints.\n",
      "The Kansas City Chiefs have a probability of 0.65 of beating the Baltimore Ravens.\n",
      "The Minnesota Vikings have a probability of 0.69 of beating the Houston Texans.\n",
      "The Buffalo Bills have a probability of 0.46 of beating the Las Vegas Raiders.\n",
      "The Philadelphia Eagles have a probability of 0.29 of beating the San Francisco 49ers.\n",
      "The Carolina Panthers have a probability of 0.6 of beating the Atlanta Falcons.\n",
      "The Jacksonville Jaguars have a probability of 0.71 of beating the Houston Texans.\n",
      "The New York Giants have a probability of 0.35 of beating the Dallas Cowboys.\n",
      "The Minnesota Vikings have a probability of 0.2 of beating the Seattle Seahawks.\n",
      "The Buffalo Bills have a probability of 0.79 of beating the Tennessee Titans.\n",
      "The Detroit Lions have a probability of 0.58 of beating the Jacksonville Jaguars.\n",
      "The Chicago Bears have a probability of 0.5 of beating the Carolina Panthers.\n",
      "The Los Angeles Rams have a probability of 0.74 of beating the San Francisco 49ers.\n",
      "The Detroit Lions have a probability of 0.45 of beating the Atlanta Falcons.\n",
      "The Green Bay Packers have a probability of 0.93 of beating the Houston Texans.\n",
      "The Jacksonville Jaguars have a probability of 0.65 of beating the Los Angeles Chargers.\n",
      "The Seattle Seahawks have a probability of 0.68 of beating the Arizona Cardinals.\n",
      "The Indianapolis Colts have a probability of 0.61 of beating the Detroit Lions.\n",
      "The Tennessee Titans have a probability of 0.82 of beating the Cincinnati Bengals.\n",
      "The San Francisco 49ers have a probability of 0.26 of beating the Seattle Seahawks.\n",
      "The Seattle Seahawks have a probability of 0.58 of beating the Buffalo Bills.\n",
      "The Denver Broncos have a probability of 0.31 of beating the Atlanta Falcons.\n",
      "The New England Patriots have a probability of 0.87 of beating the New York Jets.\n",
      "The Seattle Seahawks have a probability of 0.58 of beating the Los Angeles Rams.\n",
      "The Cincinnati Bengals have a probability of 0.14 of beating the Pittsburgh Steelers.\n",
      "The Arizona Cardinals have a probability of 0.5 of beating the Seattle Seahawks.\n",
      "The New England Patriots have a probability of 0.71 of beating the Houston Texans.\n",
      "The Houston Texans have a probability of 0.57 of beating the Detroit Lions.\n",
      "The Carolina Panthers have a probability of 0.57 of beating the Minnesota Vikings.\n",
      "The Cleveland Browns have a probability of 0.64 of beating the Jacksonville Jaguars.\n",
      "The Tennessee Titans have a probability of 0.48 of beating the Indianapolis Colts.\n",
      "The Cleveland Browns have a probability of 0.33 of beating the Tennessee Titans.\n",
      "The Cincinnati Bengals have a probability of 0.28 of beating the Miami Dolphins.\n",
      "The Indianapolis Colts have a probability of 0.65 of beating the Houston Texans.\n",
      "The Green Bay Packers have a probability of 0.92 of beating the Detroit Lions.\n",
      "The Los Angeles Chargers have a probability of 0.26 of beating the Las Vegas Raiders.\n",
      "The Carolina Panthers have a probability of 0.16 of beating the Green Bay Packers.\n",
      "The Jacksonville Jaguars have a probability of 0.25 of beating the Baltimore Ravens.\n",
      "The Detroit Lions have a probability of 0.25 of beating the Tennessee Titans.\n",
      "The Chicago Bears have a probability of 0.54 of beating the Minnesota Vikings.\n",
      "The Tampa Bay Buccaneers have a probability of 0.76 of beating the Detroit Lions.\n",
      "The San Francisco 49ers have a probability of 0.36 of beating the Arizona Cardinals.\n",
      "The Indianapolis Colts have a probability of 0.39 of beating the Pittsburgh Steelers.\n",
      "The Atlanta Falcons have a probability of 0.18 of beating the Kansas City Chiefs.\n",
      "The Cincinnati Bengals have a probability of 0.35 of beating the Houston Texans.\n",
      "The Carolina Panthers have a probability of 0.71 of beating the Washington Football Team.\n",
      "The Los Angeles Rams have a probability of 0.55 of beating the Seattle Seahawks.\n",
      "The Dallas Cowboys have a probability of 0.58 of beating the New York Giants.\n"
     ]
    }
   ],
   "source": [
    "clf = LogisticRegression(penalty='l1', dual=False, tol=0.001, C=1.0, fit_intercept=True, \n",
    "                   intercept_scaling=1, class_weight='balanced', random_state=None, \n",
    "                   solver='liblinear', max_iter=1000, multi_class='ovr', verbose=0)\n",
    "\n",
    "clf.fit(X_train, np.ravel(y_train.values))\n",
    "y_pred = clf.predict_proba(X_test)\n",
    "y_pred = y_pred[:,1]\n",
    "\n",
    "display(y_pred,test_df)"
   ]
  },
  {
   "source": [
    "accuracy_score(y_test,np.round(y_pred))"
   ],
   "cell_type": "code",
   "metadata": {},
   "execution_count": 5,
   "outputs": [
    {
     "output_type": "execute_result",
     "data": {
      "text/plain": [
       "0.5636363636363636"
      ]
     },
     "metadata": {},
     "execution_count": 5
    }
   ]
  },
  {
   "source": [
    "Reviewing _ "
   ],
   "cell_type": "markdown",
   "metadata": {}
  },
  {
   "cell_type": "code",
   "execution_count": null,
   "metadata": {},
   "outputs": [],
   "source": []
  }
 ]
}