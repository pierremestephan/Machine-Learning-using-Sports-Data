{
 "metadata": {
  "language_info": {
   "codemirror_mode": {
    "name": "ipython",
    "version": 3
   },
   "file_extension": ".py",
   "mimetype": "text/x-python",
   "name": "python",
   "nbconvert_exporter": "python",
   "pygments_lexer": "ipython3",
   "version": "3.8.3-final"
  },
  "orig_nbformat": 2,
  "kernelspec": {
   "name": "python38332bit6d1402e1c1034531a3495dca05498510",
   "display_name": "Python 3.8.3 32-bit",
   "language": "python"
  }
 },
 "nbformat": 4,
 "nbformat_minor": 2,
 "cells": [
  {
   "cell_type": "code",
   "execution_count": 1,
   "metadata": {},
   "outputs": [],
   "source": [
    "import numpy as np\n",
    "import pandas as pd\n",
    "from sklearn.linear_model import LogisticRegression\n",
    "from sklearn.metrics import accuracy_score\n",
    "from sportsreference.nfl.boxscore import Boxscores, Boxscore\n",
    "from functions import display,get_schedule, game_data, game_data_up_to_week, agg_weekly_data, get_elo, merge_rankings, prep_test_train"
   ]
  },
  {
   "cell_type": "code",
   "execution_count": 2,
   "metadata": {},
   "outputs": [],
   "source": [
    "current_week = 17\n",
    "weeks = list(range(1,current_week + 1))\n",
    "year = 2020\n",
    "\n",
    "pred_games_df, comp_games_df = prep_test_train(current_week, weeks, year)"
   ]
  },
  {
   "cell_type": "code",
   "execution_count": 3,
   "metadata": {},
   "outputs": [],
   "source": [
    "msk = np.random.rand(len(comp_games_df)) < 0.8\n",
    "\n",
    "train_df = comp_games_df[msk]\n",
    "test_df = comp_games_df[~msk]\n",
    "\n",
    "X_train = train_df.drop(columns = ['away_name', 'away_abbr', 'home_name', 'home_abbr', 'week','result'])\n",
    "y_train = train_df[['result']] \n",
    "X_test = test_df.drop(columns = ['away_name', 'away_abbr', 'home_name', 'home_abbr', 'week','result'])\n",
    "y_test = test_df[['result']]"
   ]
  },
  {
   "cell_type": "code",
   "execution_count": 4,
   "metadata": {},
   "outputs": [
    {
     "output_type": "stream",
     "name": "stdout",
     "text": [
      "The Los Angeles Rams have a probability of 0.65 of beating the Philadelphia Eagles.\n",
      "The Detroit Lions have a probability of 0.02 of beating the Green Bay Packers.\n",
      "The Atlanta Falcons have a probability of 0.87 of beating the Dallas Cowboys.\n",
      "The Kansas City Chiefs have a probability of 1.0 of beating the Los Angeles Chargers.\n",
      "The New Orleans Saints have a probability of 0.88 of beating the Las Vegas Raiders.\n",
      "The Miami Dolphins have a probability of 0.08 of beating the Jacksonville Jaguars.\n",
      "The New York Jets have a probability of 0.07 of beating the Indianapolis Colts.\n",
      "The Dallas Cowboys have a probability of 0.01 of beating the Seattle Seahawks.\n",
      "The Denver Broncos have a probability of 0.34 of beating the New York Jets.\n",
      "The Indianapolis Colts have a probability of 0.38 of beating the Chicago Bears.\n",
      "The Philadelphia Eagles have a probability of 0.36 of beating the San Francisco 49ers.\n",
      "The Tampa Bay Buccaneers have a probability of 0.52 of beating the Chicago Bears.\n",
      "The Cincinnati Bengals have a probability of 0.19 of beating the Baltimore Ravens.\n",
      "The Arizona Cardinals have a probability of 0.78 of beating the New York Jets.\n",
      "The New York Giants have a probability of 0.75 of beating the Dallas Cowboys.\n",
      "The Minnesota Vikings have a probability of 0.22 of beating the Seattle Seahawks.\n",
      "The Buffalo Bills have a probability of 0.88 of beating the Tennessee Titans.\n",
      "The Detroit Lions have a probability of 0.65 of beating the Jacksonville Jaguars.\n",
      "The Atlanta Falcons have a probability of 0.4 of beating the Minnesota Vikings.\n",
      "The New York Giants have a probability of 0.56 of beating the Philadelphia Eagles.\n",
      "The Chicago Bears have a probability of 0.79 of beating the Los Angeles Rams.\n",
      "The Atlanta Falcons have a probability of 0.31 of beating the Carolina Panthers.\n",
      "The Pittsburgh Steelers have a probability of 0.63 of beating the Baltimore Ravens.\n",
      "The New Orleans Saints have a probability of 0.68 of beating the Chicago Bears.\n",
      "The Denver Broncos have a probability of 0.5 of beating the Atlanta Falcons.\n",
      "The Chicago Bears have a probability of 0.57 of beating the Tennessee Titans.\n",
      "The Indianapolis Colts have a probability of 0.57 of beating the Tennessee Titans.\n",
      "The New England Patriots have a probability of 0.67 of beating the Houston Texans.\n",
      "The Los Angeles Rams have a probability of 0.31 of beating the Tampa Bay Buccaneers.\n",
      "The Houston Texans have a probability of 0.48 of beating the Detroit Lions.\n",
      "The Carolina Panthers have a probability of 0.47 of beating the Minnesota Vikings.\n",
      "The New York Giants have a probability of 0.56 of beating the Cincinnati Bengals.\n",
      "The New York Giants have a probability of 0.31 of beating the Seattle Seahawks.\n",
      "The Buffalo Bills have a probability of 0.79 of beating the San Francisco 49ers.\n",
      "The Dallas Cowboys have a probability of 0.3 of beating the Cincinnati Bengals.\n",
      "The Houston Texans have a probability of 0.31 of beating the Chicago Bears.\n",
      "The Indianapolis Colts have a probability of 0.47 of beating the Las Vegas Raiders.\n",
      "The Baltimore Ravens have a probability of 0.63 of beating the Cleveland Browns.\n",
      "The Detroit Lions have a probability of 0.25 of beating the Tennessee Titans.\n",
      "The New England Patriots have a probability of 0.31 of beating the Miami Dolphins.\n",
      "The San Francisco 49ers have a probability of 0.76 of beating the Dallas Cowboys.\n",
      "The Kansas City Chiefs have a probability of 0.52 of beating the New Orleans Saints.\n",
      "The Cleveland Browns have a probability of 0.77 of beating the New York Giants.\n",
      "The Indianapolis Colts have a probability of 0.38 of beating the Pittsburgh Steelers.\n",
      "The Los Angeles Rams have a probability of 0.47 of beating the Seattle Seahawks.\n",
      "The Miami Dolphins have a probability of 0.21 of beating the Buffalo Bills.\n",
      "The New York Jets have a probability of 0.53 of beating the New England Patriots.\n",
      "The Minnesota Vikings have a probability of 0.67 of beating the Detroit Lions.\n",
      "The Washington Football Team have a probability of 0.46 of beating the Philadelphia Eagles.\n"
     ]
    }
   ],
   "source": [
    "clf = LogisticRegression(penalty='l1', dual=False, tol=0.001, C=1.0, fit_intercept=True, \n",
    "                   intercept_scaling=1, class_weight='balanced', random_state=None, \n",
    "                   solver='liblinear', max_iter=1000, multi_class='ovr', verbose=0)\n",
    "\n",
    "clf.fit(X_train, np.ravel(y_train.values))\n",
    "y_pred = clf.predict_proba(X_test)\n",
    "y_pred = y_pred[:,1]\n",
    "\n",
    "display(y_pred,test_df)"
   ]
  },
  {
   "source": [
    "accuracy_score(y_test,np.round(y_pred))"
   ],
   "cell_type": "code",
   "metadata": {},
   "execution_count": 5,
   "outputs": [
    {
     "output_type": "execute_result",
     "data": {
      "text/plain": [
       "0.5306122448979592"
      ]
     },
     "metadata": {},
     "execution_count": 5
    }
   ]
  },
  {
   "cell_type": "code",
   "execution_count": 6,
   "metadata": {},
   "outputs": [
    {
     "output_type": "error",
     "ename": "ModuleNotFoundError",
     "evalue": "No module named 'xgboost'",
     "traceback": [
      "\u001b[1;31m---------------------------------------------------------------------------\u001b[0m",
      "\u001b[1;31mModuleNotFoundError\u001b[0m                       Traceback (most recent call last)",
      "\u001b[1;32m<ipython-input-6-70e8a81f6de2>\u001b[0m in \u001b[0;36m<module>\u001b[1;34m\u001b[0m\n\u001b[1;32m----> 1\u001b[1;33m \u001b[1;32mimport\u001b[0m \u001b[0mxgboost\u001b[0m \u001b[1;32mas\u001b[0m \u001b[0mxgb\u001b[0m\u001b[1;33m\u001b[0m\u001b[1;33m\u001b[0m\u001b[0m\n\u001b[0m\u001b[0;32m      2\u001b[0m \u001b[1;33m\u001b[0m\u001b[0m\n\u001b[0;32m      3\u001b[0m \u001b[0mdtest\u001b[0m \u001b[1;33m=\u001b[0m \u001b[0mxgb\u001b[0m\u001b[1;33m.\u001b[0m\u001b[0mDMatrix\u001b[0m\u001b[1;33m(\u001b[0m\u001b[0mX_test\u001b[0m\u001b[1;33m,\u001b[0m \u001b[0my_test\u001b[0m\u001b[1;33m,\u001b[0m \u001b[0mfeature_names\u001b[0m\u001b[1;33m=\u001b[0m\u001b[0mX_test\u001b[0m\u001b[1;33m.\u001b[0m\u001b[0mcolumns\u001b[0m\u001b[1;33m)\u001b[0m\u001b[1;33m\u001b[0m\u001b[1;33m\u001b[0m\u001b[0m\n\u001b[0;32m      4\u001b[0m \u001b[0mdtrain\u001b[0m \u001b[1;33m=\u001b[0m \u001b[0mxgb\u001b[0m\u001b[1;33m.\u001b[0m\u001b[0mDMatrix\u001b[0m\u001b[1;33m(\u001b[0m\u001b[0mX_train\u001b[0m\u001b[1;33m,\u001b[0m \u001b[0my_train\u001b[0m\u001b[1;33m,\u001b[0m\u001b[0mfeature_names\u001b[0m\u001b[1;33m=\u001b[0m\u001b[0mX_train\u001b[0m\u001b[1;33m.\u001b[0m\u001b[0mcolumns\u001b[0m\u001b[1;33m)\u001b[0m\u001b[1;33m\u001b[0m\u001b[1;33m\u001b[0m\u001b[0m\n\u001b[0;32m      5\u001b[0m \u001b[1;33m\u001b[0m\u001b[0m\n",
      "\u001b[1;31mModuleNotFoundError\u001b[0m: No module named 'xgboost'"
     ]
    }
   ],
   "source": [
    "import xgboost as xgb\n",
    "\n",
    "dtest = xgb.DMatrix(X_test, y_test, feature_names=X_test.columns)\n",
    "dtrain = xgb.DMatrix(X_train, y_train,feature_names=X_train.columns)\n",
    "\n",
    "param = {'verbosity':1, \n",
    "         'objective':'binary:hinge',\n",
    "         'feature_selector': 'shuffle',\n",
    "         'booster':'gblinear',\n",
    "         'eval_metric' :'error',\n",
    "         'learning_rate': 0.05}\n",
    "\n",
    "evallist = [(dtrain, 'train'), (dtest, 'test')]"
   ]
  },
  {
   "cell_type": "code",
   "execution_count": 7,
   "metadata": {},
   "outputs": [
    {
     "output_type": "error",
     "ename": "NameError",
     "evalue": "name 'xgb' is not defined",
     "traceback": [
      "\u001b[1;31m---------------------------------------------------------------------------\u001b[0m",
      "\u001b[1;31mNameError\u001b[0m                                 Traceback (most recent call last)",
      "\u001b[1;32m<ipython-input-7-56b782733bc7>\u001b[0m in \u001b[0;36m<module>\u001b[1;34m\u001b[0m\n\u001b[0;32m      1\u001b[0m \u001b[0mnum_round\u001b[0m \u001b[1;33m=\u001b[0m \u001b[1;36m1000\u001b[0m\u001b[1;33m\u001b[0m\u001b[1;33m\u001b[0m\u001b[0m\n\u001b[1;32m----> 2\u001b[1;33m \u001b[0mbst\u001b[0m \u001b[1;33m=\u001b[0m \u001b[0mxgb\u001b[0m\u001b[1;33m.\u001b[0m\u001b[0mtrain\u001b[0m\u001b[1;33m(\u001b[0m\u001b[0mparam\u001b[0m\u001b[1;33m,\u001b[0m \u001b[0mdtrain\u001b[0m\u001b[1;33m,\u001b[0m \u001b[0mnum_round\u001b[0m\u001b[1;33m,\u001b[0m \u001b[0mevallist\u001b[0m\u001b[1;33m)\u001b[0m\u001b[1;33m\u001b[0m\u001b[1;33m\u001b[0m\u001b[0m\n\u001b[0m",
      "\u001b[1;31mNameError\u001b[0m: name 'xgb' is not defined"
     ]
    }
   ],
   "source": [
    "num_round = 1000\n",
    "bst = xgb.train(param, dtrain, num_round, evallist)"
   ]
  },
  {
   "cell_type": "code",
   "execution_count": null,
   "metadata": {},
   "outputs": [],
   "source": [
    "X_test = pred_games_df.drop(columns = ['away_name', 'away_abbr', 'home_name', 'home_abbr', 'week','result'])\n",
    "y_pred = clf.predict_proba(X_test)\n",
    "y_pred = y_pred[:,1]\n",
    "\n",
    "display(y_pred,pred_games_df)"
   ]
  }
 ]
}