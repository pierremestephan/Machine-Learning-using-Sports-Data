{
 "metadata": {
  "language_info": {
   "codemirror_mode": {
    "name": "ipython",
    "version": 3
   },
   "file_extension": ".py",
   "mimetype": "text/x-python",
   "name": "python",
   "nbconvert_exporter": "python",
   "pygments_lexer": "ipython3",
   "version": "3.8.3-final"
  },
  "orig_nbformat": 2,
  "kernelspec": {
   "name": "python38332bit6d1402e1c1034531a3495dca05498510",
   "display_name": "Python 3.8.3 32-bit",
   "language": "python"
  }
 },
 "nbformat": 4,
 "nbformat_minor": 2,
 "cells": [
  {
   "cell_type": "code",
   "execution_count": 1,
   "metadata": {},
   "outputs": [],
   "source": [
    "import numpy as np\n",
    "import pandas as pd\n",
    "from sklearn.linear_model import LogisticRegression\n",
    "from sklearn.metrics import accuracy_score\n",
    "from sportsreference.nfl.boxscore import Boxscores, Boxscore\n",
    "from functions import display,get_schedule, game_data, game_data_up_to_week, agg_weekly_data, get_elo, merge_rankings, prep_test_train"
   ]
  },
  {
   "cell_type": "code",
   "execution_count": 2,
   "metadata": {},
   "outputs": [],
   "source": [
    "current_week = 17\n",
    "weeks = list(range(1,current_week + 1))\n",
    "year = 2020\n",
    "\n",
    "pred_games_df, comp_games_df = prep_test_train(current_week, weeks, year)"
   ]
  },
  {
   "cell_type": "code",
   "execution_count": 3,
   "metadata": {},
   "outputs": [],
   "source": [
    "msk = np.random.rand(len(comp_games_df)) < 0.8\n",
    "\n",
    "train_df = comp_games_df[msk]\n",
    "test_df = comp_games_df[~msk]\n",
    "\n",
    "X_train = train_df.drop(columns = ['away_name', 'away_abbr', 'home_name', 'home_abbr', 'week','result'])\n",
    "y_train = train_df[['result']] \n",
    "X_test = test_df.drop(columns = ['away_name', 'away_abbr', 'home_name', 'home_abbr', 'week','result'])\n",
    "y_test = test_df[['result']]"
   ]
  },
  {
   "source": [
    "Reviewing Logistic Regression"
   ],
   "cell_type": "markdown",
   "metadata": {}
  },
  {
   "cell_type": "code",
   "execution_count": 4,
   "metadata": {},
   "outputs": [
    {
     "output_type": "stream",
     "name": "stdout",
     "text": [
      "The New York Giants have a probability of 0.17 of beating the Chicago Bears.\n",
      "The Denver Broncos have a probability of 0.29 of beating the Pittsburgh Steelers.\n",
      "The Washington Football Team have a probability of 0.21 of beating the Arizona Cardinals.\n",
      "The Baltimore Ravens have a probability of 0.61 of beating the Houston Texans.\n",
      "The New Orleans Saints have a probability of 0.77 of beating the Las Vegas Raiders.\n",
      "The Los Angeles Rams have a probability of 0.23 of beating the Buffalo Bills.\n",
      "The Houston Texans have a probability of 0.13 of beating the Pittsburgh Steelers.\n",
      "The Las Vegas Raiders have a probability of 0.47 of beating the New England Patriots.\n",
      "The Indianapolis Colts have a probability of 0.41 of beating the Chicago Bears.\n",
      "The Arizona Cardinals have a probability of 0.68 of beating the Carolina Panthers.\n",
      "The New York Giants have a probability of 0.4 of beating the Los Angeles Rams.\n",
      "The Indianapolis Colts have a probability of 0.69 of beating the Cleveland Browns.\n",
      "The Houston Texans have a probability of 0.26 of beating the Tennessee Titans.\n",
      "The Atlanta Falcons have a probability of 0.46 of beating the Minnesota Vikings.\n",
      "The New York Giants have a probability of 0.6 of beating the Philadelphia Eagles.\n",
      "The Cleveland Browns have a probability of 0.65 of beating the Cincinnati Bengals.\n",
      "The Dallas Cowboys have a probability of 0.49 of beating the Washington Football Team.\n",
      "The Buffalo Bills have a probability of 0.91 of beating the New York Jets.\n",
      "The Green Bay Packers have a probability of 0.83 of beating the Houston Texans.\n",
      "The Chicago Bears have a probability of 0.71 of beating the Los Angeles Rams.\n",
      "The Atlanta Falcons have a probability of 0.44 of beating the Carolina Panthers.\n",
      "The Pittsburgh Steelers have a probability of 0.5 of beating the Baltimore Ravens.\n",
      "The Minnesota Vikings have a probability of 0.15 of beating the Green Bay Packers.\n",
      "The Los Angeles Chargers have a probability of 0.55 of beating the Denver Broncos.\n",
      "The San Francisco 49ers have a probability of 0.25 of beating the Seattle Seahawks.\n",
      "The Dallas Cowboys have a probability of 0.22 of beating the Philadelphia Eagles.\n",
      "The Tampa Bay Buccaneers have a probability of 0.79 of beating the New York Giants.\n",
      "The Miami Dolphins have a probability of 0.49 of beating the Arizona Cardinals.\n",
      "The Tampa Bay Buccaneers have a probability of 0.68 of beating the Carolina Panthers.\n",
      "The Jacksonville Jaguars have a probability of 0.05 of beating the Green Bay Packers.\n",
      "The Seattle Seahawks have a probability of 0.59 of beating the Los Angeles Rams.\n",
      "The San Francisco 49ers have a probability of 0.13 of beating the New Orleans Saints.\n",
      "The Detroit Lions have a probability of 0.24 of beating the Chicago Bears.\n",
      "The Cleveland Browns have a probability of 0.36 of beating the Tennessee Titans.\n",
      "The Jacksonville Jaguars have a probability of 0.27 of beating the Minnesota Vikings.\n",
      "The New England Patriots have a probability of 0.47 of beating the Los Angeles Rams.\n",
      "The Kansas City Chiefs have a probability of 0.76 of beating the Miami Dolphins.\n",
      "The Dallas Cowboys have a probability of 0.4 of beating the Cincinnati Bengals.\n",
      "The Houston Texans have a probability of 0.44 of beating the Chicago Bears.\n",
      "The Indianapolis Colts have a probability of 0.52 of beating the Las Vegas Raiders.\n",
      "The Washington Football Team have a probability of 0.43 of beating the San Francisco 49ers.\n",
      "The Atlanta Falcons have a probability of 0.61 of beating the Los Angeles Chargers.\n",
      "The Buffalo Bills have a probability of 0.86 of beating the Denver Broncos.\n",
      "The New York Jets have a probability of 0.16 of beating the Los Angeles Rams.\n",
      "The Cleveland Browns have a probability of 0.7 of beating the New York Giants.\n",
      "The Cincinnati Bengals have a probability of 0.4 of beating the Houston Texans.\n",
      "The Carolina Panthers have a probability of 0.62 of beating the Washington Football Team.\n",
      "The Denver Broncos have a probability of 0.46 of beating the Los Angeles Chargers.\n",
      "The Philadelphia Eagles have a probability of 0.57 of beating the Dallas Cowboys.\n",
      "The Tennessee Titans have a probability of 0.26 of beating the Green Bay Packers.\n",
      "The Buffalo Bills have a probability of 0.86 of beating the New England Patriots.\n",
      "The Miami Dolphins have a probability of 0.24 of beating the Buffalo Bills.\n",
      "The New York Jets have a probability of 0.38 of beating the New England Patriots.\n",
      "The Minnesota Vikings have a probability of 0.68 of beating the Detroit Lions.\n"
     ]
    }
   ],
   "source": [
    "clf = LogisticRegression(penalty='l1', dual=False, tol=0.001, C=1.0, fit_intercept=True, \n",
    "                   intercept_scaling=1, class_weight='balanced', random_state=None, \n",
    "                   solver='liblinear', max_iter=10000, multi_class='ovr', verbose=0)\n",
    "\n",
    "clf.fit(X_train, np.ravel(y_train.values))\n",
    "y_pred = clf.predict_proba(X_test)\n",
    "y_pred = y_pred[:,1]\n",
    "\n",
    "display(y_pred,test_df)"
   ]
  },
  {
   "source": [
    "accuracy_score(y_test,np.round(y_pred))"
   ],
   "cell_type": "code",
   "metadata": {},
   "execution_count": 5,
   "outputs": [
    {
     "output_type": "execute_result",
     "data": {
      "text/plain": [
       "0.6111111111111112"
      ]
     },
     "metadata": {},
     "execution_count": 5
    }
   ]
  },
  {
   "source": [
    "Reviewing Gradient Boosting Model"
   ],
   "cell_type": "markdown",
   "metadata": {}
  },
  {
   "cell_type": "code",
   "execution_count": 6,
   "metadata": {},
   "outputs": [],
   "source": [
    "from sklearn.ensemble import GradientBoostingClassifier"
   ]
  },
  {
   "cell_type": "code",
   "execution_count": 7,
   "metadata": {},
   "outputs": [],
   "source": [
    "GradientBoost = GradientBoostingClassifier(loss='deviance', learning_rate=0.1, n_estimators=10000, subsample=1.0,criterion='friedman_mse', min_samples_split=2, min_samples_leaf=1, min_weight_fraction_leaf=0.0, max_depth=3, min_impurity_decrease=0.0,min_impurity_split=None, init=None, random_state=None, max_features=None, verbose=0, max_leaf_nodes=None, warm_start=False, validation_fraction=0.1,n_iter_no_change=None, tol=0.0001, ccp_alpha=0.0)"
   ]
  },
  {
   "cell_type": "code",
   "execution_count": 8,
   "metadata": {},
   "outputs": [
    {
     "output_type": "execute_result",
     "data": {
      "text/plain": [
       "GradientBoostingClassifier(n_estimators=10000)"
      ]
     },
     "metadata": {},
     "execution_count": 8
    }
   ],
   "source": [
    "GradientBoost.fit(X_train, np.ravel(y_train.values))"
   ]
  },
  {
   "cell_type": "code",
   "execution_count": 9,
   "metadata": {},
   "outputs": [],
   "source": [
    "gb_y_pred = GradientBoost.predict_proba(X_test)\n",
    "gb_y_pred = gb_y_pred[:,1]"
   ]
  },
  {
   "cell_type": "code",
   "execution_count": 10,
   "metadata": {},
   "outputs": [
    {
     "output_type": "stream",
     "name": "stdout",
     "text": [
      "The New York Giants have a probability of 0.17 of beating the Chicago Bears.\n",
      "The Denver Broncos have a probability of 0.29 of beating the Pittsburgh Steelers.\n",
      "The Washington Football Team have a probability of 0.21 of beating the Arizona Cardinals.\n",
      "The Baltimore Ravens have a probability of 0.61 of beating the Houston Texans.\n",
      "The New Orleans Saints have a probability of 0.77 of beating the Las Vegas Raiders.\n",
      "The Los Angeles Rams have a probability of 0.23 of beating the Buffalo Bills.\n",
      "The Houston Texans have a probability of 0.13 of beating the Pittsburgh Steelers.\n",
      "The Las Vegas Raiders have a probability of 0.47 of beating the New England Patriots.\n",
      "The Indianapolis Colts have a probability of 0.41 of beating the Chicago Bears.\n",
      "The Arizona Cardinals have a probability of 0.68 of beating the Carolina Panthers.\n",
      "The New York Giants have a probability of 0.4 of beating the Los Angeles Rams.\n",
      "The Indianapolis Colts have a probability of 0.69 of beating the Cleveland Browns.\n",
      "The Houston Texans have a probability of 0.26 of beating the Tennessee Titans.\n",
      "The Atlanta Falcons have a probability of 0.46 of beating the Minnesota Vikings.\n",
      "The New York Giants have a probability of 0.6 of beating the Philadelphia Eagles.\n",
      "The Cleveland Browns have a probability of 0.65 of beating the Cincinnati Bengals.\n",
      "The Dallas Cowboys have a probability of 0.49 of beating the Washington Football Team.\n",
      "The Buffalo Bills have a probability of 0.91 of beating the New York Jets.\n",
      "The Green Bay Packers have a probability of 0.83 of beating the Houston Texans.\n",
      "The Chicago Bears have a probability of 0.71 of beating the Los Angeles Rams.\n",
      "The Atlanta Falcons have a probability of 0.44 of beating the Carolina Panthers.\n",
      "The Pittsburgh Steelers have a probability of 0.5 of beating the Baltimore Ravens.\n",
      "The Minnesota Vikings have a probability of 0.15 of beating the Green Bay Packers.\n",
      "The Los Angeles Chargers have a probability of 0.55 of beating the Denver Broncos.\n",
      "The San Francisco 49ers have a probability of 0.25 of beating the Seattle Seahawks.\n",
      "The Dallas Cowboys have a probability of 0.22 of beating the Philadelphia Eagles.\n",
      "The Tampa Bay Buccaneers have a probability of 0.79 of beating the New York Giants.\n",
      "The Miami Dolphins have a probability of 0.49 of beating the Arizona Cardinals.\n",
      "The Tampa Bay Buccaneers have a probability of 0.68 of beating the Carolina Panthers.\n",
      "The Jacksonville Jaguars have a probability of 0.05 of beating the Green Bay Packers.\n",
      "The Seattle Seahawks have a probability of 0.59 of beating the Los Angeles Rams.\n",
      "The San Francisco 49ers have a probability of 0.13 of beating the New Orleans Saints.\n",
      "The Detroit Lions have a probability of 0.24 of beating the Chicago Bears.\n",
      "The Cleveland Browns have a probability of 0.36 of beating the Tennessee Titans.\n",
      "The Jacksonville Jaguars have a probability of 0.27 of beating the Minnesota Vikings.\n",
      "The New England Patriots have a probability of 0.47 of beating the Los Angeles Rams.\n",
      "The Kansas City Chiefs have a probability of 0.76 of beating the Miami Dolphins.\n",
      "The Dallas Cowboys have a probability of 0.4 of beating the Cincinnati Bengals.\n",
      "The Houston Texans have a probability of 0.44 of beating the Chicago Bears.\n",
      "The Indianapolis Colts have a probability of 0.52 of beating the Las Vegas Raiders.\n",
      "The Washington Football Team have a probability of 0.43 of beating the San Francisco 49ers.\n",
      "The Atlanta Falcons have a probability of 0.61 of beating the Los Angeles Chargers.\n",
      "The Buffalo Bills have a probability of 0.86 of beating the Denver Broncos.\n",
      "The New York Jets have a probability of 0.16 of beating the Los Angeles Rams.\n",
      "The Cleveland Browns have a probability of 0.7 of beating the New York Giants.\n",
      "The Cincinnati Bengals have a probability of 0.4 of beating the Houston Texans.\n",
      "The Carolina Panthers have a probability of 0.62 of beating the Washington Football Team.\n",
      "The Denver Broncos have a probability of 0.46 of beating the Los Angeles Chargers.\n",
      "The Philadelphia Eagles have a probability of 0.57 of beating the Dallas Cowboys.\n",
      "The Tennessee Titans have a probability of 0.26 of beating the Green Bay Packers.\n",
      "The Buffalo Bills have a probability of 0.86 of beating the New England Patriots.\n",
      "The Miami Dolphins have a probability of 0.24 of beating the Buffalo Bills.\n",
      "The New York Jets have a probability of 0.38 of beating the New England Patriots.\n",
      "The Minnesota Vikings have a probability of 0.68 of beating the Detroit Lions.\n"
     ]
    }
   ],
   "source": [
    "display(y_pred,test_df)"
   ]
  },
  {
   "cell_type": "code",
   "execution_count": 11,
   "metadata": {},
   "outputs": [
    {
     "output_type": "execute_result",
     "data": {
      "text/plain": [
       "0.5555555555555556"
      ]
     },
     "metadata": {},
     "execution_count": 11
    }
   ],
   "source": [
    "\n",
    "accuracy_score(y_test,np.round(gb_y_pred))"
   ]
  },
  {
   "cell_type": "code",
   "execution_count": null,
   "metadata": {},
   "outputs": [],
   "source": []
  }
 ]
}