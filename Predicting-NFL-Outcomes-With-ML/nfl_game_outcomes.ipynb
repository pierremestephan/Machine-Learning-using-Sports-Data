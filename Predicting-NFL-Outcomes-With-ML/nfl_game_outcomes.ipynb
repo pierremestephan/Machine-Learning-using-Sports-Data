{
 "metadata": {
  "language_info": {
   "codemirror_mode": {
    "name": "ipython",
    "version": 3
   },
   "file_extension": ".py",
   "mimetype": "text/x-python",
   "name": "python",
   "nbconvert_exporter": "python",
   "pygments_lexer": "ipython3",
   "version": "3.8.3-final"
  },
  "orig_nbformat": 2,
  "kernelspec": {
   "name": "python38332bit6d1402e1c1034531a3495dca05498510",
   "display_name": "Python 3.8.3 32-bit",
   "language": "python"
  }
 },
 "nbformat": 4,
 "nbformat_minor": 2,
 "cells": [
  {
   "cell_type": "code",
   "execution_count": 1,
   "metadata": {},
   "outputs": [],
   "source": [
    "import numpy as np\n",
    "import pandas as pd\n",
    "from sklearn.linear_model import LogisticRegression\n",
    "from sklearn.metrics import accuracy_score\n",
    "from sportsreference.nfl.boxscore import Boxscores, Boxscore\n",
    "from functions import display,get_schedule, game_data, game_data_up_to_week, agg_weekly_data, get_elo, merge_rankings, prep_test_train"
   ]
  },
  {
   "cell_type": "code",
   "execution_count": 2,
   "metadata": {},
   "outputs": [],
   "source": [
    "current_week = 17\n",
    "weeks = list(range(1,current_week + 1))\n",
    "year = 2020\n",
    "\n",
    "pred_games_df, comp_games_df = prep_test_train(current_week, weeks, year)"
   ]
  },
  {
   "cell_type": "code",
   "execution_count": 3,
   "metadata": {},
   "outputs": [],
   "source": [
    "msk = np.random.rand(len(comp_games_df)) < 0.8\n",
    "\n",
    "train_df = comp_games_df[msk]\n",
    "test_df = comp_games_df[~msk]\n",
    "\n",
    "X_train = train_df.drop(columns = ['away_name', 'away_abbr', 'home_name', 'home_abbr', 'week','result'])\n",
    "y_train = train_df[['result']] \n",
    "X_test = test_df.drop(columns = ['away_name', 'away_abbr', 'home_name', 'home_abbr', 'week','result'])\n",
    "y_test = test_df[['result']]"
   ]
  },
  {
   "source": [
    "Reviewing Logistic Regression"
   ],
   "cell_type": "markdown",
   "metadata": {}
  },
  {
   "cell_type": "code",
   "execution_count": 4,
   "metadata": {},
   "outputs": [
    {
     "output_type": "stream",
     "name": "stdout",
     "text": [
      "The Denver Broncos have a probability of 0.61 of beating the Pittsburgh Steelers.\nThe Los Angeles Rams have a probability of 0.78 of beating the Philadelphia Eagles.\nThe Jacksonville Jaguars have a probability of 0.25 of beating the Tennessee Titans.\nThe Detroit Lions have a probability of 0.02 of beating the Green Bay Packers.\nThe Washington Football Team have a probability of 0.25 of beating the Arizona Cardinals.\nThe Kansas City Chiefs have a probability of 0.99 of beating the Los Angeles Chargers.\nThe Los Angeles Rams have a probability of 0.34 of beating the Buffalo Bills.\nThe Las Vegas Raiders have a probability of 0.53 of beating the New England Patriots.\nThe Carolina Panthers have a probability of 0.48 of beating the Los Angeles Chargers.\nThe Tampa Bay Buccaneers have a probability of 0.66 of beating the Denver Broncos.\nThe Los Angeles Chargers have a probability of 0.23 of beating the Tampa Bay Buccaneers.\nThe Tampa Bay Buccaneers have a probability of 0.57 of beating the Chicago Bears.\nThe Arizona Cardinals have a probability of 0.84 of beating the New York Jets.\nThe Las Vegas Raiders have a probability of 0.19 of beating the Kansas City Chiefs.\nThe Minnesota Vikings have a probability of 0.24 of beating the Seattle Seahawks.\nThe Chicago Bears have a probability of 0.58 of beating the Carolina Panthers.\nThe Houston Texans have a probability of 0.18 of beating the Tennessee Titans.\nThe Atlanta Falcons have a probability of 0.37 of beating the Minnesota Vikings.\nThe Kansas City Chiefs have a probability of 0.63 of beating the Buffalo Bills.\nThe Tampa Bay Buccaneers have a probability of 0.53 of beating the Las Vegas Raiders.\nThe Detroit Lions have a probability of 0.32 of beating the Minnesota Vikings.\nThe Baltimore Ravens have a probability of 0.46 of beating the Indianapolis Colts.\nThe Houston Texans have a probability of 0.3 of beating the Cleveland Browns.\nThe Washington Football Team have a probability of 0.43 of beating the Detroit Lions.\nThe Denver Broncos have a probability of 0.21 of beating the Las Vegas Raiders.\nThe Cincinnati Bengals have a probability of 0.08 of beating the Pittsburgh Steelers.\nThe Arizona Cardinals have a probability of 0.52 of beating the Seattle Seahawks.\nThe Dallas Cowboys have a probability of 0.13 of beating the Minnesota Vikings.\nThe Los Angeles Rams have a probability of 0.41 of beating the Tampa Bay Buccaneers.\nThe Los Angeles Chargers have a probability of 0.25 of beating the Buffalo Bills.\nThe Cleveland Browns have a probability of 0.4 of beating the Tennessee Titans.\nThe New Orleans Saints have a probability of 0.93 of beating the Philadelphia Eagles.\nThe Baltimore Ravens have a probability of 0.56 of beating the Cleveland Browns.\nThe Buffalo Bills have a probability of 0.82 of beating the Denver Broncos.\nThe Carolina Panthers have a probability of 0.09 of beating the Green Bay Packers.\nThe San Francisco 49ers have a probability of 0.78 of beating the Dallas Cowboys.\nThe Tampa Bay Buccaneers have a probability of 0.79 of beating the Atlanta Falcons.\nThe New York Jets have a probability of 0.06 of beating the Los Angeles Rams.\nThe Philadelphia Eagles have a probability of 0.24 of beating the Arizona Cardinals.\nThe Pittsburgh Steelers have a probability of 0.96 of beating the Cincinnati Bengals.\nThe New York Giants have a probability of 0.13 of beating the Baltimore Ravens.\nThe Green Bay Packers have a probability of 0.85 of beating the Chicago Bears.\nThe Los Angeles Chargers have a probability of 0.16 of beating the Kansas City Chiefs.\nThe Jacksonville Jaguars have a probability of 0.12 of beating the Indianapolis Colts.\n"
     ]
    }
   ],
   "source": [
    "clf = LogisticRegression(penalty='l1', dual=False, tol=0.001, C=1.0, fit_intercept=True, \n",
    "                   intercept_scaling=1, class_weight='balanced', random_state=None, \n",
    "                   solver='liblinear', max_iter=10000, multi_class='ovr', verbose=0)\n",
    "\n",
    "clf.fit(X_train, np.ravel(y_train.values))\n",
    "y_pred = clf.predict_proba(X_test)\n",
    "y_pred = y_pred[:,1]\n",
    "\n",
    "display(y_pred,test_df)"
   ]
  },
  {
   "source": [
    "accuracy_score(y_test,np.round(y_pred))"
   ],
   "cell_type": "code",
   "metadata": {},
   "execution_count": 5,
   "outputs": [
    {
     "output_type": "execute_result",
     "data": {
      "text/plain": [
       "0.6363636363636364"
      ]
     },
     "metadata": {},
     "execution_count": 5
    }
   ]
  },
  {
   "source": [
    "Reviewing Gradient Boosting Model"
   ],
   "cell_type": "markdown",
   "metadata": {}
  },
  {
   "cell_type": "code",
   "execution_count": 6,
   "metadata": {},
   "outputs": [],
   "source": [
    "from sklearn.ensemble import GradientBoostingClassifier"
   ]
  },
  {
   "cell_type": "code",
   "execution_count": 7,
   "metadata": {},
   "outputs": [],
   "source": [
    "GradientBoost = GradientBoostingClassifier(loss='deviance', learning_rate=0.1, n_estimators=10000, subsample=1.0,criterion='friedman_mse', min_samples_split=2, min_samples_leaf=1, min_weight_fraction_leaf=0.0, max_depth=3, min_impurity_decrease=0.0,min_impurity_split=None, init=None, random_state=None, max_features=None, verbose=0, max_leaf_nodes=None, warm_start=False, validation_fraction=0.1,n_iter_no_change=None, tol=0.0001, ccp_alpha=0.0)"
   ]
  },
  {
   "cell_type": "code",
   "execution_count": 8,
   "metadata": {},
   "outputs": [
    {
     "output_type": "execute_result",
     "data": {
      "text/plain": [
       "GradientBoostingClassifier(n_estimators=10000)"
      ]
     },
     "metadata": {},
     "execution_count": 8
    }
   ],
   "source": [
    "GradientBoost.fit(X_train, np.ravel(y_train.values))"
   ]
  },
  {
   "cell_type": "code",
   "execution_count": 9,
   "metadata": {},
   "outputs": [
    {
     "output_type": "execute_result",
     "data": {
      "text/plain": [
       "0.7045454545454546"
      ]
     },
     "metadata": {},
     "execution_count": 9
    }
   ],
   "source": [
    "gb_y_pred = GradientBoost.predict_proba(X_test)\n",
    "gb_y_pred = gb_y_pred[:,1]\n",
    "accuracy_score(y_test,np.round(gb_y_pred))"
   ]
  },
  {
   "cell_type": "code",
   "execution_count": 10,
   "metadata": {},
   "outputs": [
    {
     "output_type": "stream",
     "name": "stdout",
     "text": [
      "The Denver Broncos have a probability of 0.61 of beating the Pittsburgh Steelers.\nThe Los Angeles Rams have a probability of 0.78 of beating the Philadelphia Eagles.\nThe Jacksonville Jaguars have a probability of 0.25 of beating the Tennessee Titans.\nThe Detroit Lions have a probability of 0.02 of beating the Green Bay Packers.\nThe Washington Football Team have a probability of 0.25 of beating the Arizona Cardinals.\nThe Kansas City Chiefs have a probability of 0.99 of beating the Los Angeles Chargers.\nThe Los Angeles Rams have a probability of 0.34 of beating the Buffalo Bills.\nThe Las Vegas Raiders have a probability of 0.53 of beating the New England Patriots.\nThe Carolina Panthers have a probability of 0.48 of beating the Los Angeles Chargers.\nThe Tampa Bay Buccaneers have a probability of 0.66 of beating the Denver Broncos.\nThe Los Angeles Chargers have a probability of 0.23 of beating the Tampa Bay Buccaneers.\nThe Tampa Bay Buccaneers have a probability of 0.57 of beating the Chicago Bears.\nThe Arizona Cardinals have a probability of 0.84 of beating the New York Jets.\nThe Las Vegas Raiders have a probability of 0.19 of beating the Kansas City Chiefs.\nThe Minnesota Vikings have a probability of 0.24 of beating the Seattle Seahawks.\nThe Chicago Bears have a probability of 0.58 of beating the Carolina Panthers.\nThe Houston Texans have a probability of 0.18 of beating the Tennessee Titans.\nThe Atlanta Falcons have a probability of 0.37 of beating the Minnesota Vikings.\nThe Kansas City Chiefs have a probability of 0.63 of beating the Buffalo Bills.\nThe Tampa Bay Buccaneers have a probability of 0.53 of beating the Las Vegas Raiders.\nThe Detroit Lions have a probability of 0.32 of beating the Minnesota Vikings.\nThe Baltimore Ravens have a probability of 0.46 of beating the Indianapolis Colts.\nThe Houston Texans have a probability of 0.3 of beating the Cleveland Browns.\nThe Washington Football Team have a probability of 0.43 of beating the Detroit Lions.\nThe Denver Broncos have a probability of 0.21 of beating the Las Vegas Raiders.\nThe Cincinnati Bengals have a probability of 0.08 of beating the Pittsburgh Steelers.\nThe Arizona Cardinals have a probability of 0.52 of beating the Seattle Seahawks.\nThe Dallas Cowboys have a probability of 0.13 of beating the Minnesota Vikings.\nThe Los Angeles Rams have a probability of 0.41 of beating the Tampa Bay Buccaneers.\nThe Los Angeles Chargers have a probability of 0.25 of beating the Buffalo Bills.\nThe Cleveland Browns have a probability of 0.4 of beating the Tennessee Titans.\nThe New Orleans Saints have a probability of 0.93 of beating the Philadelphia Eagles.\nThe Baltimore Ravens have a probability of 0.56 of beating the Cleveland Browns.\nThe Buffalo Bills have a probability of 0.82 of beating the Denver Broncos.\nThe Carolina Panthers have a probability of 0.09 of beating the Green Bay Packers.\nThe San Francisco 49ers have a probability of 0.78 of beating the Dallas Cowboys.\nThe Tampa Bay Buccaneers have a probability of 0.79 of beating the Atlanta Falcons.\nThe New York Jets have a probability of 0.06 of beating the Los Angeles Rams.\nThe Philadelphia Eagles have a probability of 0.24 of beating the Arizona Cardinals.\nThe Pittsburgh Steelers have a probability of 0.96 of beating the Cincinnati Bengals.\nThe New York Giants have a probability of 0.13 of beating the Baltimore Ravens.\nThe Green Bay Packers have a probability of 0.85 of beating the Chicago Bears.\nThe Los Angeles Chargers have a probability of 0.16 of beating the Kansas City Chiefs.\nThe Jacksonville Jaguars have a probability of 0.12 of beating the Indianapolis Colts.\n"
     ]
    }
   ],
   "source": [
    "display(y_pred,test_df)"
   ]
  },
  {
   "cell_type": "code",
   "execution_count": null,
   "metadata": {},
   "outputs": [],
   "source": []
  }
 ]
}