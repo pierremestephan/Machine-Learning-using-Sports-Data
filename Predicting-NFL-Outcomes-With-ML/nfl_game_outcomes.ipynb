{
 "metadata": {
  "language_info": {
   "codemirror_mode": {
    "name": "ipython",
    "version": 3
   },
   "file_extension": ".py",
   "mimetype": "text/x-python",
   "name": "python",
   "nbconvert_exporter": "python",
   "pygments_lexer": "ipython3",
   "version": "3.8.3-final"
  },
  "orig_nbformat": 2,
  "kernelspec": {
   "name": "python38332bit6d1402e1c1034531a3495dca05498510",
   "display_name": "Python 3.8.3 32-bit",
   "language": "python"
  }
 },
 "nbformat": 4,
 "nbformat_minor": 2,
 "cells": [
  {
   "cell_type": "code",
   "execution_count": 1,
   "metadata": {},
   "outputs": [],
   "source": [
    "import numpy as np\n",
    "import pandas as pd\n",
    "from sklearn.linear_model import LogisticRegression\n",
    "from sklearn.metrics import accuracy_score\n",
    "from sportsreference.nfl.boxscore import Boxscores, Boxscore\n",
    "from functions import display,get_schedule, game_data, game_data_up_to_week, agg_weekly_data, get_elo, merge_rankings, prep_test_train"
   ]
  },
  {
   "cell_type": "code",
   "execution_count": 2,
   "metadata": {},
   "outputs": [],
   "source": [
    "current_week = 17\n",
    "weeks = list(range(1,current_week + 1))\n",
    "year = 2020\n",
    "\n",
    "pred_games_df, comp_games_df = prep_test_train(current_week, weeks, year)"
   ]
  },
  {
   "cell_type": "code",
   "execution_count": 3,
   "metadata": {},
   "outputs": [],
   "source": [
    "msk = np.random.rand(len(comp_games_df)) < 0.8\n",
    "\n",
    "train_df = comp_games_df[msk]\n",
    "test_df = comp_games_df[~msk]\n",
    "\n",
    "X_train = train_df.drop(columns = ['away_name', 'away_abbr', 'home_name', 'home_abbr', 'week','result'])\n",
    "y_train = train_df[['result']] \n",
    "X_test = test_df.drop(columns = ['away_name', 'away_abbr', 'home_name', 'home_abbr', 'week','result'])\n",
    "y_test = test_df[['result']]"
   ]
  },
  {
   "source": [
    "Reviewing Logistic Regression"
   ],
   "cell_type": "markdown",
   "metadata": {}
  },
  {
   "cell_type": "code",
   "execution_count": 4,
   "metadata": {},
   "outputs": [
    {
     "output_type": "stream",
     "name": "stdout",
     "text": [
      "The Minnesota Vikings have a probability of 0.21 of beating the Indianapolis Colts.\n",
      "The Los Angeles Rams have a probability of 0.59 of beating the Philadelphia Eagles.\n",
      "The Houston Texans have a probability of 0.11 of beating the Pittsburgh Steelers.\n",
      "The Dallas Cowboys have a probability of 0.09 of beating the Seattle Seahawks.\n",
      "The Green Bay Packers have a probability of 0.83 of beating the New Orleans Saints.\n",
      "The Arizona Cardinals have a probability of 0.71 of beating the Carolina Panthers.\n",
      "The New York Giants have a probability of 0.4 of beating the Los Angeles Rams.\n",
      "The Philadelphia Eagles have a probability of 0.58 of beating the San Francisco 49ers.\n",
      "The Philadelphia Eagles have a probability of 0.28 of beating the Pittsburgh Steelers.\n",
      "The Las Vegas Raiders have a probability of 0.15 of beating the Kansas City Chiefs.\n",
      "The Minnesota Vikings have a probability of 0.21 of beating the Seattle Seahawks.\n",
      "The Cincinnati Bengals have a probability of 0.2 of beating the Indianapolis Colts.\n",
      "The New York Jets have a probability of 0.1 of beating the Miami Dolphins.\n",
      "The Los Angeles Rams have a probability of 0.67 of beating the San Francisco 49ers.\n",
      "The New York Giants have a probability of 0.52 of beating the Philadelphia Eagles.\n",
      "The Pittsburgh Steelers have a probability of 0.55 of beating the Tennessee Titans.\n",
      "The Chicago Bears have a probability of 0.76 of beating the Los Angeles Rams.\n",
      "The Indianapolis Colts have a probability of 0.68 of beating the Detroit Lions.\n",
      "The Green Bay Packers have a probability of 0.89 of beating the San Francisco 49ers.\n",
      "The Detroit Lions have a probability of 0.51 of beating the Minnesota Vikings.\n",
      "The Pittsburgh Steelers have a probability of 0.97 of beating the Dallas Cowboys.\n",
      "The Miami Dolphins have a probability of 0.42 of beating the Arizona Cardinals.\n",
      "The New Orleans Saints have a probability of 0.49 of beating the Tampa Bay Buccaneers.\n",
      "The New England Patriots have a probability of 0.75 of beating the New York Jets.\n",
      "The Seattle Seahawks have a probability of 0.58 of beating the Los Angeles Rams.\n",
      "The Philadelphia Eagles have a probability of 0.36 of beating the Cleveland Browns.\n",
      "The Pittsburgh Steelers have a probability of 0.96 of beating the Jacksonville Jaguars.\n",
      "The Carolina Panthers have a probability of 0.59 of beating the Minnesota Vikings.\n",
      "The Tennessee Titans have a probability of 0.42 of beating the Indianapolis Colts.\n",
      "The Baltimore Ravens have a probability of 0.14 of beating the Pittsburgh Steelers.\n",
      "The Detroit Lions have a probability of 0.21 of beating the Chicago Bears.\n",
      "The Los Angeles Rams have a probability of 0.48 of beating the Arizona Cardinals.\n",
      "The Washington Football Team have a probability of 0.06 of beating the Pittsburgh Steelers.\n",
      "The Buffalo Bills have a probability of 0.8 of beating the San Francisco 49ers.\n",
      "The Dallas Cowboys have a probability of 0.12 of beating the Baltimore Ravens.\n",
      "The Detroit Lions have a probability of 0.25 of beating the Tennessee Titans.\n",
      "The San Francisco 49ers have a probability of 0.66 of beating the Dallas Cowboys.\n",
      "The Houston Texans have a probability of 0.2 of beating the Indianapolis Colts.\n",
      "The Pittsburgh Steelers have a probability of 0.96 of beating the Cincinnati Bengals.\n",
      "The Minnesota Vikings have a probability of 0.64 of beating the Detroit Lions.\n",
      "The Green Bay Packers have a probability of 0.79 of beating the Chicago Bears.\n",
      "The Tennessee Titans have a probability of 0.71 of beating the Houston Texans.\n"
     ]
    }
   ],
   "source": [
    "clf = LogisticRegression(penalty='l1', dual=False, tol=0.001, C=1.0, fit_intercept=True, \n",
    "                   intercept_scaling=1, class_weight='balanced', random_state=None, \n",
    "                   solver='liblinear', max_iter=10000, multi_class='ovr', verbose=0)\n",
    "\n",
    "clf.fit(X_train, np.ravel(y_train.values))\n",
    "y_pred = clf.predict_proba(X_test)\n",
    "y_pred = y_pred[:,1]\n",
    "\n",
    "display(y_pred,test_df)"
   ]
  },
  {
   "source": [
    "accuracy_score(y_test,np.round(y_pred))"
   ],
   "cell_type": "code",
   "metadata": {},
   "execution_count": 5,
   "outputs": [
    {
     "output_type": "execute_result",
     "data": {
      "text/plain": [
       "0.6190476190476191"
      ]
     },
     "metadata": {},
     "execution_count": 5
    }
   ]
  },
  {
   "source": [
    "Reviewing Gradient Boosting Model"
   ],
   "cell_type": "markdown",
   "metadata": {}
  },
  {
   "cell_type": "code",
   "execution_count": 6,
   "metadata": {},
   "outputs": [],
   "source": [
    "from sklearn.ensemble import GradientBoostingClassifier"
   ]
  },
  {
   "cell_type": "code",
   "execution_count": 7,
   "metadata": {},
   "outputs": [],
   "source": [
    "GradientBoost = GradientBoostingClassifier(loss='deviance', learning_rate=0.1, n_estimators=10000, subsample=1.0,criterion='friedman_mse', min_samples_split=2, min_samples_leaf=1, min_weight_fraction_leaf=0.0, max_depth=3, min_impurity_decrease=0.0,min_impurity_split=None, init=None, random_state=None, max_features=None, verbose=0, max_leaf_nodes=None, warm_start=False, validation_fraction=0.1,n_iter_no_change=None, tol=0.0001, ccp_alpha=0.0)"
   ]
  },
  {
   "cell_type": "code",
   "execution_count": 8,
   "metadata": {},
   "outputs": [
    {
     "output_type": "execute_result",
     "data": {
      "text/plain": [
       "0.6190476190476191"
      ]
     },
     "metadata": {},
     "execution_count": 8
    }
   ],
   "source": [
    "GradientBoost.fit(X_train, np.ravel(y_train.values))\n",
    "GradientBoost.score(X_test, y_test)"
   ]
  },
  {
   "cell_type": "code",
   "execution_count": 9,
   "metadata": {},
   "outputs": [
    {
     "output_type": "execute_result",
     "data": {
      "text/plain": [
       "array([7.31738449e-33, 1.86652795e-32, 1.56786118e-27, 5.98208598e-31,\n",
       "       9.98688175e-01, 1.14636640e-06, 1.38935583e-49, 7.02945975e-08,\n",
       "       1.69205746e-26, 4.12246277e-24, 2.20416103e-12, 7.74404040e-01,\n",
       "       3.23440675e-29, 7.94991631e-01, 1.00000000e+00, 1.20522570e-08,\n",
       "       7.04912370e-30, 1.00000000e+00, 4.97781380e-01, 9.99999993e-01,\n",
       "       7.96939227e-01, 6.89631324e-07, 8.49328892e-03, 1.00000000e+00,\n",
       "       3.19260080e-09, 2.92128092e-05, 1.00000000e+00, 9.96636275e-01,\n",
       "       9.42275833e-10, 6.33061480e-33, 4.30038813e-24, 9.99813818e-01,\n",
       "       3.24289705e-28, 9.99999996e-01, 8.26475938e-12, 2.24256013e-29,\n",
       "       9.99981839e-01, 3.54555282e-23, 4.63846897e-12, 9.99996975e-01,\n",
       "       9.99999882e-01, 9.99995591e-01])"
      ]
     },
     "metadata": {},
     "execution_count": 9
    }
   ],
   "source": [
    "gb_y_pred = GradientBoost.predict_proba(X_test)\n",
    "gb_y_pred = gb_y_pred[:,1]"
   ]
  },
  {
   "cell_type": "code",
   "execution_count": 10,
   "metadata": {},
   "outputs": [
    {
     "output_type": "stream",
     "name": "stdout",
     "text": [
      "The Minnesota Vikings have a probability of 0.21 of beating the Indianapolis Colts.\nThe Los Angeles Rams have a probability of 0.59 of beating the Philadelphia Eagles.\nThe Houston Texans have a probability of 0.11 of beating the Pittsburgh Steelers.\nThe Dallas Cowboys have a probability of 0.09 of beating the Seattle Seahawks.\nThe Green Bay Packers have a probability of 0.83 of beating the New Orleans Saints.\nThe Arizona Cardinals have a probability of 0.71 of beating the Carolina Panthers.\nThe New York Giants have a probability of 0.4 of beating the Los Angeles Rams.\nThe Philadelphia Eagles have a probability of 0.58 of beating the San Francisco 49ers.\nThe Philadelphia Eagles have a probability of 0.28 of beating the Pittsburgh Steelers.\nThe Las Vegas Raiders have a probability of 0.15 of beating the Kansas City Chiefs.\nThe Minnesota Vikings have a probability of 0.21 of beating the Seattle Seahawks.\nThe Cincinnati Bengals have a probability of 0.2 of beating the Indianapolis Colts.\nThe New York Jets have a probability of 0.1 of beating the Miami Dolphins.\nThe Los Angeles Rams have a probability of 0.67 of beating the San Francisco 49ers.\nThe New York Giants have a probability of 0.52 of beating the Philadelphia Eagles.\nThe Pittsburgh Steelers have a probability of 0.55 of beating the Tennessee Titans.\nThe Chicago Bears have a probability of 0.76 of beating the Los Angeles Rams.\nThe Indianapolis Colts have a probability of 0.68 of beating the Detroit Lions.\nThe Green Bay Packers have a probability of 0.89 of beating the San Francisco 49ers.\nThe Detroit Lions have a probability of 0.51 of beating the Minnesota Vikings.\nThe Pittsburgh Steelers have a probability of 0.97 of beating the Dallas Cowboys.\nThe Miami Dolphins have a probability of 0.42 of beating the Arizona Cardinals.\nThe New Orleans Saints have a probability of 0.49 of beating the Tampa Bay Buccaneers.\nThe New England Patriots have a probability of 0.75 of beating the New York Jets.\nThe Seattle Seahawks have a probability of 0.58 of beating the Los Angeles Rams.\nThe Philadelphia Eagles have a probability of 0.36 of beating the Cleveland Browns.\nThe Pittsburgh Steelers have a probability of 0.96 of beating the Jacksonville Jaguars.\nThe Carolina Panthers have a probability of 0.59 of beating the Minnesota Vikings.\nThe Tennessee Titans have a probability of 0.42 of beating the Indianapolis Colts.\nThe Baltimore Ravens have a probability of 0.14 of beating the Pittsburgh Steelers.\nThe Detroit Lions have a probability of 0.21 of beating the Chicago Bears.\nThe Los Angeles Rams have a probability of 0.48 of beating the Arizona Cardinals.\nThe Washington Football Team have a probability of 0.06 of beating the Pittsburgh Steelers.\nThe Buffalo Bills have a probability of 0.8 of beating the San Francisco 49ers.\nThe Dallas Cowboys have a probability of 0.12 of beating the Baltimore Ravens.\nThe Detroit Lions have a probability of 0.25 of beating the Tennessee Titans.\nThe San Francisco 49ers have a probability of 0.66 of beating the Dallas Cowboys.\nThe Houston Texans have a probability of 0.2 of beating the Indianapolis Colts.\nThe Pittsburgh Steelers have a probability of 0.96 of beating the Cincinnati Bengals.\nThe Minnesota Vikings have a probability of 0.64 of beating the Detroit Lions.\nThe Green Bay Packers have a probability of 0.79 of beating the Chicago Bears.\nThe Tennessee Titans have a probability of 0.71 of beating the Houston Texans.\n"
     ]
    }
   ],
   "source": [
    "display(y_pred,test_df)"
   ]
  },
  {
   "cell_type": "code",
   "execution_count": null,
   "metadata": {},
   "outputs": [],
   "source": []
  }
 ]
}