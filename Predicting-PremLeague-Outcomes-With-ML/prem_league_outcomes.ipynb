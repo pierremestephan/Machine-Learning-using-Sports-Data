{
 "metadata": {
  "language_info": {
   "codemirror_mode": {
    "name": "ipython",
    "version": 3
   },
   "file_extension": ".py",
   "mimetype": "text/x-python",
   "name": "python",
   "nbconvert_exporter": "python",
   "pygments_lexer": "ipython3",
   "version": "3.8.3-final"
  },
  "orig_nbformat": 2,
  "kernelspec": {
   "name": "python38332bit6d1402e1c1034531a3495dca05498510",
   "display_name": "Python 3.8.3 32-bit",
   "language": "python"
  }
 },
 "nbformat": 4,
 "nbformat_minor": 2,
 "cells": [
  {
   "cell_type": "code",
   "execution_count": 1,
   "metadata": {},
   "outputs": [],
   "source": [
    "import numpy as np\n",
    "import pandas as pd\n",
    "from sklearn.linear_model import LogisticRegression\n",
    "from sklearn.metrics import accuracy_score\n",
    "from sportsreference.fb.team import Team\n",
    "from sportsreference.fb.schedule import Schedule"
   ]
  },
  {
   "cell_type": "code",
   "execution_count": 2,
   "metadata": {},
   "outputs": [],
   "source": [
    "#Update these yearly to match Regulation\n",
    "EPLClubs = [\n",
    "    'Arsenal', 'Aston Villa', 'Brighton and Hove Albion', 'Burnley', 'Chelsea', \n",
    "    'Crystal Palace', 'Everton', 'Fulham', 'Leeds United', 'Leicester City', \n",
    "    'Liverpool', 'Manchester City', 'Manchester United', 'Newcastle United', \n",
    "    'Sheffield United', 'Southampton', 'Tottenham Hotspur', 'West Bromwich Albion', \n",
    "    'West Ham United', 'Wolverhampton Wanderers'\n",
    "]"
   ]
  },
  {
   "cell_type": "code",
   "execution_count": 12,
   "metadata": {},
   "outputs": [],
   "source": [
    "def build_dataframe(EPLClubs):\n",
    "    df = pd.DataFrame(EPLClubs, columns = ['Name'])\n",
    "    df['Record'] = Team('Arsenal').record\n",
    "    df['Points'] = Team('Arsenal').points\n",
    "    df['Goals Scored'] = Team('Arsenal').goals_scored\n",
    "    df['Goals Given'] = Team('Arsenal').goals_against\n",
    "    return df"
   ]
  },
  {
   "cell_type": "code",
   "execution_count": 14,
   "metadata": {},
   "outputs": [
    {
     "output_type": "execute_result",
     "data": {
      "text/plain": [
       "Empty DataFrame\n",
       "Columns: [Name, Record, Points, Goals Scored, Goals Conceded]\n",
       "Index: []"
      ],
      "text/html": "<div>\n<style scoped>\n    .dataframe tbody tr th:only-of-type {\n        vertical-align: middle;\n    }\n\n    .dataframe tbody tr th {\n        vertical-align: top;\n    }\n\n    .dataframe thead th {\n        text-align: right;\n    }\n</style>\n<table border=\"1\" class=\"dataframe\">\n  <thead>\n    <tr style=\"text-align: right;\">\n      <th></th>\n      <th>Name</th>\n      <th>Record</th>\n      <th>Points</th>\n      <th>Goals Scored</th>\n      <th>Goals Conceded</th>\n    </tr>\n  </thead>\n  <tbody>\n  </tbody>\n</table>\n</div>"
     },
     "metadata": {},
     "execution_count": 14
    }
   ],
   "source": [
    "df = pd.DataFrame(columns=('Name','Record','Points','Goals Scored', 'Goals Conceded'))\n",
    "for i in range(EPLClubs):\n",
    "    df.loc[i] = [i, Team(i).record, Team(i).points, Team(i).goals_scored, Team(i).goals_against]"
   ]
  },
  {
   "cell_type": "code",
   "execution_count": 13,
   "metadata": {},
   "outputs": [
    {
     "output_type": "execute_result",
     "data": {
      "text/plain": [
       "                       Name Record  Points  Goals Scored  Goals Given\n",
       "0                   Arsenal  7-2-3      23            40           11\n",
       "1               Aston Villa  7-2-3      23            40           11\n",
       "2  Brighton and Hove Albion  7-2-3      23            40           11\n",
       "3                   Burnley  7-2-3      23            40           11\n",
       "4                   Chelsea  7-2-3      23            40           11"
      ],
      "text/html": "<div>\n<style scoped>\n    .dataframe tbody tr th:only-of-type {\n        vertical-align: middle;\n    }\n\n    .dataframe tbody tr th {\n        vertical-align: top;\n    }\n\n    .dataframe thead th {\n        text-align: right;\n    }\n</style>\n<table border=\"1\" class=\"dataframe\">\n  <thead>\n    <tr style=\"text-align: right;\">\n      <th></th>\n      <th>Name</th>\n      <th>Record</th>\n      <th>Points</th>\n      <th>Goals Scored</th>\n      <th>Goals Given</th>\n    </tr>\n  </thead>\n  <tbody>\n    <tr>\n      <th>0</th>\n      <td>Arsenal</td>\n      <td>7-2-3</td>\n      <td>23</td>\n      <td>40</td>\n      <td>11</td>\n    </tr>\n    <tr>\n      <th>1</th>\n      <td>Aston Villa</td>\n      <td>7-2-3</td>\n      <td>23</td>\n      <td>40</td>\n      <td>11</td>\n    </tr>\n    <tr>\n      <th>2</th>\n      <td>Brighton and Hove Albion</td>\n      <td>7-2-3</td>\n      <td>23</td>\n      <td>40</td>\n      <td>11</td>\n    </tr>\n    <tr>\n      <th>3</th>\n      <td>Burnley</td>\n      <td>7-2-3</td>\n      <td>23</td>\n      <td>40</td>\n      <td>11</td>\n    </tr>\n    <tr>\n      <th>4</th>\n      <td>Chelsea</td>\n      <td>7-2-3</td>\n      <td>23</td>\n      <td>40</td>\n      <td>11</td>\n    </tr>\n  </tbody>\n</table>\n</div>"
     },
     "metadata": {},
     "execution_count": 13
    }
   ],
   "source": [
    "epl_df = build_dataframe(EPLClubs)\n",
    "epl_df.head()"
   ]
  }
 ]
}