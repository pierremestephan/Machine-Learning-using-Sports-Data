{
 "metadata": {
  "language_info": {
   "codemirror_mode": {
    "name": "ipython",
    "version": 3
   },
   "file_extension": ".py",
   "mimetype": "text/x-python",
   "name": "python",
   "nbconvert_exporter": "python",
   "pygments_lexer": "ipython3",
   "version": "3.8.3-final"
  },
  "orig_nbformat": 2,
  "kernelspec": {
   "name": "python38332bit6d1402e1c1034531a3495dca05498510",
   "display_name": "Python 3.8.3 32-bit",
   "language": "python"
  }
 },
 "nbformat": 4,
 "nbformat_minor": 2,
 "cells": [
  {
   "cell_type": "code",
   "execution_count": 1,
   "metadata": {},
   "outputs": [],
   "source": [
    "import os\n",
    "import glob\n",
    "import numpy as np\n",
    "import pandas as pd\n",
    "from sklearn.linear_model import LogisticRegression\n",
    "from sklearn.metrics import accuracy_score\n",
    "os.chdir(\"C:/Users/mycoo/OneDrive/Documents/SportsAnalytics/Machine-Learning-with-the-NFL/Predicting-PremLeague-Outcomes-With-ML/files/Datasets\")"
   ]
  },
  {
   "source": [
    "Data Taken from http://www.football-data.co.uk/englandm.php"
   ],
   "cell_type": "markdown",
   "metadata": {}
  },
  {
   "cell_type": "code",
   "execution_count": 2,
   "metadata": {},
   "outputs": [],
   "source": [
    "extension = 'csv'\n",
    "all_filenames = [i for i in glob.glob('*.{}'.format(extension))]"
   ]
  },
  {
   "cell_type": "code",
   "execution_count": 3,
   "metadata": {},
   "outputs": [],
   "source": [
    "#combine all files in the list\n",
    "master_sheet = pd.concat([pd.read_csv(f) for f in all_filenames ])\n",
    "#export to csv\n",
    "master_sheet.to_csv( \"master_sheet.csv\", index=False, encoding='utf-8-sig')"
   ]
  },
  {
   "source": [
    "Reduce table to using columns needed for the model\n",
    "\n",
    "Columns Required:\n",
    "\n",
    "Date, Time HomeTeam, AwayTeam, FTHG, FTAG, FTR, HTHG, HTAG, HS, AS, HST, AST, HC, AC, HF, AF, HR, AR\n",
    "\n",
    "Columns To Consider:\n",
    "\n",
    "Attendance, Referee"
   ],
   "cell_type": "markdown",
   "metadata": {}
  },
  {
   "cell_type": "code",
   "execution_count": 4,
   "metadata": {},
   "outputs": [],
   "source": [
    "subset_master = master_sheet[[\"Date\", \"Time\", \"HomeTeam\", \"AwayTeam\", \"FTHG\", \"FTAG\", \"FTR\", \"HTHG\", \"HTAG\", \"HS\", \"AS\", \"HST\", \"AST\", \"HC\", \"AC\", \"HF\", \"AF\", \"HR\", \"AR\"]]\n",
    "subset_master = subset_master.fillna(0)\n",
    "# 0 = Home Wins, 1 = Draw, 2 = Away Wins\n",
    "subset_master.FTR.replace(['H', 'D', 'A'], [0, 1, 2], inplace = True)"
   ]
  },
  {
   "cell_type": "code",
   "execution_count": 5,
   "metadata": {},
   "outputs": [
    {
     "output_type": "execute_result",
     "data": {
      "text/plain": [
       "       Date Time     HomeTeam    AwayTeam  FTHG  FTAG  FTR  HTHG  HTAG    HS  \\\n",
       "0  14/08/10    0  Aston Villa    West Ham   3.0   0.0    0   2.0   0.0  23.0   \n",
       "1  14/08/10    0    Blackburn     Everton   1.0   0.0    0   1.0   0.0   7.0   \n",
       "2  14/08/10    0       Bolton      Fulham   0.0   0.0    1   0.0   0.0  13.0   \n",
       "3  14/08/10    0      Chelsea   West Brom   6.0   0.0    0   2.0   0.0  18.0   \n",
       "4  14/08/10    0   Sunderland  Birmingham   2.0   2.0    1   1.0   0.0   6.0   \n",
       "\n",
       "     AS   HST   AST    HC   AC    HF    AF   HR   AR  \n",
       "0  12.0  11.0   2.0  16.0  7.0  15.0  15.0  0.0  0.0  \n",
       "1  17.0   2.0  12.0   1.0  3.0  19.0  14.0  0.0  0.0  \n",
       "2  12.0   9.0   7.0   4.0  8.0  12.0  13.0  0.0  0.0  \n",
       "3  10.0  13.0   4.0   3.0  1.0  10.0  10.0  0.0  0.0  \n",
       "4  13.0   2.0   7.0   3.0  6.0  13.0  10.0  1.0  0.0  "
      ],
      "text/html": "<div>\n<style scoped>\n    .dataframe tbody tr th:only-of-type {\n        vertical-align: middle;\n    }\n\n    .dataframe tbody tr th {\n        vertical-align: top;\n    }\n\n    .dataframe thead th {\n        text-align: right;\n    }\n</style>\n<table border=\"1\" class=\"dataframe\">\n  <thead>\n    <tr style=\"text-align: right;\">\n      <th></th>\n      <th>Date</th>\n      <th>Time</th>\n      <th>HomeTeam</th>\n      <th>AwayTeam</th>\n      <th>FTHG</th>\n      <th>FTAG</th>\n      <th>FTR</th>\n      <th>HTHG</th>\n      <th>HTAG</th>\n      <th>HS</th>\n      <th>AS</th>\n      <th>HST</th>\n      <th>AST</th>\n      <th>HC</th>\n      <th>AC</th>\n      <th>HF</th>\n      <th>AF</th>\n      <th>HR</th>\n      <th>AR</th>\n    </tr>\n  </thead>\n  <tbody>\n    <tr>\n      <th>0</th>\n      <td>14/08/10</td>\n      <td>0</td>\n      <td>Aston Villa</td>\n      <td>West Ham</td>\n      <td>3.0</td>\n      <td>0.0</td>\n      <td>0</td>\n      <td>2.0</td>\n      <td>0.0</td>\n      <td>23.0</td>\n      <td>12.0</td>\n      <td>11.0</td>\n      <td>2.0</td>\n      <td>16.0</td>\n      <td>7.0</td>\n      <td>15.0</td>\n      <td>15.0</td>\n      <td>0.0</td>\n      <td>0.0</td>\n    </tr>\n    <tr>\n      <th>1</th>\n      <td>14/08/10</td>\n      <td>0</td>\n      <td>Blackburn</td>\n      <td>Everton</td>\n      <td>1.0</td>\n      <td>0.0</td>\n      <td>0</td>\n      <td>1.0</td>\n      <td>0.0</td>\n      <td>7.0</td>\n      <td>17.0</td>\n      <td>2.0</td>\n      <td>12.0</td>\n      <td>1.0</td>\n      <td>3.0</td>\n      <td>19.0</td>\n      <td>14.0</td>\n      <td>0.0</td>\n      <td>0.0</td>\n    </tr>\n    <tr>\n      <th>2</th>\n      <td>14/08/10</td>\n      <td>0</td>\n      <td>Bolton</td>\n      <td>Fulham</td>\n      <td>0.0</td>\n      <td>0.0</td>\n      <td>1</td>\n      <td>0.0</td>\n      <td>0.0</td>\n      <td>13.0</td>\n      <td>12.0</td>\n      <td>9.0</td>\n      <td>7.0</td>\n      <td>4.0</td>\n      <td>8.0</td>\n      <td>12.0</td>\n      <td>13.0</td>\n      <td>0.0</td>\n      <td>0.0</td>\n    </tr>\n    <tr>\n      <th>3</th>\n      <td>14/08/10</td>\n      <td>0</td>\n      <td>Chelsea</td>\n      <td>West Brom</td>\n      <td>6.0</td>\n      <td>0.0</td>\n      <td>0</td>\n      <td>2.0</td>\n      <td>0.0</td>\n      <td>18.0</td>\n      <td>10.0</td>\n      <td>13.0</td>\n      <td>4.0</td>\n      <td>3.0</td>\n      <td>1.0</td>\n      <td>10.0</td>\n      <td>10.0</td>\n      <td>0.0</td>\n      <td>0.0</td>\n    </tr>\n    <tr>\n      <th>4</th>\n      <td>14/08/10</td>\n      <td>0</td>\n      <td>Sunderland</td>\n      <td>Birmingham</td>\n      <td>2.0</td>\n      <td>2.0</td>\n      <td>1</td>\n      <td>1.0</td>\n      <td>0.0</td>\n      <td>6.0</td>\n      <td>13.0</td>\n      <td>2.0</td>\n      <td>7.0</td>\n      <td>3.0</td>\n      <td>6.0</td>\n      <td>13.0</td>\n      <td>10.0</td>\n      <td>1.0</td>\n      <td>0.0</td>\n    </tr>\n  </tbody>\n</table>\n</div>"
     },
     "metadata": {},
     "execution_count": 5
    }
   ],
   "source": [
    "subset_master.head()"
   ]
  },
  {
   "cell_type": "code",
   "execution_count": 6,
   "metadata": {},
   "outputs": [],
   "source": [
    "msk = np.random.rand(len(subset_master)) < 0.70\n",
    "\n",
    "train_df = subset_master[msk]\n",
    "test_df = subset_master[~msk]\n",
    "\n",
    "X_train = train_df.drop(columns = ['Date', 'Time', 'HomeTeam', 'AwayTeam', 'FTR'])\n",
    "y_train = train_df[['FTR']] \n",
    "X_test = test_df.drop(columns = ['Date', 'Time', 'HomeTeam', 'AwayTeam', 'FTR'])\n",
    "y_test = test_df[['FTR']]"
   ]
  },
  {
   "cell_type": "code",
   "execution_count": 7,
   "metadata": {},
   "outputs": [],
   "source": [
    "clf = LogisticRegression(penalty='l1', dual=False, tol=0.001, C=1.0, fit_intercept=True, \n",
    "                   intercept_scaling=1, class_weight='balanced', random_state=None, \n",
    "                   solver='liblinear', max_iter=10000, multi_class='ovr', verbose=0)\n",
    "\n",
    "clf.fit(X_train, np.ravel(y_train.values))\n",
    "\n",
    "y_pred = clf.predict_proba(X_test)\n",
    "y_pred = pd.DataFrame(y_pred)"
   ]
  },
  {
   "cell_type": "code",
   "execution_count": 8,
   "metadata": {},
   "outputs": [
    {
     "output_type": "execute_result",
     "data": {
      "text/plain": [
       "       Date Time     HomeTeam    AwayTeam  FTHG  FTAG  FTR  HTHG  HTAG    HS  \\\n",
       "0  14/08/10    0  Aston Villa    West Ham   3.0   0.0    0   2.0   0.0  23.0   \n",
       "1  14/08/10    0    Blackburn     Everton   1.0   0.0    0   1.0   0.0   7.0   \n",
       "2  14/08/10    0       Bolton      Fulham   0.0   0.0    1   0.0   0.0  13.0   \n",
       "3  14/08/10    0      Chelsea   West Brom   6.0   0.0    0   2.0   0.0  18.0   \n",
       "4  14/08/10    0   Sunderland  Birmingham   2.0   2.0    1   1.0   0.0   6.0   \n",
       "\n",
       "   ...    HC   AC    HF    AF   HR   AR   HomeWinPerc  DrawPerc      AwayPerc  \\\n",
       "0  ...  16.0  7.0  15.0  15.0  0.0  0.0  6.702709e-01  0.329729  9.715962e-09   \n",
       "1  ...   1.0  3.0  19.0  14.0  0.0  0.0  3.668428e-02  0.947204  1.611158e-02   \n",
       "2  ...   4.0  8.0  12.0  13.0  0.0  0.0  5.199766e-21  0.238048  7.619516e-01   \n",
       "3  ...   3.0  1.0  10.0  10.0  0.0  0.0  8.335284e-01  0.166472  6.968158e-19   \n",
       "4  ...   3.0  6.0  13.0  10.0  1.0  0.0  8.484048e-01  0.151595  4.823795e-19   \n",
       "\n",
       "   PredResult  \n",
       "0           0  \n",
       "1           1  \n",
       "2           2  \n",
       "3           0  \n",
       "4           0  \n",
       "\n",
       "[5 rows x 23 columns]"
      ],
      "text/html": "<div>\n<style scoped>\n    .dataframe tbody tr th:only-of-type {\n        vertical-align: middle;\n    }\n\n    .dataframe tbody tr th {\n        vertical-align: top;\n    }\n\n    .dataframe thead th {\n        text-align: right;\n    }\n</style>\n<table border=\"1\" class=\"dataframe\">\n  <thead>\n    <tr style=\"text-align: right;\">\n      <th></th>\n      <th>Date</th>\n      <th>Time</th>\n      <th>HomeTeam</th>\n      <th>AwayTeam</th>\n      <th>FTHG</th>\n      <th>FTAG</th>\n      <th>FTR</th>\n      <th>HTHG</th>\n      <th>HTAG</th>\n      <th>HS</th>\n      <th>...</th>\n      <th>HC</th>\n      <th>AC</th>\n      <th>HF</th>\n      <th>AF</th>\n      <th>HR</th>\n      <th>AR</th>\n      <th>HomeWinPerc</th>\n      <th>DrawPerc</th>\n      <th>AwayPerc</th>\n      <th>PredResult</th>\n    </tr>\n  </thead>\n  <tbody>\n    <tr>\n      <th>0</th>\n      <td>14/08/10</td>\n      <td>0</td>\n      <td>Aston Villa</td>\n      <td>West Ham</td>\n      <td>3.0</td>\n      <td>0.0</td>\n      <td>0</td>\n      <td>2.0</td>\n      <td>0.0</td>\n      <td>23.0</td>\n      <td>...</td>\n      <td>16.0</td>\n      <td>7.0</td>\n      <td>15.0</td>\n      <td>15.0</td>\n      <td>0.0</td>\n      <td>0.0</td>\n      <td>6.702709e-01</td>\n      <td>0.329729</td>\n      <td>9.715962e-09</td>\n      <td>0</td>\n    </tr>\n    <tr>\n      <th>1</th>\n      <td>14/08/10</td>\n      <td>0</td>\n      <td>Blackburn</td>\n      <td>Everton</td>\n      <td>1.0</td>\n      <td>0.0</td>\n      <td>0</td>\n      <td>1.0</td>\n      <td>0.0</td>\n      <td>7.0</td>\n      <td>...</td>\n      <td>1.0</td>\n      <td>3.0</td>\n      <td>19.0</td>\n      <td>14.0</td>\n      <td>0.0</td>\n      <td>0.0</td>\n      <td>3.668428e-02</td>\n      <td>0.947204</td>\n      <td>1.611158e-02</td>\n      <td>1</td>\n    </tr>\n    <tr>\n      <th>2</th>\n      <td>14/08/10</td>\n      <td>0</td>\n      <td>Bolton</td>\n      <td>Fulham</td>\n      <td>0.0</td>\n      <td>0.0</td>\n      <td>1</td>\n      <td>0.0</td>\n      <td>0.0</td>\n      <td>13.0</td>\n      <td>...</td>\n      <td>4.0</td>\n      <td>8.0</td>\n      <td>12.0</td>\n      <td>13.0</td>\n      <td>0.0</td>\n      <td>0.0</td>\n      <td>5.199766e-21</td>\n      <td>0.238048</td>\n      <td>7.619516e-01</td>\n      <td>2</td>\n    </tr>\n    <tr>\n      <th>3</th>\n      <td>14/08/10</td>\n      <td>0</td>\n      <td>Chelsea</td>\n      <td>West Brom</td>\n      <td>6.0</td>\n      <td>0.0</td>\n      <td>0</td>\n      <td>2.0</td>\n      <td>0.0</td>\n      <td>18.0</td>\n      <td>...</td>\n      <td>3.0</td>\n      <td>1.0</td>\n      <td>10.0</td>\n      <td>10.0</td>\n      <td>0.0</td>\n      <td>0.0</td>\n      <td>8.335284e-01</td>\n      <td>0.166472</td>\n      <td>6.968158e-19</td>\n      <td>0</td>\n    </tr>\n    <tr>\n      <th>4</th>\n      <td>14/08/10</td>\n      <td>0</td>\n      <td>Sunderland</td>\n      <td>Birmingham</td>\n      <td>2.0</td>\n      <td>2.0</td>\n      <td>1</td>\n      <td>1.0</td>\n      <td>0.0</td>\n      <td>6.0</td>\n      <td>...</td>\n      <td>3.0</td>\n      <td>6.0</td>\n      <td>13.0</td>\n      <td>10.0</td>\n      <td>1.0</td>\n      <td>0.0</td>\n      <td>8.484048e-01</td>\n      <td>0.151595</td>\n      <td>4.823795e-19</td>\n      <td>0</td>\n    </tr>\n  </tbody>\n</table>\n<p>5 rows × 23 columns</p>\n</div>"
     },
     "metadata": {},
     "execution_count": 8
    }
   ],
   "source": [
    "subset_master.loc[:, 'HomeWinPerc'] = y_pred[0]\n",
    "subset_master.loc[:, 'DrawPerc'] = y_pred[1]\n",
    "subset_master.loc[:, 'AwayPerc'] = y_pred[2]\n",
    "\n",
    "conditions = [\n",
    "    (subset_master['HomeWinPerc'] >= subset_master['DrawPerc']) & (subset_master['HomeWinPerc'] >= subset_master['AwayPerc']), #Home Condition\n",
    "    (subset_master['HomeWinPerc'] <= subset_master['DrawPerc']) & (subset_master['DrawPerc'] >= subset_master['AwayPerc']), #Draw Condition\n",
    "    (subset_master['HomeWinPerc'] <= subset_master['DrawPerc']) & (subset_master['DrawPerc'] <= subset_master['AwayPerc']) #Away Condition\n",
    "]\n",
    "\n",
    "values = [0, 1, 2]\n",
    "\n",
    "subset_master[\"PredResult\"] = np.select(conditions, values)\n",
    "\n",
    "subset_master.head()"
   ]
  }
 ]
}