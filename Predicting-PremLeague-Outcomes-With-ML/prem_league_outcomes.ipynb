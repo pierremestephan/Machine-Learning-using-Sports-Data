{
 "metadata": {
  "language_info": {
   "codemirror_mode": {
    "name": "ipython",
    "version": 3
   },
   "file_extension": ".py",
   "mimetype": "text/x-python",
   "name": "python",
   "nbconvert_exporter": "python",
   "pygments_lexer": "ipython3",
   "version": "3.8.3-final"
  },
  "orig_nbformat": 2,
  "kernelspec": {
   "name": "python38332bit6d1402e1c1034531a3495dca05498510",
   "display_name": "Python 3.8.3 32-bit",
   "language": "python"
  }
 },
 "nbformat": 4,
 "nbformat_minor": 2,
 "cells": [
  {
   "cell_type": "code",
   "execution_count": 8,
   "metadata": {},
   "outputs": [],
   "source": [
    "import numpy as np\n",
    "import pandas as pd\n",
    "from sklearn.linear_model import LogisticRegression\n",
    "from sklearn.metrics import accuracy_score\n",
    "from sportsreference.fb.team import Team\n",
    "from sportsreference.fb.schedule import Schedule"
   ]
  },
  {
   "cell_type": "code",
   "execution_count": 18,
   "metadata": {},
   "outputs": [],
   "source": [
    "#Update these yearly for Regulation\n",
    "EPLClubs = {'Name':['Arsenal', 'Aston Villa', 'Brighton and Hove Albion', 'Burnley', 'Chelsea', 'Crystal Palace', 'Everton', 'Fulham', 'Leeds United', 'Leicester City', 'Liverpool', 'Manchester City', 'Manchester United', 'Newcastle United', 'Sheffield United', 'Southampton', 'Tottenham Hotspur', 'West Bromwich Albion', 'West Ham United', 'Wolverhampton Wanderers']}"
   ]
  },
  {
   "cell_type": "code",
   "execution_count": 36,
   "metadata": {},
   "outputs": [
    {
     "output_type": "execute_result",
     "data": {
      "text/plain": [
       "                        Name Goals Scored\n",
       "0                    Arsenal           39\n",
       "1                Aston Villa           39\n",
       "2   Brighton and Hove Albion           39\n",
       "3                    Burnley           39\n",
       "4                    Chelsea           39\n",
       "5             Crystal Palace           39\n",
       "6                    Everton           39\n",
       "7                     Fulham           39\n",
       "8               Leeds United           39\n",
       "9             Leicester City           39\n",
       "10                 Liverpool           39\n",
       "11           Manchester City           39\n",
       "12         Manchester United           39\n",
       "13          Newcastle United           39\n",
       "14          Sheffield United           39\n",
       "15               Southampton           39\n",
       "16         Tottenham Hotspur           39\n",
       "17      West Bromwich Albion           39\n",
       "18           West Ham United           39\n",
       "19   Wolverhampton Wanderers           39"
      ],
      "text/html": "<div>\n<style scoped>\n    .dataframe tbody tr th:only-of-type {\n        vertical-align: middle;\n    }\n\n    .dataframe tbody tr th {\n        vertical-align: top;\n    }\n\n    .dataframe thead th {\n        text-align: right;\n    }\n</style>\n<table border=\"1\" class=\"dataframe\">\n  <thead>\n    <tr style=\"text-align: right;\">\n      <th></th>\n      <th>Name</th>\n      <th>Goals Scored</th>\n    </tr>\n  </thead>\n  <tbody>\n    <tr>\n      <th>0</th>\n      <td>Arsenal</td>\n      <td>39</td>\n    </tr>\n    <tr>\n      <th>1</th>\n      <td>Aston Villa</td>\n      <td>39</td>\n    </tr>\n    <tr>\n      <th>2</th>\n      <td>Brighton and Hove Albion</td>\n      <td>39</td>\n    </tr>\n    <tr>\n      <th>3</th>\n      <td>Burnley</td>\n      <td>39</td>\n    </tr>\n    <tr>\n      <th>4</th>\n      <td>Chelsea</td>\n      <td>39</td>\n    </tr>\n    <tr>\n      <th>5</th>\n      <td>Crystal Palace</td>\n      <td>39</td>\n    </tr>\n    <tr>\n      <th>6</th>\n      <td>Everton</td>\n      <td>39</td>\n    </tr>\n    <tr>\n      <th>7</th>\n      <td>Fulham</td>\n      <td>39</td>\n    </tr>\n    <tr>\n      <th>8</th>\n      <td>Leeds United</td>\n      <td>39</td>\n    </tr>\n    <tr>\n      <th>9</th>\n      <td>Leicester City</td>\n      <td>39</td>\n    </tr>\n    <tr>\n      <th>10</th>\n      <td>Liverpool</td>\n      <td>39</td>\n    </tr>\n    <tr>\n      <th>11</th>\n      <td>Manchester City</td>\n      <td>39</td>\n    </tr>\n    <tr>\n      <th>12</th>\n      <td>Manchester United</td>\n      <td>39</td>\n    </tr>\n    <tr>\n      <th>13</th>\n      <td>Newcastle United</td>\n      <td>39</td>\n    </tr>\n    <tr>\n      <th>14</th>\n      <td>Sheffield United</td>\n      <td>39</td>\n    </tr>\n    <tr>\n      <th>15</th>\n      <td>Southampton</td>\n      <td>39</td>\n    </tr>\n    <tr>\n      <th>16</th>\n      <td>Tottenham Hotspur</td>\n      <td>39</td>\n    </tr>\n    <tr>\n      <th>17</th>\n      <td>West Bromwich Albion</td>\n      <td>39</td>\n    </tr>\n    <tr>\n      <th>18</th>\n      <td>West Ham United</td>\n      <td>39</td>\n    </tr>\n    <tr>\n      <th>19</th>\n      <td>Wolverhampton Wanderers</td>\n      <td>39</td>\n    </tr>\n  </tbody>\n</table>\n</div>"
     },
     "metadata": {},
     "execution_count": 36
    }
   ],
   "source": [
    "def build_dataframe(EPLClubs):\n",
    "    df = pd.DataFrame(EPLClubs, columns = ['Name','Goals Scored'])\n",
    "    for row in df.index:\n",
    "        df['Goals Scored'][row] = Team('Arsenal').goals_scored\n",
    "    return df\n",
    "build_dataframe(EPLClubs)"
   ]
  },
  {
   "cell_type": "code",
   "execution_count": null,
   "metadata": {},
   "outputs": [],
   "source": []
  }
 ]
}