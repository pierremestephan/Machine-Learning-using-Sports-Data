{
 "metadata": {
  "language_info": {
   "codemirror_mode": {
    "name": "ipython",
    "version": 3
   },
   "file_extension": ".py",
   "mimetype": "text/x-python",
   "name": "python",
   "nbconvert_exporter": "python",
   "pygments_lexer": "ipython3",
   "version": "3.8.3-final"
  },
  "orig_nbformat": 2,
  "kernelspec": {
   "name": "python38332bit6d1402e1c1034531a3495dca05498510",
   "display_name": "Python 3.8.3 32-bit",
   "language": "python"
  }
 },
 "nbformat": 4,
 "nbformat_minor": 2,
 "cells": [
  {
   "cell_type": "code",
   "execution_count": 1,
   "metadata": {},
   "outputs": [],
   "source": [
    "import numpy as np\n",
    "import pandas as pd\n",
    "from sklearn.linear_model import LogisticRegression\n",
    "from sklearn.metrics import accuracy_score\n",
    "from sportsreference.fb.team import Team\n",
    "from sportsreference.fb.schedule import Schedule"
   ]
  },
  {
   "cell_type": "code",
   "execution_count": 2,
   "metadata": {},
   "outputs": [],
   "source": [
    "#Update these yearly to match Regulation\n",
    "EPLClubs = [\n",
    "    'Arsenal', 'Aston Villa', 'Brighton and Hove Albion', 'Burnley', 'Chelsea', \n",
    "    'Crystal Palace', 'Everton', 'Fulham', 'Leeds United', 'Leicester City', \n",
    "    'Liverpool', 'Manchester City', 'Manchester United', 'Newcastle United', \n",
    "    'Sheffield United', 'Southampton', 'Tottenham Hotspur', 'West Bromwich Albion', \n",
    "    'West Ham United', 'Wolverhampton Wanderers'\n",
    "]"
   ]
  }
 ]
}