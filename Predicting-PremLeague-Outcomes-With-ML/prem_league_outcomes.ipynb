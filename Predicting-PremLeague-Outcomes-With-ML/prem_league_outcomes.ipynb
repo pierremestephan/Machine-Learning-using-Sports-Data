{
 "metadata": {
  "language_info": {
   "codemirror_mode": {
    "name": "ipython",
    "version": 3
   },
   "file_extension": ".py",
   "mimetype": "text/x-python",
   "name": "python",
   "nbconvert_exporter": "python",
   "pygments_lexer": "ipython3",
   "version": "3.8.3-final"
  },
  "orig_nbformat": 2,
  "kernelspec": {
   "name": "python38332bit6d1402e1c1034531a3495dca05498510",
   "display_name": "Python 3.8.3 32-bit",
   "language": "python"
  }
 },
 "nbformat": 4,
 "nbformat_minor": 2,
 "cells": [
  {
   "cell_type": "code",
   "execution_count": 8,
   "metadata": {},
   "outputs": [],
   "source": [
    "import numpy as np\n",
    "import pandas as pd\n",
    "from sklearn.linear_model import LogisticRegression\n",
    "from sklearn.metrics import accuracy_score\n",
    "from sportsreference.fb.team import Team\n",
    "from sportsreference.fb.schedule import Schedule"
   ]
  },
  {
   "cell_type": "code",
   "execution_count": 18,
   "metadata": {},
   "outputs": [],
   "source": [
    "#Update these yearly for Regulation\n",
    "EPLClubs = {'Arsenal', 'Aston Villa', 'Brighton and Hove Albion', 'Burnley', 'Chelsea', 'Crystal Palace', 'Everton', 'Fulham', 'Leeds United', 'Leicester City', 'Liverpool', 'Manchester City', 'Manchester United', 'Newcastle United', 'Sheffield United', 'Southampton', 'Tottenham Hotspur', 'West Bromwich Albion', 'West Ham United', 'Wolverhampton Wanderers'}"
   ]
  },
  {
   "cell_type": "code",
   "execution_count": 47,
   "metadata": {},
   "outputs": [],
   "source": [
    "def build_dataframe(EPLClubs):\n",
    "    df = pd.DataFrame(EPLClubs, columns = ['Name'])\n",
    "    df['Record'] = Team('Arsenal').record\n",
    "    df['Points'] = Team('Arsenal').points\n",
    "    df['Goals Scored'] = Team('Arsenal').goals_scored\n",
    "    df['Goals Given'] = Team('Arsenal').goals_against\n",
    "    return df"
   ]
  },
  {
   "cell_type": "code",
   "execution_count": 48,
   "metadata": {},
   "outputs": [
    {
     "output_type": "execute_result",
     "data": {
      "text/plain": [
       "                       Name Record  Points  Goals Scored  Goals Given\n",
       "0                   Arsenal  7-2-2      23            39            9\n",
       "1               Aston Villa  7-2-2      23            39            9\n",
       "2  Brighton and Hove Albion  7-2-2      23            39            9\n",
       "3                   Burnley  7-2-2      23            39            9\n",
       "4                   Chelsea  7-2-2      23            39            9"
      ],
      "text/html": "<div>\n<style scoped>\n    .dataframe tbody tr th:only-of-type {\n        vertical-align: middle;\n    }\n\n    .dataframe tbody tr th {\n        vertical-align: top;\n    }\n\n    .dataframe thead th {\n        text-align: right;\n    }\n</style>\n<table border=\"1\" class=\"dataframe\">\n  <thead>\n    <tr style=\"text-align: right;\">\n      <th></th>\n      <th>Name</th>\n      <th>Record</th>\n      <th>Points</th>\n      <th>Goals Scored</th>\n      <th>Goals Given</th>\n    </tr>\n  </thead>\n  <tbody>\n    <tr>\n      <th>0</th>\n      <td>Arsenal</td>\n      <td>7-2-2</td>\n      <td>23</td>\n      <td>39</td>\n      <td>9</td>\n    </tr>\n    <tr>\n      <th>1</th>\n      <td>Aston Villa</td>\n      <td>7-2-2</td>\n      <td>23</td>\n      <td>39</td>\n      <td>9</td>\n    </tr>\n    <tr>\n      <th>2</th>\n      <td>Brighton and Hove Albion</td>\n      <td>7-2-2</td>\n      <td>23</td>\n      <td>39</td>\n      <td>9</td>\n    </tr>\n    <tr>\n      <th>3</th>\n      <td>Burnley</td>\n      <td>7-2-2</td>\n      <td>23</td>\n      <td>39</td>\n      <td>9</td>\n    </tr>\n    <tr>\n      <th>4</th>\n      <td>Chelsea</td>\n      <td>7-2-2</td>\n      <td>23</td>\n      <td>39</td>\n      <td>9</td>\n    </tr>\n  </tbody>\n</table>\n</div>"
     },
     "metadata": {},
     "execution_count": 48
    }
   ],
   "source": [
    "epl_df = build_dataframe(EPLClubs)\n",
    "epl_df.head()"
   ]
  },
  {
   "cell_type": "code",
   "execution_count": null,
   "metadata": {},
   "outputs": [],
   "source": []
  }
 ]
}