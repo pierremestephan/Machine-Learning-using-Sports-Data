{
 "metadata": {
  "language_info": {
   "codemirror_mode": {
    "name": "ipython",
    "version": 3
   },
   "file_extension": ".py",
   "mimetype": "text/x-python",
   "name": "python",
   "nbconvert_exporter": "python",
   "pygments_lexer": "ipython3",
   "version": "3.8.3-final"
  },
  "orig_nbformat": 2,
  "kernelspec": {
   "name": "python38332bit6d1402e1c1034531a3495dca05498510",
   "display_name": "Python 3.8.3 32-bit",
   "language": "python"
  }
 },
 "nbformat": 4,
 "nbformat_minor": 2,
 "cells": [
  {
   "cell_type": "code",
   "execution_count": 1,
   "metadata": {},
   "outputs": [
    {
     "output_type": "error",
     "ename": "ModuleNotFoundError",
     "evalue": "No module named 'sklearn.ensamble'",
     "traceback": [
      "\u001b[1;31m---------------------------------------------------------------------------\u001b[0m",
      "\u001b[1;31mModuleNotFoundError\u001b[0m                       Traceback (most recent call last)",
      "\u001b[1;32m<ipython-input-1-f0b6da898ba6>\u001b[0m in \u001b[0;36m<module>\u001b[1;34m\u001b[0m\n\u001b[0;32m      4\u001b[0m \u001b[1;32mimport\u001b[0m \u001b[0mpandas\u001b[0m \u001b[1;32mas\u001b[0m \u001b[0mpd\u001b[0m\u001b[1;33m\u001b[0m\u001b[1;33m\u001b[0m\u001b[0m\n\u001b[0;32m      5\u001b[0m \u001b[1;32mfrom\u001b[0m \u001b[0mfunctions\u001b[0m \u001b[1;32mimport\u001b[0m \u001b[0mmetrics\u001b[0m\u001b[1;33m\u001b[0m\u001b[1;33m\u001b[0m\u001b[0m\n\u001b[1;32m----> 6\u001b[1;33m \u001b[1;32mfrom\u001b[0m \u001b[0msklearn\u001b[0m\u001b[1;33m.\u001b[0m\u001b[0mensamble\u001b[0m \u001b[1;32mimport\u001b[0m \u001b[0mRandomForestClassifier\u001b[0m\u001b[1;33m\u001b[0m\u001b[1;33m\u001b[0m\u001b[0m\n\u001b[0m\u001b[0;32m      7\u001b[0m \u001b[1;32mfrom\u001b[0m \u001b[0msklearn\u001b[0m\u001b[1;33m.\u001b[0m\u001b[0mmetrics\u001b[0m \u001b[1;32mimport\u001b[0m \u001b[0maccuracy_score\u001b[0m\u001b[1;33m\u001b[0m\u001b[1;33m\u001b[0m\u001b[0m\n\u001b[0;32m      8\u001b[0m \u001b[0mos\u001b[0m\u001b[1;33m.\u001b[0m\u001b[0mchdir\u001b[0m\u001b[1;33m(\u001b[0m\u001b[1;34m\"C:/Users/mycoo/OneDrive/Documents/SportsAnalytics/Machine-Learning-with-the-NFL/Predicting-PremLeague-Outcomes-With-ML/files/Datasets\"\u001b[0m\u001b[1;33m)\u001b[0m\u001b[1;33m\u001b[0m\u001b[1;33m\u001b[0m\u001b[0m\n",
      "\u001b[1;31mModuleNotFoundError\u001b[0m: No module named 'sklearn.ensamble'"
     ]
    }
   ],
   "source": [
    "import os\n",
    "import glob\n",
    "import numpy as np\n",
    "import pandas as pd\n",
    "from functions import metrics\n",
    "from sklearn.ensamble import RandomForestClassifier\n",
    "from sklearn.metrics import accuracy_score\n",
    "os.chdir(\"C:/Users/mycoo/OneDrive/Documents/SportsAnalytics/Machine-Learning-with-the-NFL/Predicting-PremLeague-Outcomes-With-ML/files/Datasets\")"
   ]
  },
  {
   "source": [
    "Data Taken from http://www.football-data.co.uk/englandm.php"
   ],
   "cell_type": "markdown",
   "metadata": {}
  },
  {
   "cell_type": "code",
   "execution_count": 2,
   "metadata": {},
   "outputs": [],
   "source": [
    "extension = 'csv'\n",
    "all_filenames = [i for i in glob.glob('*.{}'.format(extension))]"
   ]
  },
  {
   "cell_type": "code",
   "execution_count": 3,
   "metadata": {},
   "outputs": [],
   "source": [
    "#combine all files in the list\n",
    "master_sheet = pd.concat([pd.read_csv(f) for f in all_filenames ])\n",
    "#export to csv\n",
    "master_sheet.to_csv( \"master_sheet.csv\", index=False, encoding='utf-8-sig')"
   ]
  },
  {
   "source": [
    "Reduce table to using columns needed for the model\n",
    "\n",
    "Columns Required:\n",
    "\n",
    "Date, Time HomeTeam, AwayTeam, FullTimeHG, FullTimeAG, FullTimeRresults, HalfTimeHG, HalfTimeAG, HomeShots, AwayShots, HomeShotsTarger, AwayShotsTarger, HomeCorners, AwayCorners, HomeFouls, AwayFouls, HomeRed, AwayRed\n",
    "\n",
    "Columns To Consider:\n",
    "\n",
    "Attendance, Referee"
   ],
   "cell_type": "markdown",
   "metadata": {}
  },
  {
   "cell_type": "code",
   "execution_count": 4,
   "metadata": {},
   "outputs": [],
   "source": [
    "subset_master = master_sheet[[\"Date\", \"Time\", \"HomeTeam\", \"AwayTeam\", \"FTHG\", \"FTAG\", \"FTR\", \"HTHG\", \"HTAG\", \"HS\", \"AS\", \"HST\", \"AST\", \"HC\", \"AC\", \"HF\", \"AF\", \"HR\", \"AR\"]]\n",
    "subset_master = subset_master.fillna(0)\n",
    "# 0 = Home Wins, 1 = Draw, 2 = Away Wins\n",
    "subset_master.FTR.replace(['H', 'D', 'A'], [0, 1, 2], inplace = True)"
   ]
  },
  {
   "cell_type": "code",
   "execution_count": 5,
   "metadata": {},
   "outputs": [
    {
     "output_type": "execute_result",
     "data": {
      "text/plain": [
       "       Date Time     HomeTeam    AwayTeam  FTHG  FTAG  FTR  HTHG  HTAG    HS  \\\n",
       "0  14/08/10    0  Aston Villa    West Ham   3.0   0.0    0   2.0   0.0  23.0   \n",
       "1  14/08/10    0    Blackburn     Everton   1.0   0.0    0   1.0   0.0   7.0   \n",
       "2  14/08/10    0       Bolton      Fulham   0.0   0.0    1   0.0   0.0  13.0   \n",
       "3  14/08/10    0      Chelsea   West Brom   6.0   0.0    0   2.0   0.0  18.0   \n",
       "4  14/08/10    0   Sunderland  Birmingham   2.0   2.0    1   1.0   0.0   6.0   \n",
       "\n",
       "     AS   HST   AST    HC   AC    HF    AF   HR   AR  \n",
       "0  12.0  11.0   2.0  16.0  7.0  15.0  15.0  0.0  0.0  \n",
       "1  17.0   2.0  12.0   1.0  3.0  19.0  14.0  0.0  0.0  \n",
       "2  12.0   9.0   7.0   4.0  8.0  12.0  13.0  0.0  0.0  \n",
       "3  10.0  13.0   4.0   3.0  1.0  10.0  10.0  0.0  0.0  \n",
       "4  13.0   2.0   7.0   3.0  6.0  13.0  10.0  1.0  0.0  "
      ],
      "text/html": "<div>\n<style scoped>\n    .dataframe tbody tr th:only-of-type {\n        vertical-align: middle;\n    }\n\n    .dataframe tbody tr th {\n        vertical-align: top;\n    }\n\n    .dataframe thead th {\n        text-align: right;\n    }\n</style>\n<table border=\"1\" class=\"dataframe\">\n  <thead>\n    <tr style=\"text-align: right;\">\n      <th></th>\n      <th>Date</th>\n      <th>Time</th>\n      <th>HomeTeam</th>\n      <th>AwayTeam</th>\n      <th>FTHG</th>\n      <th>FTAG</th>\n      <th>FTR</th>\n      <th>HTHG</th>\n      <th>HTAG</th>\n      <th>HS</th>\n      <th>AS</th>\n      <th>HST</th>\n      <th>AST</th>\n      <th>HC</th>\n      <th>AC</th>\n      <th>HF</th>\n      <th>AF</th>\n      <th>HR</th>\n      <th>AR</th>\n    </tr>\n  </thead>\n  <tbody>\n    <tr>\n      <th>0</th>\n      <td>14/08/10</td>\n      <td>0</td>\n      <td>Aston Villa</td>\n      <td>West Ham</td>\n      <td>3.0</td>\n      <td>0.0</td>\n      <td>0</td>\n      <td>2.0</td>\n      <td>0.0</td>\n      <td>23.0</td>\n      <td>12.0</td>\n      <td>11.0</td>\n      <td>2.0</td>\n      <td>16.0</td>\n      <td>7.0</td>\n      <td>15.0</td>\n      <td>15.0</td>\n      <td>0.0</td>\n      <td>0.0</td>\n    </tr>\n    <tr>\n      <th>1</th>\n      <td>14/08/10</td>\n      <td>0</td>\n      <td>Blackburn</td>\n      <td>Everton</td>\n      <td>1.0</td>\n      <td>0.0</td>\n      <td>0</td>\n      <td>1.0</td>\n      <td>0.0</td>\n      <td>7.0</td>\n      <td>17.0</td>\n      <td>2.0</td>\n      <td>12.0</td>\n      <td>1.0</td>\n      <td>3.0</td>\n      <td>19.0</td>\n      <td>14.0</td>\n      <td>0.0</td>\n      <td>0.0</td>\n    </tr>\n    <tr>\n      <th>2</th>\n      <td>14/08/10</td>\n      <td>0</td>\n      <td>Bolton</td>\n      <td>Fulham</td>\n      <td>0.0</td>\n      <td>0.0</td>\n      <td>1</td>\n      <td>0.0</td>\n      <td>0.0</td>\n      <td>13.0</td>\n      <td>12.0</td>\n      <td>9.0</td>\n      <td>7.0</td>\n      <td>4.0</td>\n      <td>8.0</td>\n      <td>12.0</td>\n      <td>13.0</td>\n      <td>0.0</td>\n      <td>0.0</td>\n    </tr>\n    <tr>\n      <th>3</th>\n      <td>14/08/10</td>\n      <td>0</td>\n      <td>Chelsea</td>\n      <td>West Brom</td>\n      <td>6.0</td>\n      <td>0.0</td>\n      <td>0</td>\n      <td>2.0</td>\n      <td>0.0</td>\n      <td>18.0</td>\n      <td>10.0</td>\n      <td>13.0</td>\n      <td>4.0</td>\n      <td>3.0</td>\n      <td>1.0</td>\n      <td>10.0</td>\n      <td>10.0</td>\n      <td>0.0</td>\n      <td>0.0</td>\n    </tr>\n    <tr>\n      <th>4</th>\n      <td>14/08/10</td>\n      <td>0</td>\n      <td>Sunderland</td>\n      <td>Birmingham</td>\n      <td>2.0</td>\n      <td>2.0</td>\n      <td>1</td>\n      <td>1.0</td>\n      <td>0.0</td>\n      <td>6.0</td>\n      <td>13.0</td>\n      <td>2.0</td>\n      <td>7.0</td>\n      <td>3.0</td>\n      <td>6.0</td>\n      <td>13.0</td>\n      <td>10.0</td>\n      <td>1.0</td>\n      <td>0.0</td>\n    </tr>\n  </tbody>\n</table>\n</div>"
     },
     "metadata": {},
     "execution_count": 5
    }
   ],
   "source": [
    "subset_master.head()"
   ]
  },
  {
   "cell_type": "code",
   "execution_count": 6,
   "metadata": {},
   "outputs": [],
   "source": [
    "msk = np.random.rand(len(subset_master)) < 0.75\n",
    "\n",
    "train_df = subset_master[msk]\n",
    "test_df = subset_master[~msk]\n",
    "\n",
    "X_train = train_df.drop(columns = ['Date', 'Time', 'HomeTeam', 'AwayTeam', 'FTR'])\n",
    "y_train = train_df[['FTR']] \n",
    "X_test = test_df.drop(columns = ['Date', 'Time', 'HomeTeam', 'AwayTeam', 'FTR'])\n",
    "y_test = test_df[['FTR']]"
   ]
  },
  {
   "cell_type": "code",
   "execution_count": 7,
   "metadata": {},
   "outputs": [],
   "source": [
    "clf = MLPClassifier(solver='lbfgs', alpha=.01,random_state=1)\n",
    "clf.fit(X_train, y_train)\n",
    "\n",
    "y_pred = clf.predict_proba(X_test)\n",
    "y_pred = pd.DataFrame(y_pred)"
   ]
  },
  {
   "source": [
    "Identifying how often Predicted Results decided the outcome (win, draw, away) against the actual results)"
   ],
   "cell_type": "markdown",
   "metadata": {}
  },
  {
   "cell_type": "code",
   "execution_count": 8,
   "metadata": {},
   "outputs": [
    {
     "output_type": "stream",
     "name": "stdout",
     "text": [
      "False    64.296729\nTrue     35.703271\nName: Comparison, dtype: float64\n0    45.261196\n2    30.103450\n1    24.635353\nName: FTR, dtype: float64\n0    45.428259\n2    29.807878\n1    24.763863\nName: PredResult, dtype: float64\n"
     ]
    }
   ],
   "source": [
    "metrics(subset_master, y_pred)"
   ]
  },
  {
   "cell_type": "code",
   "execution_count": 9,
   "metadata": {},
   "outputs": [
    {
     "output_type": "execute_result",
     "data": {
      "text/plain": [
       "              Date   Time          HomeTeam        AwayTeam  FTHG  FTAG  FTR  \\\n",
       "0         14/08/10      0       Aston Villa        West Ham   3.0   0.0    0   \n",
       "1         14/08/10      0         Blackburn         Everton   1.0   0.0    0   \n",
       "2         14/08/10      0            Bolton          Fulham   0.0   0.0    1   \n",
       "3         14/08/10      0           Chelsea       West Brom   6.0   0.0    0   \n",
       "4         14/08/10      0        Sunderland      Birmingham   2.0   2.0    1   \n",
       "...            ...    ...               ...             ...   ...   ...  ...   \n",
       "104671  07/02/2021  12:00         Tottenham       West Brom   2.0   0.0    0   \n",
       "104672  07/02/2021  14:00            Wolves       Leicester   0.0   0.0    1   \n",
       "104673  07/02/2021  16:30         Liverpool        Man City   1.0   4.0    2   \n",
       "104674  07/02/2021  19:15  Sheffield United         Chelsea   1.0   2.0    2   \n",
       "104675  08/02/2021  20:00             Leeds  Crystal Palace   2.0   0.0    0   \n",
       "\n",
       "        HTHG  HTAG    HS  ...   AST    HC   AC    HF    AF   HR   AR  \\\n",
       "0        2.0   0.0  23.0  ...   2.0  16.0  7.0  15.0  15.0  0.0  0.0   \n",
       "1        1.0   0.0   7.0  ...  12.0   1.0  3.0  19.0  14.0  0.0  0.0   \n",
       "2        0.0   0.0  13.0  ...   7.0   4.0  8.0  12.0  13.0  0.0  0.0   \n",
       "3        2.0   0.0  18.0  ...   4.0   3.0  1.0  10.0  10.0  0.0  0.0   \n",
       "4        1.0   0.0   6.0  ...   7.0   3.0  6.0  13.0  10.0  1.0  0.0   \n",
       "...      ...   ...   ...  ...   ...   ...  ...   ...   ...  ...  ...   \n",
       "104671   0.0   0.0  13.0  ...   1.0   8.0  0.0  16.0  12.0  0.0  0.0   \n",
       "104672   0.0   0.0  13.0  ...   3.0   8.0  2.0  11.0  15.0  0.0  0.0   \n",
       "104673   0.0   0.0   8.0  ...   5.0   6.0  1.0  13.0   8.0  0.0  0.0   \n",
       "104674   0.0   1.0   8.0  ...   3.0   1.0  8.0   8.0   8.0  0.0  0.0   \n",
       "104675   1.0   0.0  17.0  ...   3.0   5.0  3.0   7.0   8.0  0.0  0.0   \n",
       "\n",
       "          HomeWinPerc       DrawPerc      AwayPerc  \n",
       "0        1.236180e-98   2.934461e-16  1.000000e+00  \n",
       "1       3.417605e-164   4.402383e-41  1.000000e+00  \n",
       "2        0.000000e+00  3.329104e-148  1.000000e+00  \n",
       "3        1.292281e-48   1.000000e+00  7.033046e-16  \n",
       "4        1.000000e+00   1.859937e-39  4.062553e-87  \n",
       "...               ...            ...           ...  \n",
       "104671            NaN            NaN           NaN  \n",
       "104672            NaN            NaN           NaN  \n",
       "104673            NaN            NaN           NaN  \n",
       "104674            NaN            NaN           NaN  \n",
       "104675            NaN            NaN           NaN  \n",
       "\n",
       "[108702 rows x 22 columns]"
      ],
      "text/html": "<div>\n<style scoped>\n    .dataframe tbody tr th:only-of-type {\n        vertical-align: middle;\n    }\n\n    .dataframe tbody tr th {\n        vertical-align: top;\n    }\n\n    .dataframe thead th {\n        text-align: right;\n    }\n</style>\n<table border=\"1\" class=\"dataframe\">\n  <thead>\n    <tr style=\"text-align: right;\">\n      <th></th>\n      <th>Date</th>\n      <th>Time</th>\n      <th>HomeTeam</th>\n      <th>AwayTeam</th>\n      <th>FTHG</th>\n      <th>FTAG</th>\n      <th>FTR</th>\n      <th>HTHG</th>\n      <th>HTAG</th>\n      <th>HS</th>\n      <th>...</th>\n      <th>AST</th>\n      <th>HC</th>\n      <th>AC</th>\n      <th>HF</th>\n      <th>AF</th>\n      <th>HR</th>\n      <th>AR</th>\n      <th>HomeWinPerc</th>\n      <th>DrawPerc</th>\n      <th>AwayPerc</th>\n    </tr>\n  </thead>\n  <tbody>\n    <tr>\n      <th>0</th>\n      <td>14/08/10</td>\n      <td>0</td>\n      <td>Aston Villa</td>\n      <td>West Ham</td>\n      <td>3.0</td>\n      <td>0.0</td>\n      <td>0</td>\n      <td>2.0</td>\n      <td>0.0</td>\n      <td>23.0</td>\n      <td>...</td>\n      <td>2.0</td>\n      <td>16.0</td>\n      <td>7.0</td>\n      <td>15.0</td>\n      <td>15.0</td>\n      <td>0.0</td>\n      <td>0.0</td>\n      <td>1.236180e-98</td>\n      <td>2.934461e-16</td>\n      <td>1.000000e+00</td>\n    </tr>\n    <tr>\n      <th>1</th>\n      <td>14/08/10</td>\n      <td>0</td>\n      <td>Blackburn</td>\n      <td>Everton</td>\n      <td>1.0</td>\n      <td>0.0</td>\n      <td>0</td>\n      <td>1.0</td>\n      <td>0.0</td>\n      <td>7.0</td>\n      <td>...</td>\n      <td>12.0</td>\n      <td>1.0</td>\n      <td>3.0</td>\n      <td>19.0</td>\n      <td>14.0</td>\n      <td>0.0</td>\n      <td>0.0</td>\n      <td>3.417605e-164</td>\n      <td>4.402383e-41</td>\n      <td>1.000000e+00</td>\n    </tr>\n    <tr>\n      <th>2</th>\n      <td>14/08/10</td>\n      <td>0</td>\n      <td>Bolton</td>\n      <td>Fulham</td>\n      <td>0.0</td>\n      <td>0.0</td>\n      <td>1</td>\n      <td>0.0</td>\n      <td>0.0</td>\n      <td>13.0</td>\n      <td>...</td>\n      <td>7.0</td>\n      <td>4.0</td>\n      <td>8.0</td>\n      <td>12.0</td>\n      <td>13.0</td>\n      <td>0.0</td>\n      <td>0.0</td>\n      <td>0.000000e+00</td>\n      <td>3.329104e-148</td>\n      <td>1.000000e+00</td>\n    </tr>\n    <tr>\n      <th>3</th>\n      <td>14/08/10</td>\n      <td>0</td>\n      <td>Chelsea</td>\n      <td>West Brom</td>\n      <td>6.0</td>\n      <td>0.0</td>\n      <td>0</td>\n      <td>2.0</td>\n      <td>0.0</td>\n      <td>18.0</td>\n      <td>...</td>\n      <td>4.0</td>\n      <td>3.0</td>\n      <td>1.0</td>\n      <td>10.0</td>\n      <td>10.0</td>\n      <td>0.0</td>\n      <td>0.0</td>\n      <td>1.292281e-48</td>\n      <td>1.000000e+00</td>\n      <td>7.033046e-16</td>\n    </tr>\n    <tr>\n      <th>4</th>\n      <td>14/08/10</td>\n      <td>0</td>\n      <td>Sunderland</td>\n      <td>Birmingham</td>\n      <td>2.0</td>\n      <td>2.0</td>\n      <td>1</td>\n      <td>1.0</td>\n      <td>0.0</td>\n      <td>6.0</td>\n      <td>...</td>\n      <td>7.0</td>\n      <td>3.0</td>\n      <td>6.0</td>\n      <td>13.0</td>\n      <td>10.0</td>\n      <td>1.0</td>\n      <td>0.0</td>\n      <td>1.000000e+00</td>\n      <td>1.859937e-39</td>\n      <td>4.062553e-87</td>\n    </tr>\n    <tr>\n      <th>...</th>\n      <td>...</td>\n      <td>...</td>\n      <td>...</td>\n      <td>...</td>\n      <td>...</td>\n      <td>...</td>\n      <td>...</td>\n      <td>...</td>\n      <td>...</td>\n      <td>...</td>\n      <td>...</td>\n      <td>...</td>\n      <td>...</td>\n      <td>...</td>\n      <td>...</td>\n      <td>...</td>\n      <td>...</td>\n      <td>...</td>\n      <td>...</td>\n      <td>...</td>\n      <td>...</td>\n    </tr>\n    <tr>\n      <th>104671</th>\n      <td>07/02/2021</td>\n      <td>12:00</td>\n      <td>Tottenham</td>\n      <td>West Brom</td>\n      <td>2.0</td>\n      <td>0.0</td>\n      <td>0</td>\n      <td>0.0</td>\n      <td>0.0</td>\n      <td>13.0</td>\n      <td>...</td>\n      <td>1.0</td>\n      <td>8.0</td>\n      <td>0.0</td>\n      <td>16.0</td>\n      <td>12.0</td>\n      <td>0.0</td>\n      <td>0.0</td>\n      <td>NaN</td>\n      <td>NaN</td>\n      <td>NaN</td>\n    </tr>\n    <tr>\n      <th>104672</th>\n      <td>07/02/2021</td>\n      <td>14:00</td>\n      <td>Wolves</td>\n      <td>Leicester</td>\n      <td>0.0</td>\n      <td>0.0</td>\n      <td>1</td>\n      <td>0.0</td>\n      <td>0.0</td>\n      <td>13.0</td>\n      <td>...</td>\n      <td>3.0</td>\n      <td>8.0</td>\n      <td>2.0</td>\n      <td>11.0</td>\n      <td>15.0</td>\n      <td>0.0</td>\n      <td>0.0</td>\n      <td>NaN</td>\n      <td>NaN</td>\n      <td>NaN</td>\n    </tr>\n    <tr>\n      <th>104673</th>\n      <td>07/02/2021</td>\n      <td>16:30</td>\n      <td>Liverpool</td>\n      <td>Man City</td>\n      <td>1.0</td>\n      <td>4.0</td>\n      <td>2</td>\n      <td>0.0</td>\n      <td>0.0</td>\n      <td>8.0</td>\n      <td>...</td>\n      <td>5.0</td>\n      <td>6.0</td>\n      <td>1.0</td>\n      <td>13.0</td>\n      <td>8.0</td>\n      <td>0.0</td>\n      <td>0.0</td>\n      <td>NaN</td>\n      <td>NaN</td>\n      <td>NaN</td>\n    </tr>\n    <tr>\n      <th>104674</th>\n      <td>07/02/2021</td>\n      <td>19:15</td>\n      <td>Sheffield United</td>\n      <td>Chelsea</td>\n      <td>1.0</td>\n      <td>2.0</td>\n      <td>2</td>\n      <td>0.0</td>\n      <td>1.0</td>\n      <td>8.0</td>\n      <td>...</td>\n      <td>3.0</td>\n      <td>1.0</td>\n      <td>8.0</td>\n      <td>8.0</td>\n      <td>8.0</td>\n      <td>0.0</td>\n      <td>0.0</td>\n      <td>NaN</td>\n      <td>NaN</td>\n      <td>NaN</td>\n    </tr>\n    <tr>\n      <th>104675</th>\n      <td>08/02/2021</td>\n      <td>20:00</td>\n      <td>Leeds</td>\n      <td>Crystal Palace</td>\n      <td>2.0</td>\n      <td>0.0</td>\n      <td>0</td>\n      <td>1.0</td>\n      <td>0.0</td>\n      <td>17.0</td>\n      <td>...</td>\n      <td>3.0</td>\n      <td>5.0</td>\n      <td>3.0</td>\n      <td>7.0</td>\n      <td>8.0</td>\n      <td>0.0</td>\n      <td>0.0</td>\n      <td>NaN</td>\n      <td>NaN</td>\n      <td>NaN</td>\n    </tr>\n  </tbody>\n</table>\n<p>108702 rows × 22 columns</p>\n</div>"
     },
     "metadata": {},
     "execution_count": 9
    }
   ],
   "source": [
    "subset_master"
   ]
  },
  {
   "cell_type": "code",
   "execution_count": null,
   "metadata": {},
   "outputs": [],
   "source": []
  }
 ]
}