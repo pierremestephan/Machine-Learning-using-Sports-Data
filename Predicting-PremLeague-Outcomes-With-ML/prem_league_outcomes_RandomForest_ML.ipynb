{
 "metadata": {
  "language_info": {
   "codemirror_mode": {
    "name": "ipython",
    "version": 3
   },
   "file_extension": ".py",
   "mimetype": "text/x-python",
   "name": "python",
   "nbconvert_exporter": "python",
   "pygments_lexer": "ipython3",
   "version": "3.9.2-final"
  },
  "orig_nbformat": 2,
  "kernelspec": {
   "name": "python3",
   "display_name": "Python 3.9.2 64-bit",
   "metadata": {
    "interpreter": {
     "hash": "aee8b7b246df8f9039afb4144a1f6fd8d2ca17a180786b69acc140d282b71a49"
    }
   }
  }
 },
 "nbformat": 4,
 "nbformat_minor": 2,
 "cells": [
  {
   "cell_type": "code",
   "execution_count": 10,
   "metadata": {},
   "outputs": [],
   "source": [
    "import os\n",
    "import glob\n",
    "import numpy as np\n",
    "import pandas as pd\n",
    "from functions import split_preds, metrics, measure_csv_df\n",
    "from sklearn.ensemble import RandomForestClassifier\n",
    "from sklearn.metrics import accuracy_score\n",
    "os.chdir(\"/Users/pestephan/Documents/GitHub/Machine-Learning-using-Sports-Data/Predicting-PremLeague-Outcomes-With-ML/files/Datasets\")"
   ]
  },
  {
   "source": [
    "Data Taken from http://www.football-data.co.uk/englandm.php"
   ],
   "cell_type": "markdown",
   "metadata": {}
  },
  {
   "cell_type": "code",
   "execution_count": 2,
   "metadata": {},
   "outputs": [],
   "source": [
    "extension = 'csv'\n",
    "all_filenames = [i for i in glob.glob('*.{}'.format(extension))]"
   ]
  },
  {
   "cell_type": "code",
   "execution_count": 3,
   "metadata": {},
   "outputs": [],
   "source": [
    "#combine all files in the list\n",
    "master_sheet = pd.concat([pd.read_csv(f) for f in all_filenames ])\n",
    "#export to csv\n",
    "master_sheet.to_csv( \"master_sheet.csv\", index=False, encoding='utf-8-sig')"
   ]
  },
  {
   "source": [
    "Reduce table to using columns needed for the model\n",
    "\n",
    "Columns Required:\n",
    "\n",
    "Date, Time HomeTeam, AwayTeam, FullTimeHG, FullTimeAG, FullTimeRresults, HalfTimeHG, HalfTimeAG, HomeShots, AwayShots, HomeShotsTarger, AwayShotsTarger, HomeCorners, AwayCorners, HomeFouls, AwayFouls, HomeRed, AwayRed\n",
    "\n",
    "Columns To Consider:\n",
    "\n",
    "Attendance, Referee"
   ],
   "cell_type": "markdown",
   "metadata": {}
  },
  {
   "cell_type": "code",
   "execution_count": 4,
   "metadata": {},
   "outputs": [],
   "source": [
    "subset_master = master_sheet[[\"Date\", \"Time\", \"HomeTeam\", \"AwayTeam\", \"FTHG\", \"FTAG\", \"FTR\", \"HTHG\", \"HTAG\", \"HS\", \"AS\", \"HST\", \"AST\", \"HC\", \"AC\", \"HF\", \"AF\", \"HR\", \"AR\"]]\n",
    "subset_master = subset_master.fillna(0)\n",
    "# 0 = Home Wins, 1 = Draw, 2 = Away Wins\n",
    "subset_master.FTR.replace(['H', 'D', 'A'], [0, 1, 2], inplace = True)"
   ]
  },
  {
   "cell_type": "code",
   "execution_count": 5,
   "metadata": {},
   "outputs": [
    {
     "output_type": "execute_result",
     "data": {
      "text/plain": [
       "       Date Time   HomeTeam     AwayTeam  FTHG  FTAG  FTR  HTHG  HTAG    HS  \\\n",
       "0  13/08/11    0  Blackburn       Wolves   1.0   2.0    2   1.0   1.0  16.0   \n",
       "1  13/08/11    0     Fulham  Aston Villa   0.0   0.0    1   0.0   0.0  13.0   \n",
       "2  13/08/11    0  Liverpool   Sunderland   1.0   1.0    1   1.0   0.0  11.0   \n",
       "3  13/08/11    0  Newcastle      Arsenal   0.0   0.0    1   0.0   0.0   6.0   \n",
       "4  13/08/11    0        QPR       Bolton   0.0   4.0    2   0.0   1.0  13.0   \n",
       "\n",
       "     AS  HST  AST    HC   AC    HF    AF   HR   AR  \n",
       "0  13.0  8.0  4.0  12.0  6.0  14.0  10.0  0.0  0.0  \n",
       "1   7.0  9.0  1.0   2.0  3.0  10.0  18.0  0.0  0.0  \n",
       "2  15.0  4.0  6.0   6.0  3.0  17.0  12.0  0.0  0.0  \n",
       "3   9.0  1.0  4.0   2.0  5.0   9.0  11.0  0.0  1.0  \n",
       "4  13.0  7.0  7.0   3.0  2.0   9.0  16.0  1.0  0.0  "
      ],
      "text/html": "<div>\n<style scoped>\n    .dataframe tbody tr th:only-of-type {\n        vertical-align: middle;\n    }\n\n    .dataframe tbody tr th {\n        vertical-align: top;\n    }\n\n    .dataframe thead th {\n        text-align: right;\n    }\n</style>\n<table border=\"1\" class=\"dataframe\">\n  <thead>\n    <tr style=\"text-align: right;\">\n      <th></th>\n      <th>Date</th>\n      <th>Time</th>\n      <th>HomeTeam</th>\n      <th>AwayTeam</th>\n      <th>FTHG</th>\n      <th>FTAG</th>\n      <th>FTR</th>\n      <th>HTHG</th>\n      <th>HTAG</th>\n      <th>HS</th>\n      <th>AS</th>\n      <th>HST</th>\n      <th>AST</th>\n      <th>HC</th>\n      <th>AC</th>\n      <th>HF</th>\n      <th>AF</th>\n      <th>HR</th>\n      <th>AR</th>\n    </tr>\n  </thead>\n  <tbody>\n    <tr>\n      <th>0</th>\n      <td>13/08/11</td>\n      <td>0</td>\n      <td>Blackburn</td>\n      <td>Wolves</td>\n      <td>1.0</td>\n      <td>2.0</td>\n      <td>2</td>\n      <td>1.0</td>\n      <td>1.0</td>\n      <td>16.0</td>\n      <td>13.0</td>\n      <td>8.0</td>\n      <td>4.0</td>\n      <td>12.0</td>\n      <td>6.0</td>\n      <td>14.0</td>\n      <td>10.0</td>\n      <td>0.0</td>\n      <td>0.0</td>\n    </tr>\n    <tr>\n      <th>1</th>\n      <td>13/08/11</td>\n      <td>0</td>\n      <td>Fulham</td>\n      <td>Aston Villa</td>\n      <td>0.0</td>\n      <td>0.0</td>\n      <td>1</td>\n      <td>0.0</td>\n      <td>0.0</td>\n      <td>13.0</td>\n      <td>7.0</td>\n      <td>9.0</td>\n      <td>1.0</td>\n      <td>2.0</td>\n      <td>3.0</td>\n      <td>10.0</td>\n      <td>18.0</td>\n      <td>0.0</td>\n      <td>0.0</td>\n    </tr>\n    <tr>\n      <th>2</th>\n      <td>13/08/11</td>\n      <td>0</td>\n      <td>Liverpool</td>\n      <td>Sunderland</td>\n      <td>1.0</td>\n      <td>1.0</td>\n      <td>1</td>\n      <td>1.0</td>\n      <td>0.0</td>\n      <td>11.0</td>\n      <td>15.0</td>\n      <td>4.0</td>\n      <td>6.0</td>\n      <td>6.0</td>\n      <td>3.0</td>\n      <td>17.0</td>\n      <td>12.0</td>\n      <td>0.0</td>\n      <td>0.0</td>\n    </tr>\n    <tr>\n      <th>3</th>\n      <td>13/08/11</td>\n      <td>0</td>\n      <td>Newcastle</td>\n      <td>Arsenal</td>\n      <td>0.0</td>\n      <td>0.0</td>\n      <td>1</td>\n      <td>0.0</td>\n      <td>0.0</td>\n      <td>6.0</td>\n      <td>9.0</td>\n      <td>1.0</td>\n      <td>4.0</td>\n      <td>2.0</td>\n      <td>5.0</td>\n      <td>9.0</td>\n      <td>11.0</td>\n      <td>0.0</td>\n      <td>1.0</td>\n    </tr>\n    <tr>\n      <th>4</th>\n      <td>13/08/11</td>\n      <td>0</td>\n      <td>QPR</td>\n      <td>Bolton</td>\n      <td>0.0</td>\n      <td>4.0</td>\n      <td>2</td>\n      <td>0.0</td>\n      <td>1.0</td>\n      <td>13.0</td>\n      <td>13.0</td>\n      <td>7.0</td>\n      <td>7.0</td>\n      <td>3.0</td>\n      <td>2.0</td>\n      <td>9.0</td>\n      <td>16.0</td>\n      <td>1.0</td>\n      <td>0.0</td>\n    </tr>\n  </tbody>\n</table>\n</div>"
     },
     "metadata": {},
     "execution_count": 5
    }
   ],
   "source": [
    "subset_master.head()"
   ]
  },
  {
   "cell_type": "code",
   "execution_count": 6,
   "metadata": {},
   "outputs": [],
   "source": [
    "msk = np.random.rand(len(subset_master)) < 0.75\n",
    "\n",
    "train_df = subset_master[msk]\n",
    "test_df = subset_master[~msk]\n",
    "\n",
    "X_train = train_df.drop(columns = ['Date', 'Time', 'HomeTeam', 'AwayTeam', 'FTHG', 'FTAG', 'FTR', \"HTHG\", \"HTAG\"])\n",
    "y_train = train_df[['FTR']] \n",
    "X_test = test_df.drop(columns = ['Date', 'Time', 'HomeTeam', 'AwayTeam', 'FTHG', 'FTAG', 'FTR', \"HTHG\", \"HTAG\", ])\n",
    "y_test = test_df[['FTR']]"
   ]
  },
  {
   "cell_type": "code",
   "execution_count": 11,
   "metadata": {},
   "outputs": [
    {
     "output_type": "execute_result",
     "data": {
      "text/plain": [
       "         Date Time   HomeTeam     AwayTeam  FTHG  FTAG  FTR  HTHG  HTAG    HS  \\\n",
       "0    13/08/11    0  Blackburn       Wolves   1.0   2.0    2   1.0   1.0  16.0   \n",
       "1    13/08/11    0     Fulham  Aston Villa   0.0   0.0    1   0.0   0.0  13.0   \n",
       "2    13/08/11    0  Liverpool   Sunderland   1.0   1.0    1   1.0   0.0  11.0   \n",
       "3    13/08/11    0  Newcastle      Arsenal   0.0   0.0    1   0.0   0.0   6.0   \n",
       "4    13/08/11    0        QPR       Bolton   0.0   4.0    2   0.0   1.0  13.0   \n",
       "..        ...  ...        ...          ...   ...   ...  ...   ...   ...   ...   \n",
       "376  24/05/15    0  Leicester          QPR   5.0   1.0    0   2.0   0.0  22.0   \n",
       "377  24/05/15    0   Man City  Southampton   2.0   0.0    0   1.0   0.0  15.0   \n",
       "378  24/05/15    0  Newcastle     West Ham   2.0   0.0    0   0.0   0.0  17.0   \n",
       "379  24/05/15    0      Stoke    Liverpool   6.0   1.0    0   5.0   0.0  15.0   \n",
       "380         0    0          0            0   0.0   0.0    0   0.0   0.0   0.0   \n",
       "\n",
       "     ...  AST    HC   AC    HF    AF   HR   AR  HomeWinPerc  DrawPerc  \\\n",
       "0    ...  4.0  12.0  6.0  14.0  10.0  0.0  0.0     0.650492  0.217608   \n",
       "1    ...  1.0   2.0  3.0  10.0  18.0  0.0  0.0     0.281812  0.248569   \n",
       "2    ...  6.0   6.0  3.0  17.0  12.0  0.0  0.0     0.375643  0.239970   \n",
       "3    ...  4.0   2.0  5.0   9.0  11.0  0.0  1.0     0.442755  0.241175   \n",
       "4    ...  7.0   3.0  2.0   9.0  16.0  1.0  0.0     0.410651  0.239272   \n",
       "..   ...  ...   ...  ...   ...   ...  ...  ...          ...       ...   \n",
       "376  ...  2.0   5.0  6.0   7.0   6.0  0.0  0.0     0.285770  0.247556   \n",
       "377  ...  4.0   8.0  4.0  13.0   8.0  0.0  0.0     0.702407  0.193107   \n",
       "378  ...  1.0   2.0  3.0   9.0   9.0  0.0  0.0     0.327913  0.291836   \n",
       "379  ...  4.0   3.0  9.0  13.0   4.0  0.0  0.0     0.427549  0.245554   \n",
       "380  ...  0.0   0.0  0.0   0.0   0.0  0.0  0.0     0.703871  0.194529   \n",
       "\n",
       "     AwayPerc  \n",
       "0    0.131900  \n",
       "1    0.469619  \n",
       "2    0.384387  \n",
       "3    0.316070  \n",
       "4    0.350077  \n",
       "..        ...  \n",
       "376  0.466674  \n",
       "377  0.104486  \n",
       "378  0.380251  \n",
       "379  0.326897  \n",
       "380  0.101600  \n",
       "\n",
       "[46606 rows x 22 columns]"
      ],
      "text/html": "<div>\n<style scoped>\n    .dataframe tbody tr th:only-of-type {\n        vertical-align: middle;\n    }\n\n    .dataframe tbody tr th {\n        vertical-align: top;\n    }\n\n    .dataframe thead th {\n        text-align: right;\n    }\n</style>\n<table border=\"1\" class=\"dataframe\">\n  <thead>\n    <tr style=\"text-align: right;\">\n      <th></th>\n      <th>Date</th>\n      <th>Time</th>\n      <th>HomeTeam</th>\n      <th>AwayTeam</th>\n      <th>FTHG</th>\n      <th>FTAG</th>\n      <th>FTR</th>\n      <th>HTHG</th>\n      <th>HTAG</th>\n      <th>HS</th>\n      <th>...</th>\n      <th>AST</th>\n      <th>HC</th>\n      <th>AC</th>\n      <th>HF</th>\n      <th>AF</th>\n      <th>HR</th>\n      <th>AR</th>\n      <th>HomeWinPerc</th>\n      <th>DrawPerc</th>\n      <th>AwayPerc</th>\n    </tr>\n  </thead>\n  <tbody>\n    <tr>\n      <th>0</th>\n      <td>13/08/11</td>\n      <td>0</td>\n      <td>Blackburn</td>\n      <td>Wolves</td>\n      <td>1.0</td>\n      <td>2.0</td>\n      <td>2</td>\n      <td>1.0</td>\n      <td>1.0</td>\n      <td>16.0</td>\n      <td>...</td>\n      <td>4.0</td>\n      <td>12.0</td>\n      <td>6.0</td>\n      <td>14.0</td>\n      <td>10.0</td>\n      <td>0.0</td>\n      <td>0.0</td>\n      <td>0.650492</td>\n      <td>0.217608</td>\n      <td>0.131900</td>\n    </tr>\n    <tr>\n      <th>1</th>\n      <td>13/08/11</td>\n      <td>0</td>\n      <td>Fulham</td>\n      <td>Aston Villa</td>\n      <td>0.0</td>\n      <td>0.0</td>\n      <td>1</td>\n      <td>0.0</td>\n      <td>0.0</td>\n      <td>13.0</td>\n      <td>...</td>\n      <td>1.0</td>\n      <td>2.0</td>\n      <td>3.0</td>\n      <td>10.0</td>\n      <td>18.0</td>\n      <td>0.0</td>\n      <td>0.0</td>\n      <td>0.281812</td>\n      <td>0.248569</td>\n      <td>0.469619</td>\n    </tr>\n    <tr>\n      <th>2</th>\n      <td>13/08/11</td>\n      <td>0</td>\n      <td>Liverpool</td>\n      <td>Sunderland</td>\n      <td>1.0</td>\n      <td>1.0</td>\n      <td>1</td>\n      <td>1.0</td>\n      <td>0.0</td>\n      <td>11.0</td>\n      <td>...</td>\n      <td>6.0</td>\n      <td>6.0</td>\n      <td>3.0</td>\n      <td>17.0</td>\n      <td>12.0</td>\n      <td>0.0</td>\n      <td>0.0</td>\n      <td>0.375643</td>\n      <td>0.239970</td>\n      <td>0.384387</td>\n    </tr>\n    <tr>\n      <th>3</th>\n      <td>13/08/11</td>\n      <td>0</td>\n      <td>Newcastle</td>\n      <td>Arsenal</td>\n      <td>0.0</td>\n      <td>0.0</td>\n      <td>1</td>\n      <td>0.0</td>\n      <td>0.0</td>\n      <td>6.0</td>\n      <td>...</td>\n      <td>4.0</td>\n      <td>2.0</td>\n      <td>5.0</td>\n      <td>9.0</td>\n      <td>11.0</td>\n      <td>0.0</td>\n      <td>1.0</td>\n      <td>0.442755</td>\n      <td>0.241175</td>\n      <td>0.316070</td>\n    </tr>\n    <tr>\n      <th>4</th>\n      <td>13/08/11</td>\n      <td>0</td>\n      <td>QPR</td>\n      <td>Bolton</td>\n      <td>0.0</td>\n      <td>4.0</td>\n      <td>2</td>\n      <td>0.0</td>\n      <td>1.0</td>\n      <td>13.0</td>\n      <td>...</td>\n      <td>7.0</td>\n      <td>3.0</td>\n      <td>2.0</td>\n      <td>9.0</td>\n      <td>16.0</td>\n      <td>1.0</td>\n      <td>0.0</td>\n      <td>0.410651</td>\n      <td>0.239272</td>\n      <td>0.350077</td>\n    </tr>\n    <tr>\n      <th>...</th>\n      <td>...</td>\n      <td>...</td>\n      <td>...</td>\n      <td>...</td>\n      <td>...</td>\n      <td>...</td>\n      <td>...</td>\n      <td>...</td>\n      <td>...</td>\n      <td>...</td>\n      <td>...</td>\n      <td>...</td>\n      <td>...</td>\n      <td>...</td>\n      <td>...</td>\n      <td>...</td>\n      <td>...</td>\n      <td>...</td>\n      <td>...</td>\n      <td>...</td>\n      <td>...</td>\n    </tr>\n    <tr>\n      <th>376</th>\n      <td>24/05/15</td>\n      <td>0</td>\n      <td>Leicester</td>\n      <td>QPR</td>\n      <td>5.0</td>\n      <td>1.0</td>\n      <td>0</td>\n      <td>2.0</td>\n      <td>0.0</td>\n      <td>22.0</td>\n      <td>...</td>\n      <td>2.0</td>\n      <td>5.0</td>\n      <td>6.0</td>\n      <td>7.0</td>\n      <td>6.0</td>\n      <td>0.0</td>\n      <td>0.0</td>\n      <td>0.285770</td>\n      <td>0.247556</td>\n      <td>0.466674</td>\n    </tr>\n    <tr>\n      <th>377</th>\n      <td>24/05/15</td>\n      <td>0</td>\n      <td>Man City</td>\n      <td>Southampton</td>\n      <td>2.0</td>\n      <td>0.0</td>\n      <td>0</td>\n      <td>1.0</td>\n      <td>0.0</td>\n      <td>15.0</td>\n      <td>...</td>\n      <td>4.0</td>\n      <td>8.0</td>\n      <td>4.0</td>\n      <td>13.0</td>\n      <td>8.0</td>\n      <td>0.0</td>\n      <td>0.0</td>\n      <td>0.702407</td>\n      <td>0.193107</td>\n      <td>0.104486</td>\n    </tr>\n    <tr>\n      <th>378</th>\n      <td>24/05/15</td>\n      <td>0</td>\n      <td>Newcastle</td>\n      <td>West Ham</td>\n      <td>2.0</td>\n      <td>0.0</td>\n      <td>0</td>\n      <td>0.0</td>\n      <td>0.0</td>\n      <td>17.0</td>\n      <td>...</td>\n      <td>1.0</td>\n      <td>2.0</td>\n      <td>3.0</td>\n      <td>9.0</td>\n      <td>9.0</td>\n      <td>0.0</td>\n      <td>0.0</td>\n      <td>0.327913</td>\n      <td>0.291836</td>\n      <td>0.380251</td>\n    </tr>\n    <tr>\n      <th>379</th>\n      <td>24/05/15</td>\n      <td>0</td>\n      <td>Stoke</td>\n      <td>Liverpool</td>\n      <td>6.0</td>\n      <td>1.0</td>\n      <td>0</td>\n      <td>5.0</td>\n      <td>0.0</td>\n      <td>15.0</td>\n      <td>...</td>\n      <td>4.0</td>\n      <td>3.0</td>\n      <td>9.0</td>\n      <td>13.0</td>\n      <td>4.0</td>\n      <td>0.0</td>\n      <td>0.0</td>\n      <td>0.427549</td>\n      <td>0.245554</td>\n      <td>0.326897</td>\n    </tr>\n    <tr>\n      <th>380</th>\n      <td>0</td>\n      <td>0</td>\n      <td>0</td>\n      <td>0</td>\n      <td>0.0</td>\n      <td>0.0</td>\n      <td>0</td>\n      <td>0.0</td>\n      <td>0.0</td>\n      <td>0.0</td>\n      <td>...</td>\n      <td>0.0</td>\n      <td>0.0</td>\n      <td>0.0</td>\n      <td>0.0</td>\n      <td>0.0</td>\n      <td>0.0</td>\n      <td>0.0</td>\n      <td>0.703871</td>\n      <td>0.194529</td>\n      <td>0.101600</td>\n    </tr>\n  </tbody>\n</table>\n<p>46606 rows × 22 columns</p>\n</div>"
     },
     "metadata": {},
     "execution_count": 11
    }
   ],
   "source": [
    "clf = RandomForestClassifier(n_estimators = 2000, max_depth=3, random_state=0)\n",
    "clf.fit(X_train, y_train)\n",
    "\n",
    "y_pred = clf.predict_proba(X_test)\n",
    "y_pred = pd.DataFrame(y_pred)\n",
    "split_preds(subset_master, y_pred)"
   ]
  },
  {
   "source": [
    "Identifying how often Predicted Results decided the outcome (win, draw, away) against the actual results)"
   ],
   "cell_type": "markdown",
   "metadata": {}
  },
  {
   "cell_type": "code",
   "execution_count": 13,
   "metadata": {},
   "outputs": [
    {
     "output_type": "stream",
     "name": "stdout",
     "text": [
      "False    55.822621\nTrue     44.177379\nName: Comparison, dtype: float64\n0    45.285564\n2    30.164600\n1    24.549836\nName: FTR, dtype: float64\n0    92.679353\n2     7.320647\nName: PredResult, dtype: float64\n"
     ]
    }
   ],
   "source": [
    "metrics(subset_master)"
   ]
  },
  {
   "cell_type": "code",
   "execution_count": 14,
   "metadata": {},
   "outputs": [
    {
     "output_type": "execute_result",
     "data": {
      "text/plain": [
       "         Date Time   HomeTeam     AwayTeam  FTHG  FTAG  FTR  HTHG  HTAG    HS  \\\n",
       "0    13/08/11    0  Blackburn       Wolves   1.0   2.0    2   1.0   1.0  16.0   \n",
       "1    13/08/11    0     Fulham  Aston Villa   0.0   0.0    1   0.0   0.0  13.0   \n",
       "2    13/08/11    0  Liverpool   Sunderland   1.0   1.0    1   1.0   0.0  11.0   \n",
       "3    13/08/11    0  Newcastle      Arsenal   0.0   0.0    1   0.0   0.0   6.0   \n",
       "4    13/08/11    0        QPR       Bolton   0.0   4.0    2   0.0   1.0  13.0   \n",
       "..        ...  ...        ...          ...   ...   ...  ...   ...   ...   ...   \n",
       "376  24/05/15    0  Leicester          QPR   5.0   1.0    0   2.0   0.0  22.0   \n",
       "377  24/05/15    0   Man City  Southampton   2.0   0.0    0   1.0   0.0  15.0   \n",
       "378  24/05/15    0  Newcastle     West Ham   2.0   0.0    0   0.0   0.0  17.0   \n",
       "379  24/05/15    0      Stoke    Liverpool   6.0   1.0    0   5.0   0.0  15.0   \n",
       "380         0    0          0            0   0.0   0.0    0   0.0   0.0   0.0   \n",
       "\n",
       "     ...   AC    HF    AF   HR   AR  HomeWinPerc  DrawPerc  AwayPerc  \\\n",
       "0    ...  6.0  14.0  10.0  0.0  0.0     0.650492  0.217608  0.131900   \n",
       "1    ...  3.0  10.0  18.0  0.0  0.0     0.281812  0.248569  0.469619   \n",
       "2    ...  3.0  17.0  12.0  0.0  0.0     0.375643  0.239970  0.384387   \n",
       "3    ...  5.0   9.0  11.0  0.0  1.0     0.442755  0.241175  0.316070   \n",
       "4    ...  2.0   9.0  16.0  1.0  0.0     0.410651  0.239272  0.350077   \n",
       "..   ...  ...   ...   ...  ...  ...          ...       ...       ...   \n",
       "376  ...  6.0   7.0   6.0  0.0  0.0     0.285770  0.247556  0.466674   \n",
       "377  ...  4.0  13.0   8.0  0.0  0.0     0.702407  0.193107  0.104486   \n",
       "378  ...  3.0   9.0   9.0  0.0  0.0     0.327913  0.291836  0.380251   \n",
       "379  ...  9.0  13.0   4.0  0.0  0.0     0.427549  0.245554  0.326897   \n",
       "380  ...  0.0   0.0   0.0  0.0  0.0     0.703871  0.194529  0.101600   \n",
       "\n",
       "     PredResult  Comparison  \n",
       "0             0       False  \n",
       "1             2       False  \n",
       "2             2       False  \n",
       "3             0       False  \n",
       "4             0       False  \n",
       "..          ...         ...  \n",
       "376           2       False  \n",
       "377           0        True  \n",
       "378           2       False  \n",
       "379           0        True  \n",
       "380           0        True  \n",
       "\n",
       "[171993 rows x 24 columns]"
      ],
      "text/html": "<div>\n<style scoped>\n    .dataframe tbody tr th:only-of-type {\n        vertical-align: middle;\n    }\n\n    .dataframe tbody tr th {\n        vertical-align: top;\n    }\n\n    .dataframe thead th {\n        text-align: right;\n    }\n</style>\n<table border=\"1\" class=\"dataframe\">\n  <thead>\n    <tr style=\"text-align: right;\">\n      <th></th>\n      <th>Date</th>\n      <th>Time</th>\n      <th>HomeTeam</th>\n      <th>AwayTeam</th>\n      <th>FTHG</th>\n      <th>FTAG</th>\n      <th>FTR</th>\n      <th>HTHG</th>\n      <th>HTAG</th>\n      <th>HS</th>\n      <th>...</th>\n      <th>AC</th>\n      <th>HF</th>\n      <th>AF</th>\n      <th>HR</th>\n      <th>AR</th>\n      <th>HomeWinPerc</th>\n      <th>DrawPerc</th>\n      <th>AwayPerc</th>\n      <th>PredResult</th>\n      <th>Comparison</th>\n    </tr>\n  </thead>\n  <tbody>\n    <tr>\n      <th>0</th>\n      <td>13/08/11</td>\n      <td>0</td>\n      <td>Blackburn</td>\n      <td>Wolves</td>\n      <td>1.0</td>\n      <td>2.0</td>\n      <td>2</td>\n      <td>1.0</td>\n      <td>1.0</td>\n      <td>16.0</td>\n      <td>...</td>\n      <td>6.0</td>\n      <td>14.0</td>\n      <td>10.0</td>\n      <td>0.0</td>\n      <td>0.0</td>\n      <td>0.650492</td>\n      <td>0.217608</td>\n      <td>0.131900</td>\n      <td>0</td>\n      <td>False</td>\n    </tr>\n    <tr>\n      <th>1</th>\n      <td>13/08/11</td>\n      <td>0</td>\n      <td>Fulham</td>\n      <td>Aston Villa</td>\n      <td>0.0</td>\n      <td>0.0</td>\n      <td>1</td>\n      <td>0.0</td>\n      <td>0.0</td>\n      <td>13.0</td>\n      <td>...</td>\n      <td>3.0</td>\n      <td>10.0</td>\n      <td>18.0</td>\n      <td>0.0</td>\n      <td>0.0</td>\n      <td>0.281812</td>\n      <td>0.248569</td>\n      <td>0.469619</td>\n      <td>2</td>\n      <td>False</td>\n    </tr>\n    <tr>\n      <th>2</th>\n      <td>13/08/11</td>\n      <td>0</td>\n      <td>Liverpool</td>\n      <td>Sunderland</td>\n      <td>1.0</td>\n      <td>1.0</td>\n      <td>1</td>\n      <td>1.0</td>\n      <td>0.0</td>\n      <td>11.0</td>\n      <td>...</td>\n      <td>3.0</td>\n      <td>17.0</td>\n      <td>12.0</td>\n      <td>0.0</td>\n      <td>0.0</td>\n      <td>0.375643</td>\n      <td>0.239970</td>\n      <td>0.384387</td>\n      <td>2</td>\n      <td>False</td>\n    </tr>\n    <tr>\n      <th>3</th>\n      <td>13/08/11</td>\n      <td>0</td>\n      <td>Newcastle</td>\n      <td>Arsenal</td>\n      <td>0.0</td>\n      <td>0.0</td>\n      <td>1</td>\n      <td>0.0</td>\n      <td>0.0</td>\n      <td>6.0</td>\n      <td>...</td>\n      <td>5.0</td>\n      <td>9.0</td>\n      <td>11.0</td>\n      <td>0.0</td>\n      <td>1.0</td>\n      <td>0.442755</td>\n      <td>0.241175</td>\n      <td>0.316070</td>\n      <td>0</td>\n      <td>False</td>\n    </tr>\n    <tr>\n      <th>4</th>\n      <td>13/08/11</td>\n      <td>0</td>\n      <td>QPR</td>\n      <td>Bolton</td>\n      <td>0.0</td>\n      <td>4.0</td>\n      <td>2</td>\n      <td>0.0</td>\n      <td>1.0</td>\n      <td>13.0</td>\n      <td>...</td>\n      <td>2.0</td>\n      <td>9.0</td>\n      <td>16.0</td>\n      <td>1.0</td>\n      <td>0.0</td>\n      <td>0.410651</td>\n      <td>0.239272</td>\n      <td>0.350077</td>\n      <td>0</td>\n      <td>False</td>\n    </tr>\n    <tr>\n      <th>...</th>\n      <td>...</td>\n      <td>...</td>\n      <td>...</td>\n      <td>...</td>\n      <td>...</td>\n      <td>...</td>\n      <td>...</td>\n      <td>...</td>\n      <td>...</td>\n      <td>...</td>\n      <td>...</td>\n      <td>...</td>\n      <td>...</td>\n      <td>...</td>\n      <td>...</td>\n      <td>...</td>\n      <td>...</td>\n      <td>...</td>\n      <td>...</td>\n      <td>...</td>\n      <td>...</td>\n    </tr>\n    <tr>\n      <th>376</th>\n      <td>24/05/15</td>\n      <td>0</td>\n      <td>Leicester</td>\n      <td>QPR</td>\n      <td>5.0</td>\n      <td>1.0</td>\n      <td>0</td>\n      <td>2.0</td>\n      <td>0.0</td>\n      <td>22.0</td>\n      <td>...</td>\n      <td>6.0</td>\n      <td>7.0</td>\n      <td>6.0</td>\n      <td>0.0</td>\n      <td>0.0</td>\n      <td>0.285770</td>\n      <td>0.247556</td>\n      <td>0.466674</td>\n      <td>2</td>\n      <td>False</td>\n    </tr>\n    <tr>\n      <th>377</th>\n      <td>24/05/15</td>\n      <td>0</td>\n      <td>Man City</td>\n      <td>Southampton</td>\n      <td>2.0</td>\n      <td>0.0</td>\n      <td>0</td>\n      <td>1.0</td>\n      <td>0.0</td>\n      <td>15.0</td>\n      <td>...</td>\n      <td>4.0</td>\n      <td>13.0</td>\n      <td>8.0</td>\n      <td>0.0</td>\n      <td>0.0</td>\n      <td>0.702407</td>\n      <td>0.193107</td>\n      <td>0.104486</td>\n      <td>0</td>\n      <td>True</td>\n    </tr>\n    <tr>\n      <th>378</th>\n      <td>24/05/15</td>\n      <td>0</td>\n      <td>Newcastle</td>\n      <td>West Ham</td>\n      <td>2.0</td>\n      <td>0.0</td>\n      <td>0</td>\n      <td>0.0</td>\n      <td>0.0</td>\n      <td>17.0</td>\n      <td>...</td>\n      <td>3.0</td>\n      <td>9.0</td>\n      <td>9.0</td>\n      <td>0.0</td>\n      <td>0.0</td>\n      <td>0.327913</td>\n      <td>0.291836</td>\n      <td>0.380251</td>\n      <td>2</td>\n      <td>False</td>\n    </tr>\n    <tr>\n      <th>379</th>\n      <td>24/05/15</td>\n      <td>0</td>\n      <td>Stoke</td>\n      <td>Liverpool</td>\n      <td>6.0</td>\n      <td>1.0</td>\n      <td>0</td>\n      <td>5.0</td>\n      <td>0.0</td>\n      <td>15.0</td>\n      <td>...</td>\n      <td>9.0</td>\n      <td>13.0</td>\n      <td>4.0</td>\n      <td>0.0</td>\n      <td>0.0</td>\n      <td>0.427549</td>\n      <td>0.245554</td>\n      <td>0.326897</td>\n      <td>0</td>\n      <td>True</td>\n    </tr>\n    <tr>\n      <th>380</th>\n      <td>0</td>\n      <td>0</td>\n      <td>0</td>\n      <td>0</td>\n      <td>0.0</td>\n      <td>0.0</td>\n      <td>0</td>\n      <td>0.0</td>\n      <td>0.0</td>\n      <td>0.0</td>\n      <td>...</td>\n      <td>0.0</td>\n      <td>0.0</td>\n      <td>0.0</td>\n      <td>0.0</td>\n      <td>0.0</td>\n      <td>0.703871</td>\n      <td>0.194529</td>\n      <td>0.101600</td>\n      <td>0</td>\n      <td>True</td>\n    </tr>\n  </tbody>\n</table>\n<p>171993 rows × 24 columns</p>\n</div>"
     },
     "metadata": {},
     "execution_count": 14
    }
   ],
   "source": [
    "subset_master"
   ]
  },
  {
   "source": [
    "Columns Required for predicting:\n",
    "\n",
    "HomeShots, AwayShots, HomeShotsTarger, AwayShotsTarger, HomeCorners, AwayCorners, HomeFouls, AwayFouls, HomeRed, AwayRed"
   ],
   "cell_type": "markdown",
   "metadata": {}
  },
  {
   "cell_type": "code",
   "execution_count": 15,
   "metadata": {},
   "outputs": [],
   "source": [
    "current_season = pd.read_csv(\"/Users/pestephan/Documents/GitHub/Machine-Learning-using-Sports-Data/Predicting-PremLeague-Outcomes-With-ML/2020-2021.csv\")"
   ]
  },
  {
   "cell_type": "code",
   "execution_count": 19,
   "metadata": {},
   "outputs": [
    {
     "output_type": "error",
     "ename": "ValueError",
     "evalue": "could not convert string to float: '12/09/2020'",
     "traceback": [
      "\u001b[0;31m---------------------------------------------------------------------------\u001b[0m",
      "\u001b[0;31mValueError\u001b[0m                                Traceback (most recent call last)",
      "\u001b[0;32m<ipython-input-19-7c4b5cc446c9>\u001b[0m in \u001b[0;36m<module>\u001b[0;34m\u001b[0m\n\u001b[0;32m----> 1\u001b[0;31m \u001b[0my_pred\u001b[0m \u001b[0;34m=\u001b[0m \u001b[0mclf\u001b[0m\u001b[0;34m.\u001b[0m\u001b[0mpredict_proba\u001b[0m\u001b[0;34m(\u001b[0m\u001b[0mcurrent_season\u001b[0m\u001b[0;34m)\u001b[0m\u001b[0;34m\u001b[0m\u001b[0;34m\u001b[0m\u001b[0m\n\u001b[0m\u001b[1;32m      2\u001b[0m \u001b[0my_pred\u001b[0m \u001b[0;34m=\u001b[0m \u001b[0mpd\u001b[0m\u001b[0;34m.\u001b[0m\u001b[0mDataFrame\u001b[0m\u001b[0;34m(\u001b[0m\u001b[0my_pred\u001b[0m\u001b[0;34m)\u001b[0m\u001b[0;34m\u001b[0m\u001b[0;34m\u001b[0m\u001b[0m\n\u001b[1;32m      3\u001b[0m \u001b[0msplit_preds\u001b[0m\u001b[0;34m(\u001b[0m\u001b[0msubset_master\u001b[0m\u001b[0;34m,\u001b[0m \u001b[0my_pred\u001b[0m\u001b[0;34m)\u001b[0m\u001b[0;34m\u001b[0m\u001b[0;34m\u001b[0m\u001b[0m\n",
      "\u001b[0;32m/Library/Frameworks/Python.framework/Versions/3.9/lib/python3.9/site-packages/sklearn/ensemble/_forest.py\u001b[0m in \u001b[0;36mpredict_proba\u001b[0;34m(self, X)\u001b[0m\n\u001b[1;32m    672\u001b[0m         \u001b[0mcheck_is_fitted\u001b[0m\u001b[0;34m(\u001b[0m\u001b[0mself\u001b[0m\u001b[0;34m)\u001b[0m\u001b[0;34m\u001b[0m\u001b[0;34m\u001b[0m\u001b[0m\n\u001b[1;32m    673\u001b[0m         \u001b[0;31m# Check data\u001b[0m\u001b[0;34m\u001b[0m\u001b[0;34m\u001b[0m\u001b[0;34m\u001b[0m\u001b[0m\n\u001b[0;32m--> 674\u001b[0;31m         \u001b[0mX\u001b[0m \u001b[0;34m=\u001b[0m \u001b[0mself\u001b[0m\u001b[0;34m.\u001b[0m\u001b[0m_validate_X_predict\u001b[0m\u001b[0;34m(\u001b[0m\u001b[0mX\u001b[0m\u001b[0;34m)\u001b[0m\u001b[0;34m\u001b[0m\u001b[0;34m\u001b[0m\u001b[0m\n\u001b[0m\u001b[1;32m    675\u001b[0m \u001b[0;34m\u001b[0m\u001b[0m\n\u001b[1;32m    676\u001b[0m         \u001b[0;31m# Assign chunk of trees to jobs\u001b[0m\u001b[0;34m\u001b[0m\u001b[0;34m\u001b[0m\u001b[0;34m\u001b[0m\u001b[0m\n",
      "\u001b[0;32m/Library/Frameworks/Python.framework/Versions/3.9/lib/python3.9/site-packages/sklearn/ensemble/_forest.py\u001b[0m in \u001b[0;36m_validate_X_predict\u001b[0;34m(self, X)\u001b[0m\n\u001b[1;32m    420\u001b[0m         \u001b[0mcheck_is_fitted\u001b[0m\u001b[0;34m(\u001b[0m\u001b[0mself\u001b[0m\u001b[0;34m)\u001b[0m\u001b[0;34m\u001b[0m\u001b[0;34m\u001b[0m\u001b[0m\n\u001b[1;32m    421\u001b[0m \u001b[0;34m\u001b[0m\u001b[0m\n\u001b[0;32m--> 422\u001b[0;31m         \u001b[0;32mreturn\u001b[0m \u001b[0mself\u001b[0m\u001b[0;34m.\u001b[0m\u001b[0mestimators_\u001b[0m\u001b[0;34m[\u001b[0m\u001b[0;36m0\u001b[0m\u001b[0;34m]\u001b[0m\u001b[0;34m.\u001b[0m\u001b[0m_validate_X_predict\u001b[0m\u001b[0;34m(\u001b[0m\u001b[0mX\u001b[0m\u001b[0;34m,\u001b[0m \u001b[0mcheck_input\u001b[0m\u001b[0;34m=\u001b[0m\u001b[0;32mTrue\u001b[0m\u001b[0;34m)\u001b[0m\u001b[0;34m\u001b[0m\u001b[0;34m\u001b[0m\u001b[0m\n\u001b[0m\u001b[1;32m    423\u001b[0m \u001b[0;34m\u001b[0m\u001b[0m\n\u001b[1;32m    424\u001b[0m     \u001b[0;34m@\u001b[0m\u001b[0mproperty\u001b[0m\u001b[0;34m\u001b[0m\u001b[0;34m\u001b[0m\u001b[0m\n",
      "\u001b[0;32m/Library/Frameworks/Python.framework/Versions/3.9/lib/python3.9/site-packages/sklearn/tree/_classes.py\u001b[0m in \u001b[0;36m_validate_X_predict\u001b[0;34m(self, X, check_input)\u001b[0m\n\u001b[1;32m    400\u001b[0m         \u001b[0;34m\"\"\"Validate the training data on predict (probabilities).\"\"\"\u001b[0m\u001b[0;34m\u001b[0m\u001b[0;34m\u001b[0m\u001b[0m\n\u001b[1;32m    401\u001b[0m         \u001b[0;32mif\u001b[0m \u001b[0mcheck_input\u001b[0m\u001b[0;34m:\u001b[0m\u001b[0;34m\u001b[0m\u001b[0;34m\u001b[0m\u001b[0m\n\u001b[0;32m--> 402\u001b[0;31m             X = self._validate_data(X, dtype=DTYPE, accept_sparse=\"csr\",\n\u001b[0m\u001b[1;32m    403\u001b[0m                                     reset=False)\n\u001b[1;32m    404\u001b[0m             if issparse(X) and (X.indices.dtype != np.intc or\n",
      "\u001b[0;32m/Library/Frameworks/Python.framework/Versions/3.9/lib/python3.9/site-packages/sklearn/base.py\u001b[0m in \u001b[0;36m_validate_data\u001b[0;34m(self, X, y, reset, validate_separately, **check_params)\u001b[0m\n\u001b[1;32m    419\u001b[0m             \u001b[0mout\u001b[0m \u001b[0;34m=\u001b[0m \u001b[0mX\u001b[0m\u001b[0;34m\u001b[0m\u001b[0;34m\u001b[0m\u001b[0m\n\u001b[1;32m    420\u001b[0m         \u001b[0;32melif\u001b[0m \u001b[0misinstance\u001b[0m\u001b[0;34m(\u001b[0m\u001b[0my\u001b[0m\u001b[0;34m,\u001b[0m \u001b[0mstr\u001b[0m\u001b[0;34m)\u001b[0m \u001b[0;32mand\u001b[0m \u001b[0my\u001b[0m \u001b[0;34m==\u001b[0m \u001b[0;34m'no_validation'\u001b[0m\u001b[0;34m:\u001b[0m\u001b[0;34m\u001b[0m\u001b[0;34m\u001b[0m\u001b[0m\n\u001b[0;32m--> 421\u001b[0;31m             \u001b[0mX\u001b[0m \u001b[0;34m=\u001b[0m \u001b[0mcheck_array\u001b[0m\u001b[0;34m(\u001b[0m\u001b[0mX\u001b[0m\u001b[0;34m,\u001b[0m \u001b[0;34m**\u001b[0m\u001b[0mcheck_params\u001b[0m\u001b[0;34m)\u001b[0m\u001b[0;34m\u001b[0m\u001b[0;34m\u001b[0m\u001b[0m\n\u001b[0m\u001b[1;32m    422\u001b[0m             \u001b[0mout\u001b[0m \u001b[0;34m=\u001b[0m \u001b[0mX\u001b[0m\u001b[0;34m\u001b[0m\u001b[0;34m\u001b[0m\u001b[0m\n\u001b[1;32m    423\u001b[0m         \u001b[0;32melse\u001b[0m\u001b[0;34m:\u001b[0m\u001b[0;34m\u001b[0m\u001b[0;34m\u001b[0m\u001b[0m\n",
      "\u001b[0;32m/Library/Frameworks/Python.framework/Versions/3.9/lib/python3.9/site-packages/sklearn/utils/validation.py\u001b[0m in \u001b[0;36minner_f\u001b[0;34m(*args, **kwargs)\u001b[0m\n\u001b[1;32m     61\u001b[0m             \u001b[0mextra_args\u001b[0m \u001b[0;34m=\u001b[0m \u001b[0mlen\u001b[0m\u001b[0;34m(\u001b[0m\u001b[0margs\u001b[0m\u001b[0;34m)\u001b[0m \u001b[0;34m-\u001b[0m \u001b[0mlen\u001b[0m\u001b[0;34m(\u001b[0m\u001b[0mall_args\u001b[0m\u001b[0;34m)\u001b[0m\u001b[0;34m\u001b[0m\u001b[0;34m\u001b[0m\u001b[0m\n\u001b[1;32m     62\u001b[0m             \u001b[0;32mif\u001b[0m \u001b[0mextra_args\u001b[0m \u001b[0;34m<=\u001b[0m \u001b[0;36m0\u001b[0m\u001b[0;34m:\u001b[0m\u001b[0;34m\u001b[0m\u001b[0;34m\u001b[0m\u001b[0m\n\u001b[0;32m---> 63\u001b[0;31m                 \u001b[0;32mreturn\u001b[0m \u001b[0mf\u001b[0m\u001b[0;34m(\u001b[0m\u001b[0;34m*\u001b[0m\u001b[0margs\u001b[0m\u001b[0;34m,\u001b[0m \u001b[0;34m**\u001b[0m\u001b[0mkwargs\u001b[0m\u001b[0;34m)\u001b[0m\u001b[0;34m\u001b[0m\u001b[0;34m\u001b[0m\u001b[0m\n\u001b[0m\u001b[1;32m     64\u001b[0m \u001b[0;34m\u001b[0m\u001b[0m\n\u001b[1;32m     65\u001b[0m             \u001b[0;31m# extra_args > 0\u001b[0m\u001b[0;34m\u001b[0m\u001b[0;34m\u001b[0m\u001b[0;34m\u001b[0m\u001b[0m\n",
      "\u001b[0;32m/Library/Frameworks/Python.framework/Versions/3.9/lib/python3.9/site-packages/sklearn/utils/validation.py\u001b[0m in \u001b[0;36mcheck_array\u001b[0;34m(array, accept_sparse, accept_large_sparse, dtype, order, copy, force_all_finite, ensure_2d, allow_nd, ensure_min_samples, ensure_min_features, estimator)\u001b[0m\n\u001b[1;32m    614\u001b[0m                     \u001b[0marray\u001b[0m \u001b[0;34m=\u001b[0m \u001b[0marray\u001b[0m\u001b[0;34m.\u001b[0m\u001b[0mastype\u001b[0m\u001b[0;34m(\u001b[0m\u001b[0mdtype\u001b[0m\u001b[0;34m,\u001b[0m \u001b[0mcasting\u001b[0m\u001b[0;34m=\u001b[0m\u001b[0;34m\"unsafe\"\u001b[0m\u001b[0;34m,\u001b[0m \u001b[0mcopy\u001b[0m\u001b[0;34m=\u001b[0m\u001b[0;32mFalse\u001b[0m\u001b[0;34m)\u001b[0m\u001b[0;34m\u001b[0m\u001b[0;34m\u001b[0m\u001b[0m\n\u001b[1;32m    615\u001b[0m                 \u001b[0;32melse\u001b[0m\u001b[0;34m:\u001b[0m\u001b[0;34m\u001b[0m\u001b[0;34m\u001b[0m\u001b[0m\n\u001b[0;32m--> 616\u001b[0;31m                     \u001b[0marray\u001b[0m \u001b[0;34m=\u001b[0m \u001b[0mnp\u001b[0m\u001b[0;34m.\u001b[0m\u001b[0masarray\u001b[0m\u001b[0;34m(\u001b[0m\u001b[0marray\u001b[0m\u001b[0;34m,\u001b[0m \u001b[0morder\u001b[0m\u001b[0;34m=\u001b[0m\u001b[0morder\u001b[0m\u001b[0;34m,\u001b[0m \u001b[0mdtype\u001b[0m\u001b[0;34m=\u001b[0m\u001b[0mdtype\u001b[0m\u001b[0;34m)\u001b[0m\u001b[0;34m\u001b[0m\u001b[0;34m\u001b[0m\u001b[0m\n\u001b[0m\u001b[1;32m    617\u001b[0m             \u001b[0;32mexcept\u001b[0m \u001b[0mComplexWarning\u001b[0m \u001b[0;32mas\u001b[0m \u001b[0mcomplex_warning\u001b[0m\u001b[0;34m:\u001b[0m\u001b[0;34m\u001b[0m\u001b[0;34m\u001b[0m\u001b[0m\n\u001b[1;32m    618\u001b[0m                 raise ValueError(\"Complex data not supported\\n\"\n",
      "\u001b[0;32m/Library/Frameworks/Python.framework/Versions/3.9/lib/python3.9/site-packages/numpy/core/_asarray.py\u001b[0m in \u001b[0;36masarray\u001b[0;34m(a, dtype, order, like)\u001b[0m\n\u001b[1;32m    100\u001b[0m         \u001b[0;32mreturn\u001b[0m \u001b[0m_asarray_with_like\u001b[0m\u001b[0;34m(\u001b[0m\u001b[0ma\u001b[0m\u001b[0;34m,\u001b[0m \u001b[0mdtype\u001b[0m\u001b[0;34m=\u001b[0m\u001b[0mdtype\u001b[0m\u001b[0;34m,\u001b[0m \u001b[0morder\u001b[0m\u001b[0;34m=\u001b[0m\u001b[0morder\u001b[0m\u001b[0;34m,\u001b[0m \u001b[0mlike\u001b[0m\u001b[0;34m=\u001b[0m\u001b[0mlike\u001b[0m\u001b[0;34m)\u001b[0m\u001b[0;34m\u001b[0m\u001b[0;34m\u001b[0m\u001b[0m\n\u001b[1;32m    101\u001b[0m \u001b[0;34m\u001b[0m\u001b[0m\n\u001b[0;32m--> 102\u001b[0;31m     \u001b[0;32mreturn\u001b[0m \u001b[0marray\u001b[0m\u001b[0;34m(\u001b[0m\u001b[0ma\u001b[0m\u001b[0;34m,\u001b[0m \u001b[0mdtype\u001b[0m\u001b[0;34m,\u001b[0m \u001b[0mcopy\u001b[0m\u001b[0;34m=\u001b[0m\u001b[0;32mFalse\u001b[0m\u001b[0;34m,\u001b[0m \u001b[0morder\u001b[0m\u001b[0;34m=\u001b[0m\u001b[0morder\u001b[0m\u001b[0;34m)\u001b[0m\u001b[0;34m\u001b[0m\u001b[0;34m\u001b[0m\u001b[0m\n\u001b[0m\u001b[1;32m    103\u001b[0m \u001b[0;34m\u001b[0m\u001b[0m\n\u001b[1;32m    104\u001b[0m \u001b[0;34m\u001b[0m\u001b[0m\n",
      "\u001b[0;32m/Library/Frameworks/Python.framework/Versions/3.9/lib/python3.9/site-packages/pandas/core/generic.py\u001b[0m in \u001b[0;36m__array__\u001b[0;34m(self, dtype)\u001b[0m\n\u001b[1;32m   1896\u001b[0m \u001b[0;34m\u001b[0m\u001b[0m\n\u001b[1;32m   1897\u001b[0m     \u001b[0;32mdef\u001b[0m \u001b[0m__array__\u001b[0m\u001b[0;34m(\u001b[0m\u001b[0mself\u001b[0m\u001b[0;34m,\u001b[0m \u001b[0mdtype\u001b[0m\u001b[0;34m=\u001b[0m\u001b[0;32mNone\u001b[0m\u001b[0;34m)\u001b[0m \u001b[0;34m->\u001b[0m \u001b[0mnp\u001b[0m\u001b[0;34m.\u001b[0m\u001b[0mndarray\u001b[0m\u001b[0;34m:\u001b[0m\u001b[0;34m\u001b[0m\u001b[0;34m\u001b[0m\u001b[0m\n\u001b[0;32m-> 1898\u001b[0;31m         \u001b[0;32mreturn\u001b[0m \u001b[0mnp\u001b[0m\u001b[0;34m.\u001b[0m\u001b[0masarray\u001b[0m\u001b[0;34m(\u001b[0m\u001b[0mself\u001b[0m\u001b[0;34m.\u001b[0m\u001b[0m_values\u001b[0m\u001b[0;34m,\u001b[0m \u001b[0mdtype\u001b[0m\u001b[0;34m=\u001b[0m\u001b[0mdtype\u001b[0m\u001b[0;34m)\u001b[0m\u001b[0;34m\u001b[0m\u001b[0;34m\u001b[0m\u001b[0m\n\u001b[0m\u001b[1;32m   1899\u001b[0m \u001b[0;34m\u001b[0m\u001b[0m\n\u001b[1;32m   1900\u001b[0m     def __array_wrap__(\n",
      "\u001b[0;32m/Library/Frameworks/Python.framework/Versions/3.9/lib/python3.9/site-packages/numpy/core/_asarray.py\u001b[0m in \u001b[0;36masarray\u001b[0;34m(a, dtype, order, like)\u001b[0m\n\u001b[1;32m    100\u001b[0m         \u001b[0;32mreturn\u001b[0m \u001b[0m_asarray_with_like\u001b[0m\u001b[0;34m(\u001b[0m\u001b[0ma\u001b[0m\u001b[0;34m,\u001b[0m \u001b[0mdtype\u001b[0m\u001b[0;34m=\u001b[0m\u001b[0mdtype\u001b[0m\u001b[0;34m,\u001b[0m \u001b[0morder\u001b[0m\u001b[0;34m=\u001b[0m\u001b[0morder\u001b[0m\u001b[0;34m,\u001b[0m \u001b[0mlike\u001b[0m\u001b[0;34m=\u001b[0m\u001b[0mlike\u001b[0m\u001b[0;34m)\u001b[0m\u001b[0;34m\u001b[0m\u001b[0;34m\u001b[0m\u001b[0m\n\u001b[1;32m    101\u001b[0m \u001b[0;34m\u001b[0m\u001b[0m\n\u001b[0;32m--> 102\u001b[0;31m     \u001b[0;32mreturn\u001b[0m \u001b[0marray\u001b[0m\u001b[0;34m(\u001b[0m\u001b[0ma\u001b[0m\u001b[0;34m,\u001b[0m \u001b[0mdtype\u001b[0m\u001b[0;34m,\u001b[0m \u001b[0mcopy\u001b[0m\u001b[0;34m=\u001b[0m\u001b[0;32mFalse\u001b[0m\u001b[0;34m,\u001b[0m \u001b[0morder\u001b[0m\u001b[0;34m=\u001b[0m\u001b[0morder\u001b[0m\u001b[0;34m)\u001b[0m\u001b[0;34m\u001b[0m\u001b[0;34m\u001b[0m\u001b[0m\n\u001b[0m\u001b[1;32m    103\u001b[0m \u001b[0;34m\u001b[0m\u001b[0m\n\u001b[1;32m    104\u001b[0m \u001b[0;34m\u001b[0m\u001b[0m\n",
      "\u001b[0;31mValueError\u001b[0m: could not convert string to float: '12/09/2020'"
     ]
    }
   ],
   "source": [
    "y_pred = clf.predict_proba(current_season)\n",
    "y_pred = pd.DataFrame(y_pred)\n",
    "split_preds(subset_master, y_pred)"
   ]
  },
  {
   "cell_type": "code",
   "execution_count": 18,
   "metadata": {},
   "outputs": [
    {
     "output_type": "error",
     "ename": "TypeError",
     "evalue": "measure_csv_df() missing 1 required positional argument: 'clf'",
     "traceback": [
      "\u001b[0;31m---------------------------------------------------------------------------\u001b[0m",
      "\u001b[0;31mTypeError\u001b[0m                                 Traceback (most recent call last)",
      "\u001b[0;32m<ipython-input-18-a0b54a6d8812>\u001b[0m in \u001b[0;36m<module>\u001b[0;34m\u001b[0m\n\u001b[0;32m----> 1\u001b[0;31m \u001b[0mcurrent_season\u001b[0m \u001b[0;34m=\u001b[0m \u001b[0mmeasure_csv_df\u001b[0m\u001b[0;34m(\u001b[0m\u001b[0mcurrent_season\u001b[0m\u001b[0;34m)\u001b[0m\u001b[0;34m\u001b[0m\u001b[0;34m\u001b[0m\u001b[0m\n\u001b[0m\u001b[1;32m      2\u001b[0m \u001b[0mcurrent_season\u001b[0m\u001b[0;34m.\u001b[0m\u001b[0mFTR\u001b[0m\u001b[0;34m.\u001b[0m\u001b[0mreplace\u001b[0m\u001b[0;34m(\u001b[0m\u001b[0;34m[\u001b[0m\u001b[0;34m'H'\u001b[0m\u001b[0;34m,\u001b[0m \u001b[0;34m'D'\u001b[0m\u001b[0;34m,\u001b[0m \u001b[0;34m'A'\u001b[0m\u001b[0;34m]\u001b[0m\u001b[0;34m,\u001b[0m \u001b[0;34m[\u001b[0m\u001b[0;36m0\u001b[0m\u001b[0;34m,\u001b[0m \u001b[0;36m1\u001b[0m\u001b[0;34m,\u001b[0m \u001b[0;36m2\u001b[0m\u001b[0;34m]\u001b[0m\u001b[0;34m,\u001b[0m \u001b[0minplace\u001b[0m \u001b[0;34m=\u001b[0m \u001b[0;32mTrue\u001b[0m\u001b[0;34m)\u001b[0m\u001b[0;34m\u001b[0m\u001b[0;34m\u001b[0m\u001b[0m\n\u001b[1;32m      3\u001b[0m \u001b[0mcurrent_season\u001b[0m\u001b[0;34m.\u001b[0m\u001b[0mhead\u001b[0m\u001b[0;34m(\u001b[0m\u001b[0;34m)\u001b[0m\u001b[0;34m\u001b[0m\u001b[0;34m\u001b[0m\u001b[0m\n",
      "\u001b[0;31mTypeError\u001b[0m: measure_csv_df() missing 1 required positional argument: 'clf'"
     ]
    }
   ],
   "source": [
    "current_season = measure_csv_df(current_season)\n",
    "current_season.FTR.replace(['H', 'D', 'A'], [0, 1, 2], inplace = True)\n",
    "current_season.head()"
   ]
  },
  {
   "cell_type": "code",
   "execution_count": null,
   "metadata": {},
   "outputs": [],
   "source": []
  }
 ]
}