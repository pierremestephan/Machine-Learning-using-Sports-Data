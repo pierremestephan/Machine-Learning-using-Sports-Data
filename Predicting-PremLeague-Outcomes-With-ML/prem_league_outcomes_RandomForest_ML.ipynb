{
 "metadata": {
  "language_info": {
   "codemirror_mode": {
    "name": "ipython",
    "version": 3
   },
   "file_extension": ".py",
   "mimetype": "text/x-python",
   "name": "python",
   "nbconvert_exporter": "python",
   "pygments_lexer": "ipython3",
   "version": "3.9.2-final"
  },
  "orig_nbformat": 2,
  "kernelspec": {
   "name": "python3",
   "display_name": "Python 3.9.2 64-bit",
   "metadata": {
    "interpreter": {
     "hash": "aee8b7b246df8f9039afb4144a1f6fd8d2ca17a180786b69acc140d282b71a49"
    }
   }
  }
 },
 "nbformat": 4,
 "nbformat_minor": 2,
 "cells": [
  {
   "cell_type": "code",
   "execution_count": 8,
   "metadata": {},
   "outputs": [],
   "source": [
    "import os\n",
    "import glob\n",
    "import numpy as np\n",
    "import pandas as pd\n",
    "from functions import metrics\n",
    "from sklearn.ensemble import RandomForestClassifier\n",
    "from sklearn.metrics import accuracy_score\n",
    "os.chdir(\"/Users/pestephan/Documents/GitHub/Machine-Learning-using-Sports-Data/Predicting-PremLeague-Outcomes-With-ML/files/Datasets\")"
   ]
  },
  {
   "source": [
    "Data Taken from http://www.football-data.co.uk/englandm.php"
   ],
   "cell_type": "markdown",
   "metadata": {}
  },
  {
   "cell_type": "code",
   "execution_count": 9,
   "metadata": {},
   "outputs": [],
   "source": [
    "extension = 'csv'\n",
    "all_filenames = [i for i in glob.glob('*.{}'.format(extension))]"
   ]
  },
  {
   "cell_type": "code",
   "execution_count": 10,
   "metadata": {},
   "outputs": [],
   "source": [
    "#combine all files in the list\n",
    "master_sheet = pd.concat([pd.read_csv(f) for f in all_filenames ])\n",
    "#export to csv\n",
    "master_sheet.to_csv( \"master_sheet.csv\", index=False, encoding='utf-8-sig')"
   ]
  },
  {
   "source": [
    "Reduce table to using columns needed for the model\n",
    "\n",
    "Columns Required:\n",
    "\n",
    "Date, Time HomeTeam, AwayTeam, FullTimeHG, FullTimeAG, FullTimeRresults, HalfTimeHG, HalfTimeAG, HomeShots, AwayShots, HomeShotsTarger, AwayShotsTarger, HomeCorners, AwayCorners, HomeFouls, AwayFouls, HomeRed, AwayRed\n",
    "\n",
    "Columns To Consider:\n",
    "\n",
    "Attendance, Referee"
   ],
   "cell_type": "markdown",
   "metadata": {}
  },
  {
   "cell_type": "code",
   "execution_count": 11,
   "metadata": {},
   "outputs": [],
   "source": [
    "subset_master = master_sheet[[\"Date\", \"Time\", \"HomeTeam\", \"AwayTeam\", \"FTHG\", \"FTAG\", \"FTR\", \"HTHG\", \"HTAG\", \"HS\", \"AS\", \"HST\", \"AST\", \"HC\", \"AC\", \"HF\", \"AF\", \"HR\", \"AR\"]]\n",
    "subset_master = subset_master.fillna(0)\n",
    "# 0 = Home Wins, 1 = Draw, 2 = Away Wins\n",
    "subset_master.FTR.replace(['H', 'D', 'A'], [0, 1, 2], inplace = True)"
   ]
  },
  {
   "cell_type": "code",
   "execution_count": 12,
   "metadata": {},
   "outputs": [
    {
     "output_type": "execute_result",
     "data": {
      "text/plain": [
       "       Date Time   HomeTeam     AwayTeam  FTHG  FTAG  FTR  HTHG  HTAG    HS  \\\n",
       "0  13/08/11    0  Blackburn       Wolves   1.0   2.0    2   1.0   1.0  16.0   \n",
       "1  13/08/11    0     Fulham  Aston Villa   0.0   0.0    1   0.0   0.0  13.0   \n",
       "2  13/08/11    0  Liverpool   Sunderland   1.0   1.0    1   1.0   0.0  11.0   \n",
       "3  13/08/11    0  Newcastle      Arsenal   0.0   0.0    1   0.0   0.0   6.0   \n",
       "4  13/08/11    0        QPR       Bolton   0.0   4.0    2   0.0   1.0  13.0   \n",
       "\n",
       "     AS  HST  AST    HC   AC    HF    AF   HR   AR  \n",
       "0  13.0  8.0  4.0  12.0  6.0  14.0  10.0  0.0  0.0  \n",
       "1   7.0  9.0  1.0   2.0  3.0  10.0  18.0  0.0  0.0  \n",
       "2  15.0  4.0  6.0   6.0  3.0  17.0  12.0  0.0  0.0  \n",
       "3   9.0  1.0  4.0   2.0  5.0   9.0  11.0  0.0  1.0  \n",
       "4  13.0  7.0  7.0   3.0  2.0   9.0  16.0  1.0  0.0  "
      ],
      "text/html": "<div>\n<style scoped>\n    .dataframe tbody tr th:only-of-type {\n        vertical-align: middle;\n    }\n\n    .dataframe tbody tr th {\n        vertical-align: top;\n    }\n\n    .dataframe thead th {\n        text-align: right;\n    }\n</style>\n<table border=\"1\" class=\"dataframe\">\n  <thead>\n    <tr style=\"text-align: right;\">\n      <th></th>\n      <th>Date</th>\n      <th>Time</th>\n      <th>HomeTeam</th>\n      <th>AwayTeam</th>\n      <th>FTHG</th>\n      <th>FTAG</th>\n      <th>FTR</th>\n      <th>HTHG</th>\n      <th>HTAG</th>\n      <th>HS</th>\n      <th>AS</th>\n      <th>HST</th>\n      <th>AST</th>\n      <th>HC</th>\n      <th>AC</th>\n      <th>HF</th>\n      <th>AF</th>\n      <th>HR</th>\n      <th>AR</th>\n    </tr>\n  </thead>\n  <tbody>\n    <tr>\n      <th>0</th>\n      <td>13/08/11</td>\n      <td>0</td>\n      <td>Blackburn</td>\n      <td>Wolves</td>\n      <td>1.0</td>\n      <td>2.0</td>\n      <td>2</td>\n      <td>1.0</td>\n      <td>1.0</td>\n      <td>16.0</td>\n      <td>13.0</td>\n      <td>8.0</td>\n      <td>4.0</td>\n      <td>12.0</td>\n      <td>6.0</td>\n      <td>14.0</td>\n      <td>10.0</td>\n      <td>0.0</td>\n      <td>0.0</td>\n    </tr>\n    <tr>\n      <th>1</th>\n      <td>13/08/11</td>\n      <td>0</td>\n      <td>Fulham</td>\n      <td>Aston Villa</td>\n      <td>0.0</td>\n      <td>0.0</td>\n      <td>1</td>\n      <td>0.0</td>\n      <td>0.0</td>\n      <td>13.0</td>\n      <td>7.0</td>\n      <td>9.0</td>\n      <td>1.0</td>\n      <td>2.0</td>\n      <td>3.0</td>\n      <td>10.0</td>\n      <td>18.0</td>\n      <td>0.0</td>\n      <td>0.0</td>\n    </tr>\n    <tr>\n      <th>2</th>\n      <td>13/08/11</td>\n      <td>0</td>\n      <td>Liverpool</td>\n      <td>Sunderland</td>\n      <td>1.0</td>\n      <td>1.0</td>\n      <td>1</td>\n      <td>1.0</td>\n      <td>0.0</td>\n      <td>11.0</td>\n      <td>15.0</td>\n      <td>4.0</td>\n      <td>6.0</td>\n      <td>6.0</td>\n      <td>3.0</td>\n      <td>17.0</td>\n      <td>12.0</td>\n      <td>0.0</td>\n      <td>0.0</td>\n    </tr>\n    <tr>\n      <th>3</th>\n      <td>13/08/11</td>\n      <td>0</td>\n      <td>Newcastle</td>\n      <td>Arsenal</td>\n      <td>0.0</td>\n      <td>0.0</td>\n      <td>1</td>\n      <td>0.0</td>\n      <td>0.0</td>\n      <td>6.0</td>\n      <td>9.0</td>\n      <td>1.0</td>\n      <td>4.0</td>\n      <td>2.0</td>\n      <td>5.0</td>\n      <td>9.0</td>\n      <td>11.0</td>\n      <td>0.0</td>\n      <td>1.0</td>\n    </tr>\n    <tr>\n      <th>4</th>\n      <td>13/08/11</td>\n      <td>0</td>\n      <td>QPR</td>\n      <td>Bolton</td>\n      <td>0.0</td>\n      <td>4.0</td>\n      <td>2</td>\n      <td>0.0</td>\n      <td>1.0</td>\n      <td>13.0</td>\n      <td>13.0</td>\n      <td>7.0</td>\n      <td>7.0</td>\n      <td>3.0</td>\n      <td>2.0</td>\n      <td>9.0</td>\n      <td>16.0</td>\n      <td>1.0</td>\n      <td>0.0</td>\n    </tr>\n  </tbody>\n</table>\n</div>"
     },
     "metadata": {},
     "execution_count": 12
    }
   ],
   "source": [
    "subset_master.head()"
   ]
  },
  {
   "cell_type": "code",
   "execution_count": 13,
   "metadata": {},
   "outputs": [],
   "source": [
    "msk = np.random.rand(len(subset_master)) < 0.75\n",
    "\n",
    "train_df = subset_master[msk]\n",
    "test_df = subset_master[~msk]\n",
    "\n",
    "X_train = train_df.drop(columns = ['Date', 'Time', 'HomeTeam', 'AwayTeam', 'FTR'])\n",
    "y_train = train_df[['FTR']] \n",
    "X_test = test_df.drop(columns = ['Date', 'Time', 'HomeTeam', 'AwayTeam', 'FTR'])\n",
    "y_test = test_df[['FTR']]"
   ]
  },
  {
   "cell_type": "code",
   "execution_count": 18,
   "metadata": {},
   "outputs": [],
   "source": [
    "clf = RandomForestClassifier(max_depth=3, random_state=0)\n",
    "clf.fit(X_train, y_train)\n",
    "\n",
    "y_pred = clf.predict_proba(X_test)\n",
    "y_pred = pd.DataFrame(y_pred)"
   ]
  },
  {
   "source": [
    "Identifying how often Predicted Results decided the outcome (win, draw, away) against the actual results)"
   ],
   "cell_type": "markdown",
   "metadata": {}
  },
  {
   "cell_type": "code",
   "execution_count": 19,
   "metadata": {},
   "outputs": [
    {
     "output_type": "stream",
     "name": "stdout",
     "text": [
      "False    61.001736\nTrue     38.998264\nName: Comparison, dtype: float64\n0    45.227728\n2    30.153600\n1    24.618672\nName: FTR, dtype: float64\n0    59.460398\n2    31.785762\n1     8.753840\nName: PredResult, dtype: float64\n"
     ]
    }
   ],
   "source": [
    "metrics(subset_master, y_pred)"
   ]
  },
  {
   "cell_type": "code",
   "execution_count": 20,
   "metadata": {},
   "outputs": [
    {
     "output_type": "execute_result",
     "data": {
      "text/plain": [
       "         Date Time   HomeTeam     AwayTeam  FTHG  FTAG  FTR  HTHG  HTAG    HS  \\\n",
       "0    13/08/11    0  Blackburn       Wolves   1.0   2.0    2   1.0   1.0  16.0   \n",
       "1    13/08/11    0     Fulham  Aston Villa   0.0   0.0    1   0.0   0.0  13.0   \n",
       "2    13/08/11    0  Liverpool   Sunderland   1.0   1.0    1   1.0   0.0  11.0   \n",
       "3    13/08/11    0  Newcastle      Arsenal   0.0   0.0    1   0.0   0.0   6.0   \n",
       "4    13/08/11    0        QPR       Bolton   0.0   4.0    2   0.0   1.0  13.0   \n",
       "..        ...  ...        ...          ...   ...   ...  ...   ...   ...   ...   \n",
       "376  24/05/15    0  Leicester          QPR   5.0   1.0    0   2.0   0.0  22.0   \n",
       "377  24/05/15    0   Man City  Southampton   2.0   0.0    0   1.0   0.0  15.0   \n",
       "378  24/05/15    0  Newcastle     West Ham   2.0   0.0    0   0.0   0.0  17.0   \n",
       "379  24/05/15    0      Stoke    Liverpool   6.0   1.0    0   5.0   0.0  15.0   \n",
       "380         0    0          0            0   0.0   0.0    0   0.0   0.0   0.0   \n",
       "\n",
       "     ...  AST    HC   AC    HF    AF   HR   AR  HomeWinPerc  DrawPerc  \\\n",
       "0    ...  4.0  12.0  6.0  14.0  10.0  0.0  0.0     0.209004  0.215858   \n",
       "1    ...  1.0   2.0  3.0  10.0  18.0  0.0  0.0     0.425213  0.388356   \n",
       "2    ...  6.0   6.0  3.0  17.0  12.0  0.0  0.0     0.324216  0.416111   \n",
       "3    ...  4.0   2.0  5.0   9.0  11.0  0.0  1.0     0.199943  0.216504   \n",
       "4    ...  7.0   3.0  2.0   9.0  16.0  1.0  0.0     0.744252  0.178862   \n",
       "..   ...  ...   ...  ...   ...   ...  ...  ...          ...       ...   \n",
       "376  ...  2.0   5.0  6.0   7.0   6.0  0.0  0.0     0.437465  0.336053   \n",
       "377  ...  4.0   8.0  4.0  13.0   8.0  0.0  0.0     0.087471  0.187692   \n",
       "378  ...  1.0   2.0  3.0   9.0   9.0  0.0  0.0     0.128365  0.174800   \n",
       "379  ...  4.0   3.0  9.0  13.0   4.0  0.0  0.0     0.869170  0.104916   \n",
       "380  ...  0.0   0.0  0.0   0.0   0.0  0.0  0.0     0.348636  0.287258   \n",
       "\n",
       "     AwayPerc  \n",
       "0    0.575138  \n",
       "1    0.186432  \n",
       "2    0.259673  \n",
       "3    0.583554  \n",
       "4    0.076886  \n",
       "..        ...  \n",
       "376  0.226483  \n",
       "377  0.724838  \n",
       "378  0.696835  \n",
       "379  0.025914  \n",
       "380  0.364106  \n",
       "\n",
       "[132858 rows x 22 columns]"
      ],
      "text/html": "<div>\n<style scoped>\n    .dataframe tbody tr th:only-of-type {\n        vertical-align: middle;\n    }\n\n    .dataframe tbody tr th {\n        vertical-align: top;\n    }\n\n    .dataframe thead th {\n        text-align: right;\n    }\n</style>\n<table border=\"1\" class=\"dataframe\">\n  <thead>\n    <tr style=\"text-align: right;\">\n      <th></th>\n      <th>Date</th>\n      <th>Time</th>\n      <th>HomeTeam</th>\n      <th>AwayTeam</th>\n      <th>FTHG</th>\n      <th>FTAG</th>\n      <th>FTR</th>\n      <th>HTHG</th>\n      <th>HTAG</th>\n      <th>HS</th>\n      <th>...</th>\n      <th>AST</th>\n      <th>HC</th>\n      <th>AC</th>\n      <th>HF</th>\n      <th>AF</th>\n      <th>HR</th>\n      <th>AR</th>\n      <th>HomeWinPerc</th>\n      <th>DrawPerc</th>\n      <th>AwayPerc</th>\n    </tr>\n  </thead>\n  <tbody>\n    <tr>\n      <th>0</th>\n      <td>13/08/11</td>\n      <td>0</td>\n      <td>Blackburn</td>\n      <td>Wolves</td>\n      <td>1.0</td>\n      <td>2.0</td>\n      <td>2</td>\n      <td>1.0</td>\n      <td>1.0</td>\n      <td>16.0</td>\n      <td>...</td>\n      <td>4.0</td>\n      <td>12.0</td>\n      <td>6.0</td>\n      <td>14.0</td>\n      <td>10.0</td>\n      <td>0.0</td>\n      <td>0.0</td>\n      <td>0.209004</td>\n      <td>0.215858</td>\n      <td>0.575138</td>\n    </tr>\n    <tr>\n      <th>1</th>\n      <td>13/08/11</td>\n      <td>0</td>\n      <td>Fulham</td>\n      <td>Aston Villa</td>\n      <td>0.0</td>\n      <td>0.0</td>\n      <td>1</td>\n      <td>0.0</td>\n      <td>0.0</td>\n      <td>13.0</td>\n      <td>...</td>\n      <td>1.0</td>\n      <td>2.0</td>\n      <td>3.0</td>\n      <td>10.0</td>\n      <td>18.0</td>\n      <td>0.0</td>\n      <td>0.0</td>\n      <td>0.425213</td>\n      <td>0.388356</td>\n      <td>0.186432</td>\n    </tr>\n    <tr>\n      <th>2</th>\n      <td>13/08/11</td>\n      <td>0</td>\n      <td>Liverpool</td>\n      <td>Sunderland</td>\n      <td>1.0</td>\n      <td>1.0</td>\n      <td>1</td>\n      <td>1.0</td>\n      <td>0.0</td>\n      <td>11.0</td>\n      <td>...</td>\n      <td>6.0</td>\n      <td>6.0</td>\n      <td>3.0</td>\n      <td>17.0</td>\n      <td>12.0</td>\n      <td>0.0</td>\n      <td>0.0</td>\n      <td>0.324216</td>\n      <td>0.416111</td>\n      <td>0.259673</td>\n    </tr>\n    <tr>\n      <th>3</th>\n      <td>13/08/11</td>\n      <td>0</td>\n      <td>Newcastle</td>\n      <td>Arsenal</td>\n      <td>0.0</td>\n      <td>0.0</td>\n      <td>1</td>\n      <td>0.0</td>\n      <td>0.0</td>\n      <td>6.0</td>\n      <td>...</td>\n      <td>4.0</td>\n      <td>2.0</td>\n      <td>5.0</td>\n      <td>9.0</td>\n      <td>11.0</td>\n      <td>0.0</td>\n      <td>1.0</td>\n      <td>0.199943</td>\n      <td>0.216504</td>\n      <td>0.583554</td>\n    </tr>\n    <tr>\n      <th>4</th>\n      <td>13/08/11</td>\n      <td>0</td>\n      <td>QPR</td>\n      <td>Bolton</td>\n      <td>0.0</td>\n      <td>4.0</td>\n      <td>2</td>\n      <td>0.0</td>\n      <td>1.0</td>\n      <td>13.0</td>\n      <td>...</td>\n      <td>7.0</td>\n      <td>3.0</td>\n      <td>2.0</td>\n      <td>9.0</td>\n      <td>16.0</td>\n      <td>1.0</td>\n      <td>0.0</td>\n      <td>0.744252</td>\n      <td>0.178862</td>\n      <td>0.076886</td>\n    </tr>\n    <tr>\n      <th>...</th>\n      <td>...</td>\n      <td>...</td>\n      <td>...</td>\n      <td>...</td>\n      <td>...</td>\n      <td>...</td>\n      <td>...</td>\n      <td>...</td>\n      <td>...</td>\n      <td>...</td>\n      <td>...</td>\n      <td>...</td>\n      <td>...</td>\n      <td>...</td>\n      <td>...</td>\n      <td>...</td>\n      <td>...</td>\n      <td>...</td>\n      <td>...</td>\n      <td>...</td>\n      <td>...</td>\n    </tr>\n    <tr>\n      <th>376</th>\n      <td>24/05/15</td>\n      <td>0</td>\n      <td>Leicester</td>\n      <td>QPR</td>\n      <td>5.0</td>\n      <td>1.0</td>\n      <td>0</td>\n      <td>2.0</td>\n      <td>0.0</td>\n      <td>22.0</td>\n      <td>...</td>\n      <td>2.0</td>\n      <td>5.0</td>\n      <td>6.0</td>\n      <td>7.0</td>\n      <td>6.0</td>\n      <td>0.0</td>\n      <td>0.0</td>\n      <td>0.437465</td>\n      <td>0.336053</td>\n      <td>0.226483</td>\n    </tr>\n    <tr>\n      <th>377</th>\n      <td>24/05/15</td>\n      <td>0</td>\n      <td>Man City</td>\n      <td>Southampton</td>\n      <td>2.0</td>\n      <td>0.0</td>\n      <td>0</td>\n      <td>1.0</td>\n      <td>0.0</td>\n      <td>15.0</td>\n      <td>...</td>\n      <td>4.0</td>\n      <td>8.0</td>\n      <td>4.0</td>\n      <td>13.0</td>\n      <td>8.0</td>\n      <td>0.0</td>\n      <td>0.0</td>\n      <td>0.087471</td>\n      <td>0.187692</td>\n      <td>0.724838</td>\n    </tr>\n    <tr>\n      <th>378</th>\n      <td>24/05/15</td>\n      <td>0</td>\n      <td>Newcastle</td>\n      <td>West Ham</td>\n      <td>2.0</td>\n      <td>0.0</td>\n      <td>0</td>\n      <td>0.0</td>\n      <td>0.0</td>\n      <td>17.0</td>\n      <td>...</td>\n      <td>1.0</td>\n      <td>2.0</td>\n      <td>3.0</td>\n      <td>9.0</td>\n      <td>9.0</td>\n      <td>0.0</td>\n      <td>0.0</td>\n      <td>0.128365</td>\n      <td>0.174800</td>\n      <td>0.696835</td>\n    </tr>\n    <tr>\n      <th>379</th>\n      <td>24/05/15</td>\n      <td>0</td>\n      <td>Stoke</td>\n      <td>Liverpool</td>\n      <td>6.0</td>\n      <td>1.0</td>\n      <td>0</td>\n      <td>5.0</td>\n      <td>0.0</td>\n      <td>15.0</td>\n      <td>...</td>\n      <td>4.0</td>\n      <td>3.0</td>\n      <td>9.0</td>\n      <td>13.0</td>\n      <td>4.0</td>\n      <td>0.0</td>\n      <td>0.0</td>\n      <td>0.869170</td>\n      <td>0.104916</td>\n      <td>0.025914</td>\n    </tr>\n    <tr>\n      <th>380</th>\n      <td>0</td>\n      <td>0</td>\n      <td>0</td>\n      <td>0</td>\n      <td>0.0</td>\n      <td>0.0</td>\n      <td>0</td>\n      <td>0.0</td>\n      <td>0.0</td>\n      <td>0.0</td>\n      <td>...</td>\n      <td>0.0</td>\n      <td>0.0</td>\n      <td>0.0</td>\n      <td>0.0</td>\n      <td>0.0</td>\n      <td>0.0</td>\n      <td>0.0</td>\n      <td>0.348636</td>\n      <td>0.287258</td>\n      <td>0.364106</td>\n    </tr>\n  </tbody>\n</table>\n<p>132858 rows × 22 columns</p>\n</div>"
     },
     "metadata": {},
     "execution_count": 20
    }
   ],
   "source": [
    "subset_master"
   ]
  },
  {
   "cell_type": "code",
   "execution_count": null,
   "metadata": {},
   "outputs": [],
   "source": []
  }
 ]
}