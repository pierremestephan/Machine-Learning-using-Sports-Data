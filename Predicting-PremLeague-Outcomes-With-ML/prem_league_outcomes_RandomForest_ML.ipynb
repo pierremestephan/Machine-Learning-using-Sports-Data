{
 "metadata": {
  "language_info": {
   "codemirror_mode": {
    "name": "ipython",
    "version": 3
   },
   "file_extension": ".py",
   "mimetype": "text/x-python",
   "name": "python",
   "nbconvert_exporter": "python",
   "pygments_lexer": "ipython3",
   "version": "3.9.2-final"
  },
  "orig_nbformat": 2,
  "kernelspec": {
   "name": "python3",
   "display_name": "Python 3.9.2 64-bit",
   "metadata": {
    "interpreter": {
     "hash": "aee8b7b246df8f9039afb4144a1f6fd8d2ca17a180786b69acc140d282b71a49"
    }
   }
  }
 },
 "nbformat": 4,
 "nbformat_minor": 2,
 "cells": [
  {
   "cell_type": "code",
   "execution_count": 1,
   "metadata": {},
   "outputs": [],
   "source": [
    "import os\n",
    "import glob\n",
    "import numpy as np\n",
    "import pandas as pd\n",
    "from functions import metrics, measure_csv_df\n",
    "from sklearn.ensemble import RandomForestClassifier\n",
    "from sklearn.metrics import accuracy_score\n",
    "os.chdir(\"/Users/pestephan/Documents/GitHub/Machine-Learning-using-Sports-Data/Predicting-PremLeague-Outcomes-With-ML/files/Datasets\")"
   ]
  },
  {
   "source": [
    "Data Taken from http://www.football-data.co.uk/englandm.php"
   ],
   "cell_type": "markdown",
   "metadata": {}
  },
  {
   "cell_type": "code",
   "execution_count": 2,
   "metadata": {},
   "outputs": [],
   "source": [
    "extension = 'csv'\n",
    "all_filenames = [i for i in glob.glob('*.{}'.format(extension))]"
   ]
  },
  {
   "cell_type": "code",
   "execution_count": 3,
   "metadata": {},
   "outputs": [],
   "source": [
    "#combine all files in the list\n",
    "master_sheet = pd.concat([pd.read_csv(f) for f in all_filenames ])\n",
    "#export to csv\n",
    "master_sheet.to_csv( \"master_sheet.csv\", index=False, encoding='utf-8-sig')"
   ]
  },
  {
   "source": [
    "Reduce table to using columns needed for the model\n",
    "\n",
    "Columns Required:\n",
    "\n",
    "Date, Time HomeTeam, AwayTeam, FullTimeHG, FullTimeAG, FullTimeRresults, HalfTimeHG, HalfTimeAG, HomeShots, AwayShots, HomeShotsTarger, AwayShotsTarger, HomeCorners, AwayCorners, HomeFouls, AwayFouls, HomeRed, AwayRed\n",
    "\n",
    "Columns To Consider:\n",
    "\n",
    "Attendance, Referee"
   ],
   "cell_type": "markdown",
   "metadata": {}
  },
  {
   "cell_type": "code",
   "execution_count": 4,
   "metadata": {},
   "outputs": [],
   "source": [
    "subset_master = master_sheet[[\"Date\", \"Time\", \"HomeTeam\", \"AwayTeam\", \"FTHG\", \"FTAG\", \"FTR\", \"HTHG\", \"HTAG\", \"HS\", \"AS\", \"HST\", \"AST\", \"HC\", \"AC\", \"HF\", \"AF\", \"HR\", \"AR\"]]\n",
    "subset_master = subset_master.fillna(0)\n",
    "# 0 = Home Wins, 1 = Draw, 2 = Away Wins\n",
    "subset_master.FTR.replace(['H', 'D', 'A'], [0, 1, 2], inplace = True)"
   ]
  },
  {
   "cell_type": "code",
   "execution_count": 5,
   "metadata": {},
   "outputs": [
    {
     "output_type": "execute_result",
     "data": {
      "text/plain": [
       "       Date Time   HomeTeam     AwayTeam  FTHG  ...   AC    HF    AF   HR   AR\n",
       "0  13/08/11    0  Blackburn       Wolves   1.0  ...  6.0  14.0  10.0  0.0  0.0\n",
       "1  13/08/11    0     Fulham  Aston Villa   0.0  ...  3.0  10.0  18.0  0.0  0.0\n",
       "2  13/08/11    0  Liverpool   Sunderland   1.0  ...  3.0  17.0  12.0  0.0  0.0\n",
       "3  13/08/11    0  Newcastle      Arsenal   0.0  ...  5.0   9.0  11.0  0.0  1.0\n",
       "4  13/08/11    0        QPR       Bolton   0.0  ...  2.0   9.0  16.0  1.0  0.0\n",
       "\n",
       "[5 rows x 19 columns]"
      ],
      "text/html": "<div>\n<style scoped>\n    .dataframe tbody tr th:only-of-type {\n        vertical-align: middle;\n    }\n\n    .dataframe tbody tr th {\n        vertical-align: top;\n    }\n\n    .dataframe thead th {\n        text-align: right;\n    }\n</style>\n<table border=\"1\" class=\"dataframe\">\n  <thead>\n    <tr style=\"text-align: right;\">\n      <th></th>\n      <th>Date</th>\n      <th>Time</th>\n      <th>HomeTeam</th>\n      <th>AwayTeam</th>\n      <th>FTHG</th>\n      <th>FTAG</th>\n      <th>FTR</th>\n      <th>HTHG</th>\n      <th>HTAG</th>\n      <th>HS</th>\n      <th>AS</th>\n      <th>HST</th>\n      <th>AST</th>\n      <th>HC</th>\n      <th>AC</th>\n      <th>HF</th>\n      <th>AF</th>\n      <th>HR</th>\n      <th>AR</th>\n    </tr>\n  </thead>\n  <tbody>\n    <tr>\n      <th>0</th>\n      <td>13/08/11</td>\n      <td>0</td>\n      <td>Blackburn</td>\n      <td>Wolves</td>\n      <td>1.0</td>\n      <td>2.0</td>\n      <td>2</td>\n      <td>1.0</td>\n      <td>1.0</td>\n      <td>16.0</td>\n      <td>13.0</td>\n      <td>8.0</td>\n      <td>4.0</td>\n      <td>12.0</td>\n      <td>6.0</td>\n      <td>14.0</td>\n      <td>10.0</td>\n      <td>0.0</td>\n      <td>0.0</td>\n    </tr>\n    <tr>\n      <th>1</th>\n      <td>13/08/11</td>\n      <td>0</td>\n      <td>Fulham</td>\n      <td>Aston Villa</td>\n      <td>0.0</td>\n      <td>0.0</td>\n      <td>1</td>\n      <td>0.0</td>\n      <td>0.0</td>\n      <td>13.0</td>\n      <td>7.0</td>\n      <td>9.0</td>\n      <td>1.0</td>\n      <td>2.0</td>\n      <td>3.0</td>\n      <td>10.0</td>\n      <td>18.0</td>\n      <td>0.0</td>\n      <td>0.0</td>\n    </tr>\n    <tr>\n      <th>2</th>\n      <td>13/08/11</td>\n      <td>0</td>\n      <td>Liverpool</td>\n      <td>Sunderland</td>\n      <td>1.0</td>\n      <td>1.0</td>\n      <td>1</td>\n      <td>1.0</td>\n      <td>0.0</td>\n      <td>11.0</td>\n      <td>15.0</td>\n      <td>4.0</td>\n      <td>6.0</td>\n      <td>6.0</td>\n      <td>3.0</td>\n      <td>17.0</td>\n      <td>12.0</td>\n      <td>0.0</td>\n      <td>0.0</td>\n    </tr>\n    <tr>\n      <th>3</th>\n      <td>13/08/11</td>\n      <td>0</td>\n      <td>Newcastle</td>\n      <td>Arsenal</td>\n      <td>0.0</td>\n      <td>0.0</td>\n      <td>1</td>\n      <td>0.0</td>\n      <td>0.0</td>\n      <td>6.0</td>\n      <td>9.0</td>\n      <td>1.0</td>\n      <td>4.0</td>\n      <td>2.0</td>\n      <td>5.0</td>\n      <td>9.0</td>\n      <td>11.0</td>\n      <td>0.0</td>\n      <td>1.0</td>\n    </tr>\n    <tr>\n      <th>4</th>\n      <td>13/08/11</td>\n      <td>0</td>\n      <td>QPR</td>\n      <td>Bolton</td>\n      <td>0.0</td>\n      <td>4.0</td>\n      <td>2</td>\n      <td>0.0</td>\n      <td>1.0</td>\n      <td>13.0</td>\n      <td>13.0</td>\n      <td>7.0</td>\n      <td>7.0</td>\n      <td>3.0</td>\n      <td>2.0</td>\n      <td>9.0</td>\n      <td>16.0</td>\n      <td>1.0</td>\n      <td>0.0</td>\n    </tr>\n  </tbody>\n</table>\n</div>"
     },
     "metadata": {},
     "execution_count": 5
    }
   ],
   "source": [
    "subset_master.head()"
   ]
  },
  {
   "cell_type": "code",
   "execution_count": 6,
   "metadata": {},
   "outputs": [],
   "source": [
    "msk = np.random.rand(len(subset_master)) < 0.75\n",
    "\n",
    "train_df = subset_master[msk]\n",
    "test_df = subset_master[~msk]\n",
    "\n",
    "X_train = train_df.drop(columns = ['Date', 'Time', 'HomeTeam', 'AwayTeam', 'FTHG', 'FTAG', 'FTR', \"HTHG\", \"HTAG\"])\n",
    "y_train = train_df[['FTR']] \n",
    "X_test = test_df.drop(columns = ['Date', 'Time', 'HomeTeam', 'AwayTeam', 'FTHG', 'FTAG', 'FTR', \"HTHG\", \"HTAG\", ])\n",
    "y_test = test_df[['FTR']]"
   ]
  },
  {
   "cell_type": "code",
   "execution_count": 7,
   "metadata": {},
   "outputs": [],
   "source": [
    "clf = RandomForestClassifier(n_estimators = 2000, max_depth=3, random_state=0)\n",
    "clf.fit(X_train, y_train)\n",
    "\n",
    "y_pred = clf.predict_proba(X_test)\n",
    "y_pred = pd.DataFrame(y_pred)"
   ]
  },
  {
   "source": [
    "Identifying how often Predicted Results decided the outcome (win, draw, away) against the actual results)"
   ],
   "cell_type": "markdown",
   "metadata": {}
  },
  {
   "cell_type": "code",
   "execution_count": 8,
   "metadata": {},
   "outputs": [
    {
     "output_type": "stream",
     "name": "stdout",
     "text": [
      "False    58.262844\nTrue     41.737156\nName: Comparison, dtype: float64\n0    45.574748\n2    30.148696\n1    24.276556\nName: FTR, dtype: float64\n0    72.978809\n2    27.021191\nName: PredResult, dtype: float64\n"
     ]
    }
   ],
   "source": [
    "metrics(subset_master, y_pred)"
   ]
  },
  {
   "cell_type": "code",
   "execution_count": 9,
   "metadata": {},
   "outputs": [
    {
     "output_type": "execute_result",
     "data": {
      "text/plain": [
       "         Date Time   HomeTeam  ... HomeWinPerc  DrawPerc  AwayPerc\n",
       "0    13/08/11    0  Blackburn  ...    0.509844  0.238583  0.251573\n",
       "1    13/08/11    0     Fulham  ...    0.655737  0.213033  0.131230\n",
       "2    13/08/11    0  Liverpool  ...    0.469419  0.233757  0.296823\n",
       "3    13/08/11    0  Newcastle  ...    0.578123  0.212960  0.208917\n",
       "4    13/08/11    0        QPR  ...    0.558836  0.219944  0.221220\n",
       "..        ...  ...        ...  ...         ...       ...       ...\n",
       "376  24/05/15    0  Leicester  ...    0.362660  0.287559  0.349781\n",
       "377  24/05/15    0   Man City  ...    0.713004  0.185811  0.101185\n",
       "378  24/05/15    0  Newcastle  ...    0.234429  0.242422  0.523149\n",
       "379  24/05/15    0      Stoke  ...    0.605770  0.240989  0.153242\n",
       "380         0    0          0  ...    0.550004  0.241922  0.208074\n",
       "\n",
       "[164391 rows x 22 columns]"
      ],
      "text/html": "<div>\n<style scoped>\n    .dataframe tbody tr th:only-of-type {\n        vertical-align: middle;\n    }\n\n    .dataframe tbody tr th {\n        vertical-align: top;\n    }\n\n    .dataframe thead th {\n        text-align: right;\n    }\n</style>\n<table border=\"1\" class=\"dataframe\">\n  <thead>\n    <tr style=\"text-align: right;\">\n      <th></th>\n      <th>Date</th>\n      <th>Time</th>\n      <th>HomeTeam</th>\n      <th>AwayTeam</th>\n      <th>FTHG</th>\n      <th>FTAG</th>\n      <th>FTR</th>\n      <th>HTHG</th>\n      <th>HTAG</th>\n      <th>HS</th>\n      <th>AS</th>\n      <th>HST</th>\n      <th>AST</th>\n      <th>HC</th>\n      <th>AC</th>\n      <th>HF</th>\n      <th>AF</th>\n      <th>HR</th>\n      <th>AR</th>\n      <th>HomeWinPerc</th>\n      <th>DrawPerc</th>\n      <th>AwayPerc</th>\n    </tr>\n  </thead>\n  <tbody>\n    <tr>\n      <th>0</th>\n      <td>13/08/11</td>\n      <td>0</td>\n      <td>Blackburn</td>\n      <td>Wolves</td>\n      <td>1.0</td>\n      <td>2.0</td>\n      <td>2</td>\n      <td>1.0</td>\n      <td>1.0</td>\n      <td>16.0</td>\n      <td>13.0</td>\n      <td>8.0</td>\n      <td>4.0</td>\n      <td>12.0</td>\n      <td>6.0</td>\n      <td>14.0</td>\n      <td>10.0</td>\n      <td>0.0</td>\n      <td>0.0</td>\n      <td>0.509844</td>\n      <td>0.238583</td>\n      <td>0.251573</td>\n    </tr>\n    <tr>\n      <th>1</th>\n      <td>13/08/11</td>\n      <td>0</td>\n      <td>Fulham</td>\n      <td>Aston Villa</td>\n      <td>0.0</td>\n      <td>0.0</td>\n      <td>1</td>\n      <td>0.0</td>\n      <td>0.0</td>\n      <td>13.0</td>\n      <td>7.0</td>\n      <td>9.0</td>\n      <td>1.0</td>\n      <td>2.0</td>\n      <td>3.0</td>\n      <td>10.0</td>\n      <td>18.0</td>\n      <td>0.0</td>\n      <td>0.0</td>\n      <td>0.655737</td>\n      <td>0.213033</td>\n      <td>0.131230</td>\n    </tr>\n    <tr>\n      <th>2</th>\n      <td>13/08/11</td>\n      <td>0</td>\n      <td>Liverpool</td>\n      <td>Sunderland</td>\n      <td>1.0</td>\n      <td>1.0</td>\n      <td>1</td>\n      <td>1.0</td>\n      <td>0.0</td>\n      <td>11.0</td>\n      <td>15.0</td>\n      <td>4.0</td>\n      <td>6.0</td>\n      <td>6.0</td>\n      <td>3.0</td>\n      <td>17.0</td>\n      <td>12.0</td>\n      <td>0.0</td>\n      <td>0.0</td>\n      <td>0.469419</td>\n      <td>0.233757</td>\n      <td>0.296823</td>\n    </tr>\n    <tr>\n      <th>3</th>\n      <td>13/08/11</td>\n      <td>0</td>\n      <td>Newcastle</td>\n      <td>Arsenal</td>\n      <td>0.0</td>\n      <td>0.0</td>\n      <td>1</td>\n      <td>0.0</td>\n      <td>0.0</td>\n      <td>6.0</td>\n      <td>9.0</td>\n      <td>1.0</td>\n      <td>4.0</td>\n      <td>2.0</td>\n      <td>5.0</td>\n      <td>9.0</td>\n      <td>11.0</td>\n      <td>0.0</td>\n      <td>1.0</td>\n      <td>0.578123</td>\n      <td>0.212960</td>\n      <td>0.208917</td>\n    </tr>\n    <tr>\n      <th>4</th>\n      <td>13/08/11</td>\n      <td>0</td>\n      <td>QPR</td>\n      <td>Bolton</td>\n      <td>0.0</td>\n      <td>4.0</td>\n      <td>2</td>\n      <td>0.0</td>\n      <td>1.0</td>\n      <td>13.0</td>\n      <td>13.0</td>\n      <td>7.0</td>\n      <td>7.0</td>\n      <td>3.0</td>\n      <td>2.0</td>\n      <td>9.0</td>\n      <td>16.0</td>\n      <td>1.0</td>\n      <td>0.0</td>\n      <td>0.558836</td>\n      <td>0.219944</td>\n      <td>0.221220</td>\n    </tr>\n    <tr>\n      <th>...</th>\n      <td>...</td>\n      <td>...</td>\n      <td>...</td>\n      <td>...</td>\n      <td>...</td>\n      <td>...</td>\n      <td>...</td>\n      <td>...</td>\n      <td>...</td>\n      <td>...</td>\n      <td>...</td>\n      <td>...</td>\n      <td>...</td>\n      <td>...</td>\n      <td>...</td>\n      <td>...</td>\n      <td>...</td>\n      <td>...</td>\n      <td>...</td>\n      <td>...</td>\n      <td>...</td>\n      <td>...</td>\n    </tr>\n    <tr>\n      <th>376</th>\n      <td>24/05/15</td>\n      <td>0</td>\n      <td>Leicester</td>\n      <td>QPR</td>\n      <td>5.0</td>\n      <td>1.0</td>\n      <td>0</td>\n      <td>2.0</td>\n      <td>0.0</td>\n      <td>22.0</td>\n      <td>18.0</td>\n      <td>7.0</td>\n      <td>2.0</td>\n      <td>5.0</td>\n      <td>6.0</td>\n      <td>7.0</td>\n      <td>6.0</td>\n      <td>0.0</td>\n      <td>0.0</td>\n      <td>0.362660</td>\n      <td>0.287559</td>\n      <td>0.349781</td>\n    </tr>\n    <tr>\n      <th>377</th>\n      <td>24/05/15</td>\n      <td>0</td>\n      <td>Man City</td>\n      <td>Southampton</td>\n      <td>2.0</td>\n      <td>0.0</td>\n      <td>0</td>\n      <td>1.0</td>\n      <td>0.0</td>\n      <td>15.0</td>\n      <td>13.0</td>\n      <td>6.0</td>\n      <td>4.0</td>\n      <td>8.0</td>\n      <td>4.0</td>\n      <td>13.0</td>\n      <td>8.0</td>\n      <td>0.0</td>\n      <td>0.0</td>\n      <td>0.713004</td>\n      <td>0.185811</td>\n      <td>0.101185</td>\n    </tr>\n    <tr>\n      <th>378</th>\n      <td>24/05/15</td>\n      <td>0</td>\n      <td>Newcastle</td>\n      <td>West Ham</td>\n      <td>2.0</td>\n      <td>0.0</td>\n      <td>0</td>\n      <td>0.0</td>\n      <td>0.0</td>\n      <td>17.0</td>\n      <td>4.0</td>\n      <td>4.0</td>\n      <td>1.0</td>\n      <td>2.0</td>\n      <td>3.0</td>\n      <td>9.0</td>\n      <td>9.0</td>\n      <td>0.0</td>\n      <td>0.0</td>\n      <td>0.234429</td>\n      <td>0.242422</td>\n      <td>0.523149</td>\n    </tr>\n    <tr>\n      <th>379</th>\n      <td>24/05/15</td>\n      <td>0</td>\n      <td>Stoke</td>\n      <td>Liverpool</td>\n      <td>6.0</td>\n      <td>1.0</td>\n      <td>0</td>\n      <td>5.0</td>\n      <td>0.0</td>\n      <td>15.0</td>\n      <td>13.0</td>\n      <td>9.0</td>\n      <td>4.0</td>\n      <td>3.0</td>\n      <td>9.0</td>\n      <td>13.0</td>\n      <td>4.0</td>\n      <td>0.0</td>\n      <td>0.0</td>\n      <td>0.605770</td>\n      <td>0.240989</td>\n      <td>0.153242</td>\n    </tr>\n    <tr>\n      <th>380</th>\n      <td>0</td>\n      <td>0</td>\n      <td>0</td>\n      <td>0</td>\n      <td>0.0</td>\n      <td>0.0</td>\n      <td>0</td>\n      <td>0.0</td>\n      <td>0.0</td>\n      <td>0.0</td>\n      <td>0.0</td>\n      <td>0.0</td>\n      <td>0.0</td>\n      <td>0.0</td>\n      <td>0.0</td>\n      <td>0.0</td>\n      <td>0.0</td>\n      <td>0.0</td>\n      <td>0.0</td>\n      <td>0.550004</td>\n      <td>0.241922</td>\n      <td>0.208074</td>\n    </tr>\n  </tbody>\n</table>\n<p>164391 rows × 22 columns</p>\n</div>"
     },
     "metadata": {},
     "execution_count": 9
    }
   ],
   "source": [
    "subset_master"
   ]
  },
  {
   "source": [
    "Columns Required for predicting:\n",
    "\n",
    "HomeShots, AwayShots, HomeShotsTarger, AwayShotsTarger, HomeCorners, AwayCorners, HomeFouls, AwayFouls, HomeRed, AwayRed"
   ],
   "cell_type": "markdown",
   "metadata": {}
  },
  {
   "cell_type": "code",
   "execution_count": 11,
   "metadata": {},
   "outputs": [],
   "source": [
    "current_season = pd.read_csv(\"/Users/pestephan/Documents/GitHub/Machine-Learning-using-Sports-Data/Predicting-PremLeague-Outcomes-With-ML/2020-2021.csv\")"
   ]
  },
  {
   "cell_type": "code",
   "execution_count": 12,
   "metadata": {},
   "outputs": [
    {
     "output_type": "execute_result",
     "data": {
      "text/plain": [
       "           Date   Time          HomeTeam  ... HomeWinPerc  DrawPerc  AwayPerc\n",
       "0    12/09/2020  12:30            Fulham  ...    0.210958  0.240478  0.548564\n",
       "1    12/09/2020  15:00    Crystal Palace  ...    0.305771  0.269668  0.424560\n",
       "2    12/09/2020  17:30         Liverpool  ...    0.583436  0.228945  0.187619\n",
       "3    12/09/2020  20:00          West Ham  ...    0.439780  0.289771  0.270449\n",
       "4    13/09/2020  14:00         West Brom  ...    0.221845  0.234098  0.544058\n",
       "..          ...    ...               ...  ...         ...       ...       ...\n",
       "220  07/02/2021  12:00         Tottenham  ...    0.637466  0.229228  0.133306\n",
       "221  07/02/2021  14:00            Wolves  ...    0.341149  0.304392  0.354459\n",
       "222  07/02/2021  16:30         Liverpool  ...    0.316702  0.259718  0.423580\n",
       "223  07/02/2021  19:15  Sheffield United  ...    0.416776  0.305285  0.277940\n",
       "224  08/02/2021  20:00             Leeds  ...    0.612274  0.211109  0.176617\n",
       "\n",
       "[225 rows x 22 columns]"
      ],
      "text/html": "<div>\n<style scoped>\n    .dataframe tbody tr th:only-of-type {\n        vertical-align: middle;\n    }\n\n    .dataframe tbody tr th {\n        vertical-align: top;\n    }\n\n    .dataframe thead th {\n        text-align: right;\n    }\n</style>\n<table border=\"1\" class=\"dataframe\">\n  <thead>\n    <tr style=\"text-align: right;\">\n      <th></th>\n      <th>Date</th>\n      <th>Time</th>\n      <th>HomeTeam</th>\n      <th>AwayTeam</th>\n      <th>FTHG</th>\n      <th>FTAG</th>\n      <th>FTR</th>\n      <th>HTHG</th>\n      <th>HTAG</th>\n      <th>HS</th>\n      <th>AS</th>\n      <th>HST</th>\n      <th>AST</th>\n      <th>HC</th>\n      <th>AC</th>\n      <th>HF</th>\n      <th>AF</th>\n      <th>HR</th>\n      <th>AR</th>\n      <th>HomeWinPerc</th>\n      <th>DrawPerc</th>\n      <th>AwayPerc</th>\n    </tr>\n  </thead>\n  <tbody>\n    <tr>\n      <th>0</th>\n      <td>12/09/2020</td>\n      <td>12:30</td>\n      <td>Fulham</td>\n      <td>Arsenal</td>\n      <td>0</td>\n      <td>3</td>\n      <td>A</td>\n      <td>0</td>\n      <td>1</td>\n      <td>5</td>\n      <td>13</td>\n      <td>2</td>\n      <td>6</td>\n      <td>2</td>\n      <td>3</td>\n      <td>12</td>\n      <td>12</td>\n      <td>0</td>\n      <td>0</td>\n      <td>0.210958</td>\n      <td>0.240478</td>\n      <td>0.548564</td>\n    </tr>\n    <tr>\n      <th>1</th>\n      <td>12/09/2020</td>\n      <td>15:00</td>\n      <td>Crystal Palace</td>\n      <td>Southampton</td>\n      <td>1</td>\n      <td>0</td>\n      <td>H</td>\n      <td>1</td>\n      <td>0</td>\n      <td>5</td>\n      <td>9</td>\n      <td>3</td>\n      <td>5</td>\n      <td>7</td>\n      <td>3</td>\n      <td>14</td>\n      <td>11</td>\n      <td>0</td>\n      <td>0</td>\n      <td>0.305771</td>\n      <td>0.269668</td>\n      <td>0.424560</td>\n    </tr>\n    <tr>\n      <th>2</th>\n      <td>12/09/2020</td>\n      <td>17:30</td>\n      <td>Liverpool</td>\n      <td>Leeds</td>\n      <td>4</td>\n      <td>3</td>\n      <td>H</td>\n      <td>3</td>\n      <td>2</td>\n      <td>22</td>\n      <td>6</td>\n      <td>6</td>\n      <td>3</td>\n      <td>9</td>\n      <td>0</td>\n      <td>9</td>\n      <td>6</td>\n      <td>0</td>\n      <td>0</td>\n      <td>0.583436</td>\n      <td>0.228945</td>\n      <td>0.187619</td>\n    </tr>\n    <tr>\n      <th>3</th>\n      <td>12/09/2020</td>\n      <td>20:00</td>\n      <td>West Ham</td>\n      <td>Newcastle</td>\n      <td>0</td>\n      <td>2</td>\n      <td>A</td>\n      <td>0</td>\n      <td>0</td>\n      <td>15</td>\n      <td>15</td>\n      <td>3</td>\n      <td>2</td>\n      <td>8</td>\n      <td>7</td>\n      <td>13</td>\n      <td>7</td>\n      <td>0</td>\n      <td>0</td>\n      <td>0.439780</td>\n      <td>0.289771</td>\n      <td>0.270449</td>\n    </tr>\n    <tr>\n      <th>4</th>\n      <td>13/09/2020</td>\n      <td>14:00</td>\n      <td>West Brom</td>\n      <td>Leicester</td>\n      <td>0</td>\n      <td>3</td>\n      <td>A</td>\n      <td>0</td>\n      <td>0</td>\n      <td>7</td>\n      <td>13</td>\n      <td>1</td>\n      <td>7</td>\n      <td>2</td>\n      <td>5</td>\n      <td>12</td>\n      <td>9</td>\n      <td>0</td>\n      <td>0</td>\n      <td>0.221845</td>\n      <td>0.234098</td>\n      <td>0.544058</td>\n    </tr>\n    <tr>\n      <th>...</th>\n      <td>...</td>\n      <td>...</td>\n      <td>...</td>\n      <td>...</td>\n      <td>...</td>\n      <td>...</td>\n      <td>...</td>\n      <td>...</td>\n      <td>...</td>\n      <td>...</td>\n      <td>...</td>\n      <td>...</td>\n      <td>...</td>\n      <td>...</td>\n      <td>...</td>\n      <td>...</td>\n      <td>...</td>\n      <td>...</td>\n      <td>...</td>\n      <td>...</td>\n      <td>...</td>\n      <td>...</td>\n    </tr>\n    <tr>\n      <th>220</th>\n      <td>07/02/2021</td>\n      <td>12:00</td>\n      <td>Tottenham</td>\n      <td>West Brom</td>\n      <td>2</td>\n      <td>0</td>\n      <td>H</td>\n      <td>0</td>\n      <td>0</td>\n      <td>13</td>\n      <td>4</td>\n      <td>6</td>\n      <td>1</td>\n      <td>8</td>\n      <td>0</td>\n      <td>16</td>\n      <td>12</td>\n      <td>0</td>\n      <td>0</td>\n      <td>0.637466</td>\n      <td>0.229228</td>\n      <td>0.133306</td>\n    </tr>\n    <tr>\n      <th>221</th>\n      <td>07/02/2021</td>\n      <td>14:00</td>\n      <td>Wolves</td>\n      <td>Leicester</td>\n      <td>0</td>\n      <td>0</td>\n      <td>D</td>\n      <td>0</td>\n      <td>0</td>\n      <td>13</td>\n      <td>13</td>\n      <td>1</td>\n      <td>3</td>\n      <td>8</td>\n      <td>2</td>\n      <td>11</td>\n      <td>15</td>\n      <td>0</td>\n      <td>0</td>\n      <td>0.341149</td>\n      <td>0.304392</td>\n      <td>0.354459</td>\n    </tr>\n    <tr>\n      <th>222</th>\n      <td>07/02/2021</td>\n      <td>16:30</td>\n      <td>Liverpool</td>\n      <td>Man City</td>\n      <td>1</td>\n      <td>4</td>\n      <td>A</td>\n      <td>0</td>\n      <td>0</td>\n      <td>8</td>\n      <td>8</td>\n      <td>3</td>\n      <td>5</td>\n      <td>6</td>\n      <td>1</td>\n      <td>13</td>\n      <td>8</td>\n      <td>0</td>\n      <td>0</td>\n      <td>0.316702</td>\n      <td>0.259718</td>\n      <td>0.423580</td>\n    </tr>\n    <tr>\n      <th>223</th>\n      <td>07/02/2021</td>\n      <td>19:15</td>\n      <td>Sheffield United</td>\n      <td>Chelsea</td>\n      <td>1</td>\n      <td>2</td>\n      <td>A</td>\n      <td>0</td>\n      <td>1</td>\n      <td>8</td>\n      <td>9</td>\n      <td>3</td>\n      <td>3</td>\n      <td>1</td>\n      <td>8</td>\n      <td>8</td>\n      <td>8</td>\n      <td>0</td>\n      <td>0</td>\n      <td>0.416776</td>\n      <td>0.305285</td>\n      <td>0.277940</td>\n    </tr>\n    <tr>\n      <th>224</th>\n      <td>08/02/2021</td>\n      <td>20:00</td>\n      <td>Leeds</td>\n      <td>Crystal Palace</td>\n      <td>2</td>\n      <td>0</td>\n      <td>H</td>\n      <td>1</td>\n      <td>0</td>\n      <td>17</td>\n      <td>8</td>\n      <td>7</td>\n      <td>3</td>\n      <td>5</td>\n      <td>3</td>\n      <td>7</td>\n      <td>8</td>\n      <td>0</td>\n      <td>0</td>\n      <td>0.612274</td>\n      <td>0.211109</td>\n      <td>0.176617</td>\n    </tr>\n  </tbody>\n</table>\n<p>225 rows × 22 columns</p>\n</div>"
     },
     "metadata": {},
     "execution_count": 12
    }
   ],
   "source": [
    "measure_csv_df(current_season, clf)"
   ]
  },
  {
   "cell_type": "code",
   "execution_count": 13,
   "metadata": {},
   "outputs": [
    {
     "output_type": "execute_result",
     "data": {
      "text/plain": [
       "           Date   Time          HomeTeam        AwayTeam  FTHG  FTAG FTR  \\\n",
       "0    12/09/2020  12:30            Fulham         Arsenal     0     3   A   \n",
       "1    12/09/2020  15:00    Crystal Palace     Southampton     1     0   H   \n",
       "2    12/09/2020  17:30         Liverpool           Leeds     4     3   H   \n",
       "3    12/09/2020  20:00          West Ham       Newcastle     0     2   A   \n",
       "4    13/09/2020  14:00         West Brom       Leicester     0     3   A   \n",
       "..          ...    ...               ...             ...   ...   ...  ..   \n",
       "220  07/02/2021  12:00         Tottenham       West Brom     2     0   H   \n",
       "221  07/02/2021  14:00            Wolves       Leicester     0     0   D   \n",
       "222  07/02/2021  16:30         Liverpool        Man City     1     4   A   \n",
       "223  07/02/2021  19:15  Sheffield United         Chelsea     1     2   A   \n",
       "224  08/02/2021  20:00             Leeds  Crystal Palace     2     0   H   \n",
       "\n",
       "     HTHG  HTAG  HS  ...  AST  HC  AC  HF  AF  HR  AR  HomeWinPerc  DrawPerc  \\\n",
       "0       0     1   5  ...    6   2   3  12  12   0   0     0.209975  0.240520   \n",
       "1       1     0   5  ...    5   7   3  14  11   0   0     0.308202  0.269979   \n",
       "2       3     2  22  ...    3   9   0   9   6   0   0     0.589815  0.227012   \n",
       "3       0     0  15  ...    2   8   7  13   7   0   0     0.440410  0.287641   \n",
       "4       0     0   7  ...    7   2   5  12   9   0   0     0.220927  0.233733   \n",
       "..    ...   ...  ..  ...  ...  ..  ..  ..  ..  ..  ..          ...       ...   \n",
       "220     0     0  13  ...    1   8   0  16  12   0   0     0.639213  0.228904   \n",
       "221     0     0  13  ...    3   8   2  11  15   0   0     0.339995  0.303626   \n",
       "222     0     0   8  ...    5   6   1  13   8   0   0     0.321171  0.261877   \n",
       "223     0     1   8  ...    3   1   8   8   8   0   0     0.417112  0.305421   \n",
       "224     1     0  17  ...    3   5   3   7   8   0   0     0.616611  0.210369   \n",
       "\n",
       "     AwayPerc  \n",
       "0    0.549505  \n",
       "1    0.421819  \n",
       "2    0.183173  \n",
       "3    0.271949  \n",
       "4    0.545340  \n",
       "..        ...  \n",
       "220  0.131883  \n",
       "221  0.356379  \n",
       "222  0.416953  \n",
       "223  0.277467  \n",
       "224  0.173020  \n",
       "\n",
       "[225 rows x 22 columns]"
      ],
      "text/html": "<div>\n<style scoped>\n    .dataframe tbody tr th:only-of-type {\n        vertical-align: middle;\n    }\n\n    .dataframe tbody tr th {\n        vertical-align: top;\n    }\n\n    .dataframe thead th {\n        text-align: right;\n    }\n</style>\n<table border=\"1\" class=\"dataframe\">\n  <thead>\n    <tr style=\"text-align: right;\">\n      <th></th>\n      <th>Date</th>\n      <th>Time</th>\n      <th>HomeTeam</th>\n      <th>AwayTeam</th>\n      <th>FTHG</th>\n      <th>FTAG</th>\n      <th>FTR</th>\n      <th>HTHG</th>\n      <th>HTAG</th>\n      <th>HS</th>\n      <th>...</th>\n      <th>AST</th>\n      <th>HC</th>\n      <th>AC</th>\n      <th>HF</th>\n      <th>AF</th>\n      <th>HR</th>\n      <th>AR</th>\n      <th>HomeWinPerc</th>\n      <th>DrawPerc</th>\n      <th>AwayPerc</th>\n    </tr>\n  </thead>\n  <tbody>\n    <tr>\n      <th>0</th>\n      <td>12/09/2020</td>\n      <td>12:30</td>\n      <td>Fulham</td>\n      <td>Arsenal</td>\n      <td>0</td>\n      <td>3</td>\n      <td>A</td>\n      <td>0</td>\n      <td>1</td>\n      <td>5</td>\n      <td>...</td>\n      <td>6</td>\n      <td>2</td>\n      <td>3</td>\n      <td>12</td>\n      <td>12</td>\n      <td>0</td>\n      <td>0</td>\n      <td>0.209975</td>\n      <td>0.240520</td>\n      <td>0.549505</td>\n    </tr>\n    <tr>\n      <th>1</th>\n      <td>12/09/2020</td>\n      <td>15:00</td>\n      <td>Crystal Palace</td>\n      <td>Southampton</td>\n      <td>1</td>\n      <td>0</td>\n      <td>H</td>\n      <td>1</td>\n      <td>0</td>\n      <td>5</td>\n      <td>...</td>\n      <td>5</td>\n      <td>7</td>\n      <td>3</td>\n      <td>14</td>\n      <td>11</td>\n      <td>0</td>\n      <td>0</td>\n      <td>0.308202</td>\n      <td>0.269979</td>\n      <td>0.421819</td>\n    </tr>\n    <tr>\n      <th>2</th>\n      <td>12/09/2020</td>\n      <td>17:30</td>\n      <td>Liverpool</td>\n      <td>Leeds</td>\n      <td>4</td>\n      <td>3</td>\n      <td>H</td>\n      <td>3</td>\n      <td>2</td>\n      <td>22</td>\n      <td>...</td>\n      <td>3</td>\n      <td>9</td>\n      <td>0</td>\n      <td>9</td>\n      <td>6</td>\n      <td>0</td>\n      <td>0</td>\n      <td>0.589815</td>\n      <td>0.227012</td>\n      <td>0.183173</td>\n    </tr>\n    <tr>\n      <th>3</th>\n      <td>12/09/2020</td>\n      <td>20:00</td>\n      <td>West Ham</td>\n      <td>Newcastle</td>\n      <td>0</td>\n      <td>2</td>\n      <td>A</td>\n      <td>0</td>\n      <td>0</td>\n      <td>15</td>\n      <td>...</td>\n      <td>2</td>\n      <td>8</td>\n      <td>7</td>\n      <td>13</td>\n      <td>7</td>\n      <td>0</td>\n      <td>0</td>\n      <td>0.440410</td>\n      <td>0.287641</td>\n      <td>0.271949</td>\n    </tr>\n    <tr>\n      <th>4</th>\n      <td>13/09/2020</td>\n      <td>14:00</td>\n      <td>West Brom</td>\n      <td>Leicester</td>\n      <td>0</td>\n      <td>3</td>\n      <td>A</td>\n      <td>0</td>\n      <td>0</td>\n      <td>7</td>\n      <td>...</td>\n      <td>7</td>\n      <td>2</td>\n      <td>5</td>\n      <td>12</td>\n      <td>9</td>\n      <td>0</td>\n      <td>0</td>\n      <td>0.220927</td>\n      <td>0.233733</td>\n      <td>0.545340</td>\n    </tr>\n    <tr>\n      <th>...</th>\n      <td>...</td>\n      <td>...</td>\n      <td>...</td>\n      <td>...</td>\n      <td>...</td>\n      <td>...</td>\n      <td>...</td>\n      <td>...</td>\n      <td>...</td>\n      <td>...</td>\n      <td>...</td>\n      <td>...</td>\n      <td>...</td>\n      <td>...</td>\n      <td>...</td>\n      <td>...</td>\n      <td>...</td>\n      <td>...</td>\n      <td>...</td>\n      <td>...</td>\n      <td>...</td>\n    </tr>\n    <tr>\n      <th>220</th>\n      <td>07/02/2021</td>\n      <td>12:00</td>\n      <td>Tottenham</td>\n      <td>West Brom</td>\n      <td>2</td>\n      <td>0</td>\n      <td>H</td>\n      <td>0</td>\n      <td>0</td>\n      <td>13</td>\n      <td>...</td>\n      <td>1</td>\n      <td>8</td>\n      <td>0</td>\n      <td>16</td>\n      <td>12</td>\n      <td>0</td>\n      <td>0</td>\n      <td>0.639213</td>\n      <td>0.228904</td>\n      <td>0.131883</td>\n    </tr>\n    <tr>\n      <th>221</th>\n      <td>07/02/2021</td>\n      <td>14:00</td>\n      <td>Wolves</td>\n      <td>Leicester</td>\n      <td>0</td>\n      <td>0</td>\n      <td>D</td>\n      <td>0</td>\n      <td>0</td>\n      <td>13</td>\n      <td>...</td>\n      <td>3</td>\n      <td>8</td>\n      <td>2</td>\n      <td>11</td>\n      <td>15</td>\n      <td>0</td>\n      <td>0</td>\n      <td>0.339995</td>\n      <td>0.303626</td>\n      <td>0.356379</td>\n    </tr>\n    <tr>\n      <th>222</th>\n      <td>07/02/2021</td>\n      <td>16:30</td>\n      <td>Liverpool</td>\n      <td>Man City</td>\n      <td>1</td>\n      <td>4</td>\n      <td>A</td>\n      <td>0</td>\n      <td>0</td>\n      <td>8</td>\n      <td>...</td>\n      <td>5</td>\n      <td>6</td>\n      <td>1</td>\n      <td>13</td>\n      <td>8</td>\n      <td>0</td>\n      <td>0</td>\n      <td>0.321171</td>\n      <td>0.261877</td>\n      <td>0.416953</td>\n    </tr>\n    <tr>\n      <th>223</th>\n      <td>07/02/2021</td>\n      <td>19:15</td>\n      <td>Sheffield United</td>\n      <td>Chelsea</td>\n      <td>1</td>\n      <td>2</td>\n      <td>A</td>\n      <td>0</td>\n      <td>1</td>\n      <td>8</td>\n      <td>...</td>\n      <td>3</td>\n      <td>1</td>\n      <td>8</td>\n      <td>8</td>\n      <td>8</td>\n      <td>0</td>\n      <td>0</td>\n      <td>0.417112</td>\n      <td>0.305421</td>\n      <td>0.277467</td>\n    </tr>\n    <tr>\n      <th>224</th>\n      <td>08/02/2021</td>\n      <td>20:00</td>\n      <td>Leeds</td>\n      <td>Crystal Palace</td>\n      <td>2</td>\n      <td>0</td>\n      <td>H</td>\n      <td>1</td>\n      <td>0</td>\n      <td>17</td>\n      <td>...</td>\n      <td>3</td>\n      <td>5</td>\n      <td>3</td>\n      <td>7</td>\n      <td>8</td>\n      <td>0</td>\n      <td>0</td>\n      <td>0.616611</td>\n      <td>0.210369</td>\n      <td>0.173020</td>\n    </tr>\n  </tbody>\n</table>\n<p>225 rows × 22 columns</p>\n</div>"
     },
     "metadata": {},
     "execution_count": 13
    }
   ],
   "source": [
    "#metrics(current_season, y_pred) -- Update y_pred variable with new one for 2021 season"
   ]
  },
  {
   "cell_type": "code",
   "execution_count": null,
   "metadata": {},
   "outputs": [],
   "source": []
  }
 ]
}