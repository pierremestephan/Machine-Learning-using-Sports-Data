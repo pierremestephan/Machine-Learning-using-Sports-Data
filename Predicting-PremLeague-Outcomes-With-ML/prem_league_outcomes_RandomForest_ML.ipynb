{
 "metadata": {
  "language_info": {
   "codemirror_mode": {
    "name": "ipython",
    "version": 3
   },
   "file_extension": ".py",
   "mimetype": "text/x-python",
   "name": "python",
   "nbconvert_exporter": "python",
   "pygments_lexer": "ipython3",
   "version": "3.9.2-final"
  },
  "orig_nbformat": 2,
  "kernelspec": {
   "name": "python3",
   "display_name": "Python 3.9.2 64-bit",
   "metadata": {
    "interpreter": {
     "hash": "aee8b7b246df8f9039afb4144a1f6fd8d2ca17a180786b69acc140d282b71a49"
    }
   }
  }
 },
 "nbformat": 4,
 "nbformat_minor": 2,
 "cells": [
  {
   "cell_type": "code",
   "execution_count": 1,
   "metadata": {},
   "outputs": [],
   "source": [
    "import os\n",
    "import glob\n",
    "import numpy as np\n",
    "import pandas as pd\n",
    "from functions import metrics\n",
    "from sklearn.ensemble import RandomForestClassifier\n",
    "from sklearn.metrics import accuracy_score\n",
    "os.chdir(\"/Users/pestephan/Documents/GitHub/Machine-Learning-using-Sports-Data/Predicting-PremLeague-Outcomes-With-ML/files/Datasets\")"
   ]
  },
  {
   "source": [
    "Data Taken from http://www.football-data.co.uk/englandm.php"
   ],
   "cell_type": "markdown",
   "metadata": {}
  },
  {
   "cell_type": "code",
   "execution_count": 2,
   "metadata": {},
   "outputs": [],
   "source": [
    "extension = 'csv'\n",
    "all_filenames = [i for i in glob.glob('*.{}'.format(extension))]"
   ]
  },
  {
   "cell_type": "code",
   "execution_count": 3,
   "metadata": {},
   "outputs": [],
   "source": [
    "#combine all files in the list\n",
    "master_sheet = pd.concat([pd.read_csv(f) for f in all_filenames ])\n",
    "#export to csv\n",
    "master_sheet.to_csv( \"master_sheet.csv\", index=False, encoding='utf-8-sig')"
   ]
  },
  {
   "source": [
    "Reduce table to using columns needed for the model\n",
    "\n",
    "Columns Required:\n",
    "\n",
    "Date, Time HomeTeam, AwayTeam, FullTimeHG, FullTimeAG, FullTimeRresults, HalfTimeHG, HalfTimeAG, HomeShots, AwayShots, HomeShotsTarger, AwayShotsTarger, HomeCorners, AwayCorners, HomeFouls, AwayFouls, HomeRed, AwayRed\n",
    "\n",
    "Columns To Consider:\n",
    "\n",
    "Attendance, Referee"
   ],
   "cell_type": "markdown",
   "metadata": {}
  },
  {
   "cell_type": "code",
   "execution_count": 4,
   "metadata": {},
   "outputs": [],
   "source": [
    "subset_master = master_sheet[[\"Date\", \"Time\", \"HomeTeam\", \"AwayTeam\", \"FTHG\", \"FTAG\", \"FTR\", \"HTHG\", \"HTAG\", \"HS\", \"AS\", \"HST\", \"AST\", \"HC\", \"AC\", \"HF\", \"AF\", \"HR\", \"AR\"]]\n",
    "subset_master = subset_master.fillna(0)\n",
    "# 0 = Home Wins, 1 = Draw, 2 = Away Wins\n",
    "subset_master.FTR.replace(['H', 'D', 'A'], [0, 1, 2], inplace = True)"
   ]
  },
  {
   "cell_type": "code",
   "execution_count": 5,
   "metadata": {},
   "outputs": [
    {
     "output_type": "execute_result",
     "data": {
      "text/plain": [
       "       Date Time   HomeTeam     AwayTeam  FTHG  FTAG  FTR  HTHG  HTAG    HS  \\\n",
       "0  13/08/11    0  Blackburn       Wolves   1.0   2.0    2   1.0   1.0  16.0   \n",
       "1  13/08/11    0     Fulham  Aston Villa   0.0   0.0    1   0.0   0.0  13.0   \n",
       "2  13/08/11    0  Liverpool   Sunderland   1.0   1.0    1   1.0   0.0  11.0   \n",
       "3  13/08/11    0  Newcastle      Arsenal   0.0   0.0    1   0.0   0.0   6.0   \n",
       "4  13/08/11    0        QPR       Bolton   0.0   4.0    2   0.0   1.0  13.0   \n",
       "\n",
       "     AS  HST  AST    HC   AC    HF    AF   HR   AR  \n",
       "0  13.0  8.0  4.0  12.0  6.0  14.0  10.0  0.0  0.0  \n",
       "1   7.0  9.0  1.0   2.0  3.0  10.0  18.0  0.0  0.0  \n",
       "2  15.0  4.0  6.0   6.0  3.0  17.0  12.0  0.0  0.0  \n",
       "3   9.0  1.0  4.0   2.0  5.0   9.0  11.0  0.0  1.0  \n",
       "4  13.0  7.0  7.0   3.0  2.0   9.0  16.0  1.0  0.0  "
      ],
      "text/html": "<div>\n<style scoped>\n    .dataframe tbody tr th:only-of-type {\n        vertical-align: middle;\n    }\n\n    .dataframe tbody tr th {\n        vertical-align: top;\n    }\n\n    .dataframe thead th {\n        text-align: right;\n    }\n</style>\n<table border=\"1\" class=\"dataframe\">\n  <thead>\n    <tr style=\"text-align: right;\">\n      <th></th>\n      <th>Date</th>\n      <th>Time</th>\n      <th>HomeTeam</th>\n      <th>AwayTeam</th>\n      <th>FTHG</th>\n      <th>FTAG</th>\n      <th>FTR</th>\n      <th>HTHG</th>\n      <th>HTAG</th>\n      <th>HS</th>\n      <th>AS</th>\n      <th>HST</th>\n      <th>AST</th>\n      <th>HC</th>\n      <th>AC</th>\n      <th>HF</th>\n      <th>AF</th>\n      <th>HR</th>\n      <th>AR</th>\n    </tr>\n  </thead>\n  <tbody>\n    <tr>\n      <th>0</th>\n      <td>13/08/11</td>\n      <td>0</td>\n      <td>Blackburn</td>\n      <td>Wolves</td>\n      <td>1.0</td>\n      <td>2.0</td>\n      <td>2</td>\n      <td>1.0</td>\n      <td>1.0</td>\n      <td>16.0</td>\n      <td>13.0</td>\n      <td>8.0</td>\n      <td>4.0</td>\n      <td>12.0</td>\n      <td>6.0</td>\n      <td>14.0</td>\n      <td>10.0</td>\n      <td>0.0</td>\n      <td>0.0</td>\n    </tr>\n    <tr>\n      <th>1</th>\n      <td>13/08/11</td>\n      <td>0</td>\n      <td>Fulham</td>\n      <td>Aston Villa</td>\n      <td>0.0</td>\n      <td>0.0</td>\n      <td>1</td>\n      <td>0.0</td>\n      <td>0.0</td>\n      <td>13.0</td>\n      <td>7.0</td>\n      <td>9.0</td>\n      <td>1.0</td>\n      <td>2.0</td>\n      <td>3.0</td>\n      <td>10.0</td>\n      <td>18.0</td>\n      <td>0.0</td>\n      <td>0.0</td>\n    </tr>\n    <tr>\n      <th>2</th>\n      <td>13/08/11</td>\n      <td>0</td>\n      <td>Liverpool</td>\n      <td>Sunderland</td>\n      <td>1.0</td>\n      <td>1.0</td>\n      <td>1</td>\n      <td>1.0</td>\n      <td>0.0</td>\n      <td>11.0</td>\n      <td>15.0</td>\n      <td>4.0</td>\n      <td>6.0</td>\n      <td>6.0</td>\n      <td>3.0</td>\n      <td>17.0</td>\n      <td>12.0</td>\n      <td>0.0</td>\n      <td>0.0</td>\n    </tr>\n    <tr>\n      <th>3</th>\n      <td>13/08/11</td>\n      <td>0</td>\n      <td>Newcastle</td>\n      <td>Arsenal</td>\n      <td>0.0</td>\n      <td>0.0</td>\n      <td>1</td>\n      <td>0.0</td>\n      <td>0.0</td>\n      <td>6.0</td>\n      <td>9.0</td>\n      <td>1.0</td>\n      <td>4.0</td>\n      <td>2.0</td>\n      <td>5.0</td>\n      <td>9.0</td>\n      <td>11.0</td>\n      <td>0.0</td>\n      <td>1.0</td>\n    </tr>\n    <tr>\n      <th>4</th>\n      <td>13/08/11</td>\n      <td>0</td>\n      <td>QPR</td>\n      <td>Bolton</td>\n      <td>0.0</td>\n      <td>4.0</td>\n      <td>2</td>\n      <td>0.0</td>\n      <td>1.0</td>\n      <td>13.0</td>\n      <td>13.0</td>\n      <td>7.0</td>\n      <td>7.0</td>\n      <td>3.0</td>\n      <td>2.0</td>\n      <td>9.0</td>\n      <td>16.0</td>\n      <td>1.0</td>\n      <td>0.0</td>\n    </tr>\n  </tbody>\n</table>\n</div>"
     },
     "metadata": {},
     "execution_count": 5
    }
   ],
   "source": [
    "subset_master.head()"
   ]
  },
  {
   "cell_type": "code",
   "execution_count": 6,
   "metadata": {},
   "outputs": [],
   "source": [
    "msk = np.random.rand(len(subset_master)) < 0.75\n",
    "\n",
    "train_df = subset_master[msk]\n",
    "test_df = subset_master[~msk]\n",
    "\n",
    "X_train = train_df.drop(columns = ['Date', 'Time', 'HomeTeam', 'AwayTeam', 'FTHG', 'FTAG', 'FTR', \"HTHG\", \"HTAG\"])\n",
    "y_train = train_df[['FTR']] \n",
    "X_test = test_df.drop(columns = ['Date', 'Time', 'HomeTeam', 'AwayTeam', 'FTHG', 'FTAG', 'FTR', \"HTHG\", \"HTAG\", ])\n",
    "y_test = test_df[['FTR']]"
   ]
  },
  {
   "cell_type": "code",
   "execution_count": 7,
   "metadata": {},
   "outputs": [],
   "source": [
    "clf = RandomForestClassifier(n_estimators = 5000, max_depth=3, random_state=0)\n",
    "clf.fit(X_train, y_train)\n",
    "\n",
    "y_pred = clf.predict_proba(X_test)\n",
    "y_pred = pd.DataFrame(y_pred)"
   ]
  },
  {
   "source": [
    "Identifying how often Predicted Results decided the outcome (win, draw, away) against the actual results)"
   ],
   "cell_type": "markdown",
   "metadata": {}
  },
  {
   "cell_type": "code",
   "execution_count": 8,
   "metadata": {},
   "outputs": [
    {
     "output_type": "stream",
     "name": "stdout",
     "text": [
      "False    58.924417\nTrue     41.075583\nName: Comparison, dtype: float64\n0    45.347694\n2    30.221401\n1    24.430905\nName: FTR, dtype: float64\n0    74.319365\n2    25.680635\nName: PredResult, dtype: float64\n"
     ]
    }
   ],
   "source": [
    "metrics(subset_master, y_pred)"
   ]
  },
  {
   "cell_type": "code",
   "execution_count": 9,
   "metadata": {},
   "outputs": [
    {
     "output_type": "execute_result",
     "data": {
      "text/plain": [
       "         Date Time   HomeTeam     AwayTeam  FTHG  FTAG  FTR  HTHG  HTAG    HS  \\\n",
       "0    13/08/11    0  Blackburn       Wolves   1.0   2.0    2   1.0   1.0  16.0   \n",
       "1    13/08/11    0     Fulham  Aston Villa   0.0   0.0    1   0.0   0.0  13.0   \n",
       "2    13/08/11    0  Liverpool   Sunderland   1.0   1.0    1   1.0   0.0  11.0   \n",
       "3    13/08/11    0  Newcastle      Arsenal   0.0   0.0    1   0.0   0.0   6.0   \n",
       "4    13/08/11    0        QPR       Bolton   0.0   4.0    2   0.0   1.0  13.0   \n",
       "..        ...  ...        ...          ...   ...   ...  ...   ...   ...   ...   \n",
       "376  24/05/15    0  Leicester          QPR   5.0   1.0    0   2.0   0.0  22.0   \n",
       "377  24/05/15    0   Man City  Southampton   2.0   0.0    0   1.0   0.0  15.0   \n",
       "378  24/05/15    0  Newcastle     West Ham   2.0   0.0    0   0.0   0.0  17.0   \n",
       "379  24/05/15    0      Stoke    Liverpool   6.0   1.0    0   5.0   0.0  15.0   \n",
       "380         0    0          0            0   0.0   0.0    0   0.0   0.0   0.0   \n",
       "\n",
       "     ...  AST    HC   AC    HF    AF   HR   AR  HomeWinPerc  DrawPerc  \\\n",
       "0    ...  4.0  12.0  6.0  14.0  10.0  0.0  0.0     0.519734  0.237229   \n",
       "1    ...  1.0   2.0  3.0  10.0  18.0  0.0  0.0     0.558578  0.215595   \n",
       "2    ...  6.0   6.0  3.0  17.0  12.0  0.0  0.0     0.447041  0.237071   \n",
       "3    ...  4.0   2.0  5.0   9.0  11.0  0.0  1.0     0.586295  0.212948   \n",
       "4    ...  7.0   3.0  2.0   9.0  16.0  1.0  0.0     0.482060  0.226718   \n",
       "..   ...  ...   ...  ...   ...   ...  ...  ...          ...       ...   \n",
       "376  ...  2.0   5.0  6.0   7.0   6.0  0.0  0.0     0.393982  0.288009   \n",
       "377  ...  4.0   8.0  4.0  13.0   8.0  0.0  0.0     0.231824  0.245533   \n",
       "378  ...  1.0   2.0  3.0   9.0   9.0  0.0  0.0     0.274482  0.253334   \n",
       "379  ...  4.0   3.0  9.0  13.0   4.0  0.0  0.0     0.488295  0.232633   \n",
       "380  ...  0.0   0.0  0.0   0.0   0.0  0.0  0.0     0.424264  0.306112   \n",
       "\n",
       "     AwayPerc  \n",
       "0    0.243037  \n",
       "1    0.225827  \n",
       "2    0.315887  \n",
       "3    0.200758  \n",
       "4    0.291222  \n",
       "..        ...  \n",
       "376  0.318009  \n",
       "377  0.522643  \n",
       "378  0.472184  \n",
       "379  0.279072  \n",
       "380  0.269624  \n",
       "\n",
       "[148962 rows x 22 columns]"
      ],
      "text/html": "<div>\n<style scoped>\n    .dataframe tbody tr th:only-of-type {\n        vertical-align: middle;\n    }\n\n    .dataframe tbody tr th {\n        vertical-align: top;\n    }\n\n    .dataframe thead th {\n        text-align: right;\n    }\n</style>\n<table border=\"1\" class=\"dataframe\">\n  <thead>\n    <tr style=\"text-align: right;\">\n      <th></th>\n      <th>Date</th>\n      <th>Time</th>\n      <th>HomeTeam</th>\n      <th>AwayTeam</th>\n      <th>FTHG</th>\n      <th>FTAG</th>\n      <th>FTR</th>\n      <th>HTHG</th>\n      <th>HTAG</th>\n      <th>HS</th>\n      <th>...</th>\n      <th>AST</th>\n      <th>HC</th>\n      <th>AC</th>\n      <th>HF</th>\n      <th>AF</th>\n      <th>HR</th>\n      <th>AR</th>\n      <th>HomeWinPerc</th>\n      <th>DrawPerc</th>\n      <th>AwayPerc</th>\n    </tr>\n  </thead>\n  <tbody>\n    <tr>\n      <th>0</th>\n      <td>13/08/11</td>\n      <td>0</td>\n      <td>Blackburn</td>\n      <td>Wolves</td>\n      <td>1.0</td>\n      <td>2.0</td>\n      <td>2</td>\n      <td>1.0</td>\n      <td>1.0</td>\n      <td>16.0</td>\n      <td>...</td>\n      <td>4.0</td>\n      <td>12.0</td>\n      <td>6.0</td>\n      <td>14.0</td>\n      <td>10.0</td>\n      <td>0.0</td>\n      <td>0.0</td>\n      <td>0.519734</td>\n      <td>0.237229</td>\n      <td>0.243037</td>\n    </tr>\n    <tr>\n      <th>1</th>\n      <td>13/08/11</td>\n      <td>0</td>\n      <td>Fulham</td>\n      <td>Aston Villa</td>\n      <td>0.0</td>\n      <td>0.0</td>\n      <td>1</td>\n      <td>0.0</td>\n      <td>0.0</td>\n      <td>13.0</td>\n      <td>...</td>\n      <td>1.0</td>\n      <td>2.0</td>\n      <td>3.0</td>\n      <td>10.0</td>\n      <td>18.0</td>\n      <td>0.0</td>\n      <td>0.0</td>\n      <td>0.558578</td>\n      <td>0.215595</td>\n      <td>0.225827</td>\n    </tr>\n    <tr>\n      <th>2</th>\n      <td>13/08/11</td>\n      <td>0</td>\n      <td>Liverpool</td>\n      <td>Sunderland</td>\n      <td>1.0</td>\n      <td>1.0</td>\n      <td>1</td>\n      <td>1.0</td>\n      <td>0.0</td>\n      <td>11.0</td>\n      <td>...</td>\n      <td>6.0</td>\n      <td>6.0</td>\n      <td>3.0</td>\n      <td>17.0</td>\n      <td>12.0</td>\n      <td>0.0</td>\n      <td>0.0</td>\n      <td>0.447041</td>\n      <td>0.237071</td>\n      <td>0.315887</td>\n    </tr>\n    <tr>\n      <th>3</th>\n      <td>13/08/11</td>\n      <td>0</td>\n      <td>Newcastle</td>\n      <td>Arsenal</td>\n      <td>0.0</td>\n      <td>0.0</td>\n      <td>1</td>\n      <td>0.0</td>\n      <td>0.0</td>\n      <td>6.0</td>\n      <td>...</td>\n      <td>4.0</td>\n      <td>2.0</td>\n      <td>5.0</td>\n      <td>9.0</td>\n      <td>11.0</td>\n      <td>0.0</td>\n      <td>1.0</td>\n      <td>0.586295</td>\n      <td>0.212948</td>\n      <td>0.200758</td>\n    </tr>\n    <tr>\n      <th>4</th>\n      <td>13/08/11</td>\n      <td>0</td>\n      <td>QPR</td>\n      <td>Bolton</td>\n      <td>0.0</td>\n      <td>4.0</td>\n      <td>2</td>\n      <td>0.0</td>\n      <td>1.0</td>\n      <td>13.0</td>\n      <td>...</td>\n      <td>7.0</td>\n      <td>3.0</td>\n      <td>2.0</td>\n      <td>9.0</td>\n      <td>16.0</td>\n      <td>1.0</td>\n      <td>0.0</td>\n      <td>0.482060</td>\n      <td>0.226718</td>\n      <td>0.291222</td>\n    </tr>\n    <tr>\n      <th>...</th>\n      <td>...</td>\n      <td>...</td>\n      <td>...</td>\n      <td>...</td>\n      <td>...</td>\n      <td>...</td>\n      <td>...</td>\n      <td>...</td>\n      <td>...</td>\n      <td>...</td>\n      <td>...</td>\n      <td>...</td>\n      <td>...</td>\n      <td>...</td>\n      <td>...</td>\n      <td>...</td>\n      <td>...</td>\n      <td>...</td>\n      <td>...</td>\n      <td>...</td>\n      <td>...</td>\n    </tr>\n    <tr>\n      <th>376</th>\n      <td>24/05/15</td>\n      <td>0</td>\n      <td>Leicester</td>\n      <td>QPR</td>\n      <td>5.0</td>\n      <td>1.0</td>\n      <td>0</td>\n      <td>2.0</td>\n      <td>0.0</td>\n      <td>22.0</td>\n      <td>...</td>\n      <td>2.0</td>\n      <td>5.0</td>\n      <td>6.0</td>\n      <td>7.0</td>\n      <td>6.0</td>\n      <td>0.0</td>\n      <td>0.0</td>\n      <td>0.393982</td>\n      <td>0.288009</td>\n      <td>0.318009</td>\n    </tr>\n    <tr>\n      <th>377</th>\n      <td>24/05/15</td>\n      <td>0</td>\n      <td>Man City</td>\n      <td>Southampton</td>\n      <td>2.0</td>\n      <td>0.0</td>\n      <td>0</td>\n      <td>1.0</td>\n      <td>0.0</td>\n      <td>15.0</td>\n      <td>...</td>\n      <td>4.0</td>\n      <td>8.0</td>\n      <td>4.0</td>\n      <td>13.0</td>\n      <td>8.0</td>\n      <td>0.0</td>\n      <td>0.0</td>\n      <td>0.231824</td>\n      <td>0.245533</td>\n      <td>0.522643</td>\n    </tr>\n    <tr>\n      <th>378</th>\n      <td>24/05/15</td>\n      <td>0</td>\n      <td>Newcastle</td>\n      <td>West Ham</td>\n      <td>2.0</td>\n      <td>0.0</td>\n      <td>0</td>\n      <td>0.0</td>\n      <td>0.0</td>\n      <td>17.0</td>\n      <td>...</td>\n      <td>1.0</td>\n      <td>2.0</td>\n      <td>3.0</td>\n      <td>9.0</td>\n      <td>9.0</td>\n      <td>0.0</td>\n      <td>0.0</td>\n      <td>0.274482</td>\n      <td>0.253334</td>\n      <td>0.472184</td>\n    </tr>\n    <tr>\n      <th>379</th>\n      <td>24/05/15</td>\n      <td>0</td>\n      <td>Stoke</td>\n      <td>Liverpool</td>\n      <td>6.0</td>\n      <td>1.0</td>\n      <td>0</td>\n      <td>5.0</td>\n      <td>0.0</td>\n      <td>15.0</td>\n      <td>...</td>\n      <td>4.0</td>\n      <td>3.0</td>\n      <td>9.0</td>\n      <td>13.0</td>\n      <td>4.0</td>\n      <td>0.0</td>\n      <td>0.0</td>\n      <td>0.488295</td>\n      <td>0.232633</td>\n      <td>0.279072</td>\n    </tr>\n    <tr>\n      <th>380</th>\n      <td>0</td>\n      <td>0</td>\n      <td>0</td>\n      <td>0</td>\n      <td>0.0</td>\n      <td>0.0</td>\n      <td>0</td>\n      <td>0.0</td>\n      <td>0.0</td>\n      <td>0.0</td>\n      <td>...</td>\n      <td>0.0</td>\n      <td>0.0</td>\n      <td>0.0</td>\n      <td>0.0</td>\n      <td>0.0</td>\n      <td>0.0</td>\n      <td>0.0</td>\n      <td>0.424264</td>\n      <td>0.306112</td>\n      <td>0.269624</td>\n    </tr>\n  </tbody>\n</table>\n<p>148962 rows × 22 columns</p>\n</div>"
     },
     "metadata": {},
     "execution_count": 9
    }
   ],
   "source": [
    "subset_master"
   ]
  },
  {
   "cell_type": "code",
   "execution_count": 10,
   "metadata": {},
   "outputs": [
    {
     "output_type": "execute_result",
     "data": {
      "text/plain": [
       "Index(['Date', 'Time', 'HomeTeam', 'AwayTeam', 'FTHG', 'FTAG', 'FTR', 'HTHG',\n",
       "       'HTAG', 'HS', 'AS', 'HST', 'AST', 'HC', 'AC', 'HF', 'AF', 'HR', 'AR',\n",
       "       'HomeWinPerc', 'DrawPerc', 'AwayPerc'],\n",
       "      dtype='object')"
      ]
     },
     "metadata": {},
     "execution_count": 10
    }
   ],
   "source": [
    "subset_master.columns"
   ]
  },
  {
   "source": [
    "Columns Required for predicting:\n",
    "\n",
    "HomeShots, AwayShots, HomeShotsTarger, AwayShotsTarger, HomeCorners, AwayCorners, HomeFouls, AwayFouls, HomeRed, AwayRed"
   ],
   "cell_type": "markdown",
   "metadata": {}
  },
  {
   "cell_type": "code",
   "execution_count": 11,
   "metadata": {},
   "outputs": [],
   "source": [
    "#clf.predict(['HS', 'AS', 'HST', 'AST', 'HC', 'AC', 'HF', 'AF', 'HR', 'AR'])\n",
    "\n",
    "#clf.predict([8, 4, 6, 2, 6, 5, 3, 6, 0, 0])\n"
   ]
  },
  {
   "cell_type": "code",
   "execution_count": null,
   "metadata": {},
   "outputs": [],
   "source": []
  }
 ]
}