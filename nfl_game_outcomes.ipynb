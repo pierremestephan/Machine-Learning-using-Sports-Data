{
 "metadata": {
  "language_info": {
   "codemirror_mode": {
    "name": "ipython",
    "version": 3
   },
   "file_extension": ".py",
   "mimetype": "text/x-python",
   "name": "python",
   "nbconvert_exporter": "python",
   "pygments_lexer": "ipython3",
   "version": "3.8.3-final"
  },
  "orig_nbformat": 2,
  "kernelspec": {
   "name": "python38332bit6d1402e1c1034531a3495dca05498510",
   "display_name": "Python 3.8.3 32-bit",
   "language": "python"
  }
 },
 "nbformat": 4,
 "nbformat_minor": 2,
 "cells": [
  {
   "cell_type": "code",
   "execution_count": 1,
   "metadata": {},
   "outputs": [],
   "source": [
    "import numpy as np\n",
    "import pandas as pd\n",
    "from functions import get_schedule, game_data, game_data_up_to_week, agg_weekly_data\n",
    "from sportsreference.nfl.boxscore import Boxscores, Boxscore"
   ]
  },
  {
   "cell_type": "code",
   "execution_count": 8,
   "metadata": {},
   "outputs": [
    {
     "output_type": "execute_result",
     "data": {
      "text/plain": [
       "              attendance  away_first_downs  away_fourth_down_attempts  \\\n",
       "202009100kan       15895                21                          1   \n",
       "\n",
       "              away_fourth_down_conversions  away_fumbles  away_fumbles_lost  \\\n",
       "202009100kan                             1             0                  0   \n",
       "\n",
       "              away_interceptions  away_net_pass_yards  away_pass_attempts  \\\n",
       "202009100kan                   1                  242                  32   \n",
       "\n",
       "              away_pass_completions  ...  home_turnovers  \\\n",
       "202009100kan                     20  ...               0   \n",
       "\n",
       "              home_yards_from_penalties  home_yards_lost_from_sacks  \\\n",
       "202009100kan                          5                           8   \n",
       "\n",
       "              losing_abbr     losing_name            stadium    time  winner  \\\n",
       "202009100kan          HTX  Houston Texans  Arrowhead Stadium  8:20pm    Home   \n",
       "\n",
       "              winning_abbr        winning_name  \n",
       "202009100kan           KAN  Kansas City Chiefs  \n",
       "\n",
       "[1 rows x 58 columns]"
      ],
      "text/html": "<div>\n<style scoped>\n    .dataframe tbody tr th:only-of-type {\n        vertical-align: middle;\n    }\n\n    .dataframe tbody tr th {\n        vertical-align: top;\n    }\n\n    .dataframe thead th {\n        text-align: right;\n    }\n</style>\n<table border=\"1\" class=\"dataframe\">\n  <thead>\n    <tr style=\"text-align: right;\">\n      <th></th>\n      <th>attendance</th>\n      <th>away_first_downs</th>\n      <th>away_fourth_down_attempts</th>\n      <th>away_fourth_down_conversions</th>\n      <th>away_fumbles</th>\n      <th>away_fumbles_lost</th>\n      <th>away_interceptions</th>\n      <th>away_net_pass_yards</th>\n      <th>away_pass_attempts</th>\n      <th>away_pass_completions</th>\n      <th>...</th>\n      <th>home_turnovers</th>\n      <th>home_yards_from_penalties</th>\n      <th>home_yards_lost_from_sacks</th>\n      <th>losing_abbr</th>\n      <th>losing_name</th>\n      <th>stadium</th>\n      <th>time</th>\n      <th>winner</th>\n      <th>winning_abbr</th>\n      <th>winning_name</th>\n    </tr>\n  </thead>\n  <tbody>\n    <tr>\n      <th>202009100kan</th>\n      <td>15895</td>\n      <td>21</td>\n      <td>1</td>\n      <td>1</td>\n      <td>0</td>\n      <td>0</td>\n      <td>1</td>\n      <td>242</td>\n      <td>32</td>\n      <td>20</td>\n      <td>...</td>\n      <td>0</td>\n      <td>5</td>\n      <td>8</td>\n      <td>HTX</td>\n      <td>Houston Texans</td>\n      <td>Arrowhead Stadium</td>\n      <td>8:20pm</td>\n      <td>Home</td>\n      <td>KAN</td>\n      <td>Kansas City Chiefs</td>\n    </tr>\n  </tbody>\n</table>\n<p>1 rows × 58 columns</p>\n</div>"
     },
     "metadata": {},
     "execution_count": 8
    }
   ],
   "source": [
    "game_str = Boxscores(1,2020).games['1-2020'][0]['boxscore']\n",
    "game_stats = Boxscore(game_str)\n",
    "game_stats.dataframe"
   ]
  },
  {
   "cell_type": "code",
   "execution_count": null,
   "metadata": {},
   "outputs": [],
   "source": []
  }
 ]
}