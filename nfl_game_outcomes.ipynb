{
 "metadata": {
  "language_info": {
   "codemirror_mode": {
    "name": "ipython",
    "version": 3
   },
   "file_extension": ".py",
   "mimetype": "text/x-python",
   "name": "python",
   "nbconvert_exporter": "python",
   "pygments_lexer": "ipython3",
   "version": "3.8.3-final"
  },
  "orig_nbformat": 2,
  "kernelspec": {
   "name": "python38332bit6d1402e1c1034531a3495dca05498510",
   "display_name": "Python 3.8.3 32-bit",
   "language": "python"
  }
 },
 "nbformat": 4,
 "nbformat_minor": 2,
 "cells": [
  {
   "cell_type": "code",
   "execution_count": 1,
   "metadata": {},
   "outputs": [],
   "source": [
    "import numpy as np\n",
    "import pandas as pd\n",
    "from functions import get_schedule, game_data, game_data_up_to_week, agg_weekly_data, get_elo, merge_rankings, prep_test_train\n",
    "from sportsreference.nfl.boxscore import Boxscores, Boxscore"
   ]
  },
  {
   "cell_type": "code",
   "execution_count": null,
   "metadata": {},
   "outputs": [],
   "source": [
    "current_week = 9\n",
    "weeks = list(range(1,current_week + 1))\n",
    "year = 2020\n",
    "\n",
    "pred_games_df, comp_games_df = prep_test_train(current_week, weeks, year)"
   ]
  }
 ]
}